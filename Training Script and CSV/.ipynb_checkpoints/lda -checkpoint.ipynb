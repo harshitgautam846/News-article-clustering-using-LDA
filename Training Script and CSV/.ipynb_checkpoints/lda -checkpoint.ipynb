{
 "cells": [
  {
   "cell_type": "code",
   "execution_count": 1,
   "metadata": {},
   "outputs": [
    {
     "name": "stderr",
     "output_type": "stream",
     "text": [
      "/home/jack/anaconda3/lib/python3.7/site-packages/thinc/neural/train.py:7: DeprecationWarning: Using or importing the ABCs from 'collections' instead of from 'collections.abc' is deprecated, and in 3.8 it will stop working\n",
      "  from .optimizers import Adam, linear_decay\n",
      "/home/jack/anaconda3/lib/python3.7/site-packages/thinc/check.py:4: DeprecationWarning: Using or importing the ABCs from 'collections' instead of from 'collections.abc' is deprecated, and in 3.8 it will stop working\n",
      "  from collections import Sequence, Sized, Iterable, Callable\n",
      "/home/jack/anaconda3/lib/python3.7/site-packages/nltk/decorators.py:68: DeprecationWarning: `formatargspec` is deprecated since Python 3.5. Use `signature` and the `Signature` object directly\n",
      "  regargs, varargs, varkwargs, defaults, formatvalue=lambda value: \"\"\n"
     ]
    }
   ],
   "source": [
    "import re\n",
    "import numpy as np\n",
    "import pandas as pd\n",
    "from pprint import pprint\n",
    "import gensim\n",
    "import gensim.corpora as corpora\n",
    "from gensim.utils import simple_preprocess\n",
    "from gensim.models import CoherenceModel\n",
    "import pyLDAvis\n",
    "import pyLDAvis.gensim\n",
    "import matplotlib.pyplot as plt\n",
    "import spacy\n",
    "from nltk.util import ngrams\n",
    "\n",
    "%matplotlib inline\n",
    "\n",
    "from nltk.corpus import stopwords\n",
    "\n",
    "import logging\n",
    "logging.basicConfig(format='%(asctime)s : %(levelname)s : %(message)s', level=logging.ERROR)"
   ]
  },
  {
   "cell_type": "code",
   "execution_count": 2,
   "metadata": {},
   "outputs": [],
   "source": [
    "stop_words = stopwords.words('english')\n",
    "stop_words.extend(['be','try','say','from','in','the', 'subject', 're', 'edu', 'use', 'not', 'would', 'say', 'could', '_', 'be', 'know', 'good', 'go', 'get', 'do', 'done', 'try', 'many', 'some', 'nice', 'thank', 'think', 'see', 'rather', 'easy', 'easily', 'lot', 'lack', 'make', 'want', 'seem', 'run', 'need', 'even', 'right', 'line', 'even', 'also', 'may', 'take', 'come'])\n",
    "\n",
    "def remove_stopwords(texts):\n",
    "    return [[word for word in simple_preprocess(str(doc)) if word not in stop_words] for doc in texts]"
   ]
  },
  {
   "cell_type": "code",
   "execution_count": 3,
   "metadata": {},
   "outputs": [
    {
     "data": {
      "text/html": [
       "<div>\n",
       "<style scoped>\n",
       "    .dataframe tbody tr th:only-of-type {\n",
       "        vertical-align: middle;\n",
       "    }\n",
       "\n",
       "    .dataframe tbody tr th {\n",
       "        vertical-align: top;\n",
       "    }\n",
       "\n",
       "    .dataframe thead th {\n",
       "        text-align: right;\n",
       "    }\n",
       "</style>\n",
       "<table border=\"1\" class=\"dataframe\">\n",
       "  <thead>\n",
       "    <tr style=\"text-align: right;\">\n",
       "      <th></th>\n",
       "      <th>title</th>\n",
       "      <th>text</th>\n",
       "      <th>tag</th>\n",
       "      <th>date</th>\n",
       "    </tr>\n",
       "  </thead>\n",
       "  <tbody>\n",
       "    <tr>\n",
       "      <th>0</th>\n",
       "      <td>IMA founder has at least 14 properties worth 5...</td>\n",
       "      <td>Mohammed Mansoor Khan, the elusive managing di...</td>\n",
       "      <td>IMA fraud,</td>\n",
       "      <td>Jun 14 2019</td>\n",
       "    </tr>\n",
       "    <tr>\n",
       "      <th>1</th>\n",
       "      <td>Man who invested Rs 9L in IMA dies of heart at...</td>\n",
       "      <td>A 54-year-old man who had invested in the IMA ...</td>\n",
       "      <td>IMA fraud,Chit fund,</td>\n",
       "      <td>Jun 14 2019</td>\n",
       "    </tr>\n",
       "    <tr>\n",
       "      <th>2</th>\n",
       "      <td>BBMP, cops to meet over seized vehicles</td>\n",
       "      <td>Mayor Gangambike Mallikarjun on Thursday inspe...</td>\n",
       "      <td>seized vehicles,BBMP,</td>\n",
       "      <td>Jun 14 2019</td>\n",
       "    </tr>\n",
       "    <tr>\n",
       "      <th>3</th>\n",
       "      <td>More women opt for MBA course at IIMB</td>\n",
       "      <td>The Indian Institute of Management Bangalore (...</td>\n",
       "      <td>Bengaluru,Indian Institute of Management,IIMB,</td>\n",
       "      <td>Jun 13 2019</td>\n",
       "    </tr>\n",
       "    <tr>\n",
       "      <th>4</th>\n",
       "      <td>Citizens suffer as fallen trees, branches lie ...</td>\n",
       "      <td>Trees and branches that were brought down by r...</td>\n",
       "      <td>monsoon,BBMP,Rain damage,Benglauru,</td>\n",
       "      <td>Jun 13 2019</td>\n",
       "    </tr>\n",
       "  </tbody>\n",
       "</table>\n",
       "</div>"
      ],
      "text/plain": [
       "                                               title  \\\n",
       "0  IMA founder has at least 14 properties worth 5...   \n",
       "1  Man who invested Rs 9L in IMA dies of heart at...   \n",
       "2            BBMP, cops to meet over seized vehicles   \n",
       "3              More women opt for MBA course at IIMB   \n",
       "4  Citizens suffer as fallen trees, branches lie ...   \n",
       "\n",
       "                                                text  \\\n",
       "0  Mohammed Mansoor Khan, the elusive managing di...   \n",
       "1  A 54-year-old man who had invested in the IMA ...   \n",
       "2  Mayor Gangambike Mallikarjun on Thursday inspe...   \n",
       "3  The Indian Institute of Management Bangalore (...   \n",
       "4  Trees and branches that were brought down by r...   \n",
       "\n",
       "                                              tag          date  \n",
       "0                                      IMA fraud,   Jun 14 2019  \n",
       "1                            IMA fraud,Chit fund,   Jun 14 2019  \n",
       "2                           seized vehicles,BBMP,   Jun 14 2019  \n",
       "3  Bengaluru,Indian Institute of Management,IIMB,   Jun 13 2019  \n",
       "4             monsoon,BBMP,Rain damage,Benglauru,   Jun 13 2019  "
      ]
     },
     "execution_count": 3,
     "metadata": {},
     "output_type": "execute_result"
    }
   ],
   "source": [
    "df = pd.read_csv('combined_csv.csv',sep='\\t')\n",
    "df.head()"
   ]
  },
  {
   "cell_type": "code",
   "execution_count": 4,
   "metadata": {},
   "outputs": [],
   "source": [
    "contraction = { 'isn\\'t':'is not','aren\\'t' : 'are not','wasn\\'t':'was not','weren\\'t':'were not',\\\n",
    "               'haven\\'t':'have not', 'hasn\\'t' :'has not','hadn\\'t' :'had not','won\\'t' :'will not',\\\n",
    "               'wouldn\\'t':'would not' ,'don\\'t':'do not' ,'doesn\\'t':'does not','didn\\'t':'did not',\\\n",
    "               'can\\'t':'can not','couldn\\'t':'could not','shouldn\\'t':'should not','mightn\\'t':'might not',\\\n",
    "               'mustn\\'t':'must not'}\n",
    "\n",
    "def exp(sent):\n",
    "    new_sent=''\n",
    "    words =sent.split()\n",
    "    for i in words:\n",
    "        if i in contraction:\n",
    "            new_sent+=' '+contraction[i]\n",
    "        else:\n",
    "            new_sent+=' '+i\n",
    "    return new_sent.strip()\n",
    "\n",
    "def prep(sentence):\n",
    "    sentence = exp(sentence)\n",
    "    sentence = re.sub('[^a-zA-Z\\']',' ', sentence)\n",
    "    sentence = sentence.lower()\n",
    "    sentence = sentence.split()\n",
    "    sentence = ' '.join(sentence)\n",
    "    return sentence"
   ]
  },
  {
   "cell_type": "code",
   "execution_count": 5,
   "metadata": {},
   "outputs": [],
   "source": [
    "df['text'] =df['text'].apply(lambda x: prep(x))"
   ]
  },
  {
   "cell_type": "code",
   "execution_count": 6,
   "metadata": {},
   "outputs": [
    {
     "data": {
      "text/html": [
       "<div>\n",
       "<style scoped>\n",
       "    .dataframe tbody tr th:only-of-type {\n",
       "        vertical-align: middle;\n",
       "    }\n",
       "\n",
       "    .dataframe tbody tr th {\n",
       "        vertical-align: top;\n",
       "    }\n",
       "\n",
       "    .dataframe thead th {\n",
       "        text-align: right;\n",
       "    }\n",
       "</style>\n",
       "<table border=\"1\" class=\"dataframe\">\n",
       "  <thead>\n",
       "    <tr style=\"text-align: right;\">\n",
       "      <th></th>\n",
       "      <th>title</th>\n",
       "      <th>text</th>\n",
       "      <th>tag</th>\n",
       "      <th>date</th>\n",
       "    </tr>\n",
       "  </thead>\n",
       "  <tbody>\n",
       "    <tr>\n",
       "      <th>0</th>\n",
       "      <td>IMA founder has at least 14 properties worth 5...</td>\n",
       "      <td>mohammed mansoor khan the elusive managing dir...</td>\n",
       "      <td>IMA fraud,</td>\n",
       "      <td>Jun 14 2019</td>\n",
       "    </tr>\n",
       "    <tr>\n",
       "      <th>1</th>\n",
       "      <td>Man who invested Rs 9L in IMA dies of heart at...</td>\n",
       "      <td>a year old man who had invested in the ima gro...</td>\n",
       "      <td>IMA fraud,Chit fund,</td>\n",
       "      <td>Jun 14 2019</td>\n",
       "    </tr>\n",
       "    <tr>\n",
       "      <th>2</th>\n",
       "      <td>BBMP, cops to meet over seized vehicles</td>\n",
       "      <td>mayor gangambike mallikarjun on thursday inspe...</td>\n",
       "      <td>seized vehicles,BBMP,</td>\n",
       "      <td>Jun 14 2019</td>\n",
       "    </tr>\n",
       "    <tr>\n",
       "      <th>3</th>\n",
       "      <td>More women opt for MBA course at IIMB</td>\n",
       "      <td>the indian institute of management bangalore i...</td>\n",
       "      <td>Bengaluru,Indian Institute of Management,IIMB,</td>\n",
       "      <td>Jun 13 2019</td>\n",
       "    </tr>\n",
       "    <tr>\n",
       "      <th>4</th>\n",
       "      <td>Citizens suffer as fallen trees, branches lie ...</td>\n",
       "      <td>trees and branches that were brought down by r...</td>\n",
       "      <td>monsoon,BBMP,Rain damage,Benglauru,</td>\n",
       "      <td>Jun 13 2019</td>\n",
       "    </tr>\n",
       "  </tbody>\n",
       "</table>\n",
       "</div>"
      ],
      "text/plain": [
       "                                               title  \\\n",
       "0  IMA founder has at least 14 properties worth 5...   \n",
       "1  Man who invested Rs 9L in IMA dies of heart at...   \n",
       "2            BBMP, cops to meet over seized vehicles   \n",
       "3              More women opt for MBA course at IIMB   \n",
       "4  Citizens suffer as fallen trees, branches lie ...   \n",
       "\n",
       "                                                text  \\\n",
       "0  mohammed mansoor khan the elusive managing dir...   \n",
       "1  a year old man who had invested in the ima gro...   \n",
       "2  mayor gangambike mallikarjun on thursday inspe...   \n",
       "3  the indian institute of management bangalore i...   \n",
       "4  trees and branches that were brought down by r...   \n",
       "\n",
       "                                              tag          date  \n",
       "0                                      IMA fraud,   Jun 14 2019  \n",
       "1                            IMA fraud,Chit fund,   Jun 14 2019  \n",
       "2                           seized vehicles,BBMP,   Jun 14 2019  \n",
       "3  Bengaluru,Indian Institute of Management,IIMB,   Jun 13 2019  \n",
       "4             monsoon,BBMP,Rain damage,Benglauru,   Jun 13 2019  "
      ]
     },
     "execution_count": 6,
     "metadata": {},
     "output_type": "execute_result"
    }
   ],
   "source": [
    "df.head()"
   ]
  },
  {
   "cell_type": "code",
   "execution_count": 7,
   "metadata": {},
   "outputs": [],
   "source": [
    "def sent_to_words(sentences):\n",
    "    for sentence in sentences:\n",
    "        yield(gensim.utils.simple_preprocess(str(sentence), deacc=True))"
   ]
  },
  {
   "cell_type": "code",
   "execution_count": 10,
   "metadata": {},
   "outputs": [
    {
     "data": {
      "text/plain": [
       "'mohammed mansoor khan the elusive managing director and ceo of the beleaguered ima group is said to own at least properties in various parts of bengaluru whose value runs into crores bbmp documents show that khan had been paying rs lakh in property tax every year the properties are located in upmarket areas like jayanagar benson road park road alexander street jayanagar th block st john s church road lady curzon road and hbr layout officials in the bbmp s revenue wing estimate the value of these properties at more than rs crore going by the current market value all the properties are registered in his name an official said on the condition of anonymity bbmp officials have not ruled out the possibility of other properties registered in the name of the ima group and are trying to identify them out of the properties the ima headquarters on lady curzon road accounted for the highest property tax payment at rs lakh per year'"
      ]
     },
     "execution_count": 10,
     "metadata": {},
     "output_type": "execute_result"
    }
   ],
   "source": [
    "data = df['text'].values.tolist()\n",
    "data[0]"
   ]
  },
  {
   "cell_type": "code",
   "execution_count": 13,
   "metadata": {},
   "outputs": [],
   "source": [
    "data_words = list(sent_to_words(data))\n",
    "data_words=remove_stopwords(data_words)"
   ]
  },
  {
   "cell_type": "code",
   "execution_count": 15,
   "metadata": {},
   "outputs": [],
   "source": [
    "def lemmatization(texts, allowed_postags=['NOUN', 'ADJ', 'VERB', 'ADV']):\n",
    "    \"\"\"https://spacy.io/api/annotation\"\"\"\n",
    "    texts_out = []\n",
    "    for sent in texts:\n",
    "        doc = nlp(\" \".join(sent))\n",
    "        texts_out.append([token.lemma_ for token in doc if token.pos_ in allowed_postags])\n",
    "    return texts_out"
   ]
  },
  {
   "cell_type": "code",
   "execution_count": 16,
   "metadata": {},
   "outputs": [],
   "source": [
    "# Build the bigram and trigram models\n",
    "bigram = gensim.models.Phrases(data_words, min_count=5, threshold=100) # higher threshold fewer phrases.\n",
    "trigram = gensim.models.Phrases(bigram[data_words], threshold=100)  \n",
    "\n",
    "# Faster way to get a sentence clubbed as a trigram/bigram\n",
    "bigram_mod = gensim.models.phrases.Phraser(bigram)\n",
    "trigram_mod = gensim.models.phrases.Phraser(trigram)\n"
   ]
  },
  {
   "cell_type": "code",
   "execution_count": 17,
   "metadata": {},
   "outputs": [],
   "source": [
    "def make_bigrams(texts):\n",
    "    return [bigram_mod[doc] for doc in texts]\n",
    "\n",
    "def make_trigrams(texts):\n",
    "    return [trigram_mod[bigram_mod[doc]] for doc in texts]"
   ]
  },
  {
   "cell_type": "code",
   "execution_count": 18,
   "metadata": {
    "scrolled": false
   },
   "outputs": [],
   "source": [
    "data_words_nostops = remove_stopwords(data_words)"
   ]
  },
  {
   "cell_type": "code",
   "execution_count": 24,
   "metadata": {},
   "outputs": [
    {
     "name": "stdout",
     "output_type": "stream",
     "text": [
      "['mohammed_mansoor', 'khan', 'elusive', 'managing_director', 'ceo', 'beleaguered_ima', 'group', 'say', 'least', 'property', 'various', 'part', 'bengaluru', 'value', 'run', 'crore', 'bbmp', 'document', 'show', 'khan', 'pay', 'lakh', 'year', 'property', 'located_upmarket', 'area', 'jayanagar_benson', 'road', 'park', 'road', 'alexander_street', 'block', 'church', 'road', 'lady_curzon', 'road', 'official', 'bbmp', 'revenue', 'wing_estimate', 'value_propertie', 'go', 'current', 'market', 'value_propertie', 'register', 'name', 'official', 'say', 'condition_anonymity', 'bbmp', 'official', 'ruled_possibility', 'property', 'register', 'name', 'try', 'identify', 'property', 'be', 'headquarters_lady', 'curzon', 'road', 'accounted_high', 'payment', 'lakh', 'year']\n"
     ]
    }
   ],
   "source": [
    "data_words_bigrams = make_bigrams(data_words_nostops)\n",
    "nlp = spacy.load('en',disable=['parser', 'ner'])\n",
    "data_lemmatized = lemmatization(data_words_bigrams, allowed_postags=['NOUN', 'ADJ', 'VERB', 'ADV'])\n",
    "print(data_lemmatized[0])"
   ]
  },
  {
   "cell_type": "code",
   "execution_count": 23,
   "metadata": {},
   "outputs": [
    {
     "name": "stdout",
     "output_type": "stream",
     "text": [
      "[(0, 1), (1, 1), (2, 1), (3, 3), (4, 1), (5, 1), (6, 1), (7, 1), (8, 1), (9, 1), (10, 1), (11, 1), (12, 1), (13, 1), (14, 1), (15, 1), (16, 1), (17, 1), (18, 1), (19, 1), (20, 1), (21, 2), (22, 1), (23, 2), (24, 1), (25, 1), (26, 1), (27, 1), (28, 1), (29, 2), (30, 3), (31, 1), (32, 1), (33, 1), (34, 1), (35, 4), (36, 2), (37, 1), (38, 5), (39, 1), (40, 1), (41, 2), (42, 1), (43, 1), (44, 1), (45, 2), (46, 1), (47, 1), (48, 2)]\n"
     ]
    }
   ],
   "source": [
    "id2word = corpora.Dictionary(data_lemmatized)\n",
    "texts = data_lemmatized\n",
    "corpus = [id2word.doc2bow(text) for text in texts]\n",
    "print(corpus[0])"
   ]
  },
  {
   "cell_type": "code",
   "execution_count": 25,
   "metadata": {},
   "outputs": [
    {
     "name": "stdout",
     "output_type": "stream",
     "text": [
      "[(4,\n",
      "  '0.186*\"passenger\" + 0.183*\"airport\" + 0.074*\"kia\" + '\n",
      "  '0.038*\"international_airport\" + 0.031*\"bial\" + 0.030*\"terminal\" + '\n",
      "  '0.028*\"kempegowda_international\" + 0.026*\"check\" + 0.022*\"security\" + '\n",
      "  '0.020*\"limited_bial\"'),\n",
      " (5,\n",
      "  '0.049*\"market\" + 0.044*\"violation\" + 0.038*\"festival\" + 0.036*\"club\" + '\n",
      "  '0.033*\"manufacture\" + 0.031*\"annual\" + 0.029*\"roll\" + 0.024*\"production\" + '\n",
      "  '0.023*\"registration\" + 0.017*\"co\"'),\n",
      " (17,\n",
      "  '0.276*\"panchayat\" + 0.052*\"lakshmana\" + 0.046*\"campaign\" + 0.026*\"invest\" + '\n",
      "  '0.023*\"temple\" + 0.013*\"consult\" + 0.013*\"pasha\" + 0.012*\"cm\" + 0.011*\"ram\" '\n",
      "  '+ 0.010*\"ngo\"'),\n",
      " (20,\n",
      "  '0.042*\"spokesperson\" + 0.038*\"reject\" + 0.031*\"manjunath\" + 0.030*\"cheat\" + '\n",
      "  '0.025*\"clarify\" + 0.024*\"purpose\" + 0.024*\"vicinity\" + 0.023*\"chemical\" + '\n",
      "  '0.020*\"substance\" + 0.019*\"proof\"'),\n",
      " (0,\n",
      "  '0.472*\"lake\" + 0.068*\"decision\" + 0.029*\"solve\" + 0.028*\"future\" + '\n",
      "  '0.026*\"rao\" + 0.012*\"rejuvenation\" + 0.012*\"fence\" + 0.011*\"showcase\" + '\n",
      "  '0.010*\"lose\" + 0.010*\"story\"'),\n",
      " (26,\n",
      "  '0.071*\"commission\" + 0.068*\"driver\" + 0.045*\"app\" + 0.031*\"award\" + '\n",
      "  '0.030*\"switch\" + 0.026*\"cab\" + 0.023*\"wife\" + 0.020*\"lock\" + '\n",
      "  '0.019*\"decline\" + 0.017*\"comment\"'),\n",
      " (9,\n",
      "  '0.375*\"court\" + 0.101*\"case\" + 0.072*\"order\" + 0.067*\"petition\" + '\n",
      "  '0.056*\"state\" + 0.049*\"high\" + 0.031*\"civil\" + 0.031*\"hearing_petition\" + '\n",
      "  '0.028*\"seeking_direction\" + 0.021*\"karnataka\"'),\n",
      " (1,\n",
      "  '0.246*\"institution\" + 0.069*\"private\" + 0.065*\"committee\" + 0.062*\"school\" '\n",
      "  '+ 0.059*\"ask\" + 0.052*\"range\" + 0.037*\"pay\" + 0.027*\"protest\" + '\n",
      "  '0.026*\"council\" + 0.026*\"different\"'),\n",
      " (15,\n",
      "  '0.072*\"conclude\" + 0.072*\"mission\" + 0.031*\"lift\" + 0.030*\"international\" + '\n",
      "  '0.028*\"iisc\" + 0.028*\"pollution\" + 0.026*\"flood\" + 0.026*\"campus\" + '\n",
      "  '0.019*\"management\" + 0.017*\"lead\"'),\n",
      " (21,\n",
      "  '0.473*\"road\" + 0.161*\"traffic\" + 0.114*\"vehicle\" + 0.050*\"junction\" + '\n",
      "  '0.021*\"circle\" + 0.015*\"signal\" + 0.012*\"reach\" + 0.012*\"koramangala\" + '\n",
      "  '0.005*\"way\" + 0.005*\"busy\"'),\n",
      " (13,\n",
      "  '0.069*\"grant\" + 0.068*\"record\" + 0.061*\"city\" + 0.043*\"control\" + '\n",
      "  '0.039*\"generate\" + 0.035*\"bail\" + 0.032*\"prevention\" + 0.032*\"stay\" + '\n",
      "  '0.029*\"step\" + 0.028*\"installation\"'),\n",
      " (12,\n",
      "  '0.162*\"water\" + 0.034*\"flyover\" + 0.023*\"supply\" + 0.023*\"committee\" + '\n",
      "  '0.018*\"whitefield\" + 0.015*\"commercial\" + 0.015*\"board\" + 0.013*\"exist\" + '\n",
      "  '0.012*\"say\" + 0.012*\"level\"'),\n",
      " (2,\n",
      "  '0.044*\"political\" + 0.043*\"whole\" + 0.023*\"worker\" + 0.022*\"volunteer\" + '\n",
      "  '0.020*\"foot\" + 0.019*\"child\" + 0.018*\"people\" + 0.015*\"group\" + '\n",
      "  '0.014*\"effort\" + 0.013*\"activist\"'),\n",
      " (10,\n",
      "  '0.086*\"government\" + 0.047*\"state\" + 0.040*\"list\" + 0.035*\"cost\" + '\n",
      "  '0.033*\"submit\" + 0.032*\"public\" + 0.031*\"say\" + 0.030*\"department\" + '\n",
      "  '0.028*\"regard\" + 0.025*\"seek\"'),\n",
      " (27,\n",
      "  '0.056*\"rule\" + 0.041*\"maintain\" + 0.030*\"include\" + 0.024*\"people\" + '\n",
      "  '0.024*\"religious\" + 0.024*\"state\" + 0.024*\"process\" + 0.023*\"issue\" + '\n",
      "  '0.022*\"response\" + 0.020*\"make\"'),\n",
      " (11,\n",
      "  '0.043*\"status\" + 0.039*\"company\" + 0.026*\"party\" + 0.015*\"fund\" + '\n",
      "  '0.015*\"people\" + 0.014*\"september\" + 0.013*\"start\" + 0.012*\"work\" + '\n",
      "  '0.012*\"day\" + 0.012*\"open\"'),\n",
      " (6,\n",
      "  '0.038*\"library\" + 0.034*\"august\" + 0.030*\"student\" + 0.026*\"first\" + '\n",
      "  '0.025*\"year\" + 0.025*\"university\" + 0.022*\"say\" + 0.019*\"serve\" + '\n",
      "  '0.017*\"notice\" + 0.017*\"repeatedly\"'),\n",
      " (14,\n",
      "  '0.058*\"say\" + 0.016*\"commuter\" + 0.015*\"add\" + 0.014*\"challenge\" + '\n",
      "  '0.014*\"month\" + 0.013*\"make\" + 0.013*\"give\" + 0.013*\"transport\" + '\n",
      "  '0.012*\"step\" + 0.012*\"receive\"'),\n",
      " (3,\n",
      "  '0.081*\"bbmp\" + 0.051*\"say\" + 0.036*\"work\" + 0.034*\"project\" + '\n",
      "  '0.028*\"official\" + 0.024*\"city\" + 0.023*\"area\" + 0.023*\"resident\" + '\n",
      "  '0.022*\"bengaluru\" + 0.016*\"road\"'),\n",
      " (19,\n",
      "  '0.047*\"police\" + 0.030*\"recover\" + 0.028*\"say\" + 0.027*\"notice\" + '\n",
      "  '0.025*\"station\" + 0.019*\"year\" + 0.017*\"take\" + 0.014*\"pende\" + '\n",
      "  '0.012*\"case\" + 0.011*\"complaint\"')]\n"
     ]
    }
   ],
   "source": [
    "lda_model=gensim.models.ldamodel.LdaModel(corpus=corpus,id2word=id2word,num_topics=28,random_state=100,update_every=1,chunksize=100,passes=10,alpha='auto',per_word_topics=True)\n",
    "pprint(lda_model.print_topics())\n",
    "doc_lda=lda_model[corpus]"
   ]
  },
  {
   "cell_type": "code",
   "execution_count": 26,
   "metadata": {
    "scrolled": true
   },
   "outputs": [
    {
     "name": "stdout",
     "output_type": "stream",
     "text": [
      "\n",
      "Perplexity:  -14.490178233968665\n",
      "\n",
      "Coherence Score:  0.37571487595417646\n"
     ]
    }
   ],
   "source": [
    "print('\\nPerplexity: ', lda_model.log_perplexity(corpus))  # a measure of how good the model is. lower the better.\n",
    "\n",
    "# Compute Coherence Score\n",
    "coherence_model_lda = CoherenceModel(model=lda_model, texts=data_lemmatized, dictionary=id2word, coherence='c_v')\n",
    "coherence_lda = coherence_model_lda.get_coherence()\n",
    "print('\\nCoherence Score: ', coherence_lda)"
   ]
  },
  {
   "cell_type": "code",
   "execution_count": 27,
   "metadata": {},
   "outputs": [],
   "source": [
    "from gensim.test.utils import common_corpus, common_dictionary\n",
    "from gensim.models.wrappers import LdaMallet\n",
    "import os\n",
    "\n",
    "\n",
    "os.environ.update({'MALLET_HOME':r'/home/jack/Downloads/mallet-2.0.8'})\n",
    "mallet_path = '/home/jack/Downloads/mallet-2.0.8/bin/mallet'"
   ]
  },
  {
   "cell_type": "code",
   "execution_count": 28,
   "metadata": {},
   "outputs": [
    {
     "name": "stdout",
     "output_type": "stream",
     "text": [
      "(5, [('police', 0.0814967763684632), ('arrest', 0.021912266655429606), ('accuse', 0.020437402553621843), ('man', 0.017192701529644767), ('case', 0.01373730563398087), ('woman', 0.013358054864944588), ('complaint', 0.01293666512157094), ('assault', 0.012136024609161014), ('victim', 0.01082971640470271), ('station', 0.00956554717458177)])\n",
      "(2, [('road', 0.08828884842563396), ('work', 0.04556557267842075), ('bbmp', 0.040236265932406624), ('traffic', 0.024958919927166142), ('area', 0.012701514411333659), ('resident', 0.012124172847182129), ('project', 0.01074743527112848), ('vehicle', 0.010392148154727538), ('engineer', 0.010125682817426833), ('city', 0.009104232357774127)])\n",
      "(7, [('official', 0.03212086586681902), ('bengaluru', 0.014790833492033263), ('airport', 0.013648193994794642), ('passenger', 0.012949914302037707), ('fire', 0.01193423474893671), ('officer', 0.011235955056179775), ('security', 0.010156795531009967), ('accord', 0.00971243572652828), ('senior', 0.009331555894115407), ('check', 0.009014156033771346)])\n"
     ]
    }
   ],
   "source": [
    "ldamallet = gensim.models.wrappers.LdaMallet(mallet_path, corpus=corpus, num_topics=13, id2word=id2word)\n",
    "\n",
    "result = (ldamallet.show_topics(num_topics=3, num_words=10,formatted=False))\n",
    "for each in result:\n",
    "    print (each)"
   ]
  },
  {
   "cell_type": "code",
   "execution_count": 29,
   "metadata": {},
   "outputs": [
    {
     "name": "stdout",
     "output_type": "stream",
     "text": [
      "[(0,\n",
      "  [('student', 0.04453257790368272),\n",
      "   ('school', 0.023116147308781868),\n",
      "   ('year', 0.016940509915014165),\n",
      "   ('college', 0.015977337110481587),\n",
      "   ('university', 0.013031161473087818),\n",
      "   ('study', 0.008668555240793201),\n",
      "   ('india', 0.00821529745042493),\n",
      "   ('management', 0.0069121813031161475),\n",
      "   ('education', 0.0069121813031161475),\n",
      "   ('institute', 0.006685552407932011)]),\n",
      " (10,\n",
      "  [('water', 0.051968581731956724),\n",
      "   ('lake', 0.037445042730820534),\n",
      "   ('resident', 0.024255298127747862),\n",
      "   ('waste', 0.018475522402805908),\n",
      "   ('bbmp', 0.018327323025243293),\n",
      "   ('garbage', 0.017685125722471967),\n",
      "   ('area', 0.014770537963740553),\n",
      "   ('bengaluru', 0.011114953317196068),\n",
      "   ('city', 0.009731759126611669),\n",
      "   ('add', 0.009583559749049054)]),\n",
      " (1,\n",
      "  [('police', 0.04840384702217004),\n",
      "   ('year', 0.019867250643428005),\n",
      "   ('house', 0.015081049352056713),\n",
      "   ('driver', 0.013545852711428184),\n",
      "   ('find', 0.01146882196234253),\n",
      "   ('rush', 0.010565765114913984),\n",
      "   ('hospital', 0.010430306587799702),\n",
      "   ('son', 0.010023931006456856),\n",
      "   ('pm', 0.009482096897999729),\n",
      "   ('fall', 0.00898541563191403)]),\n",
      " (8,\n",
      "  [('complaint', 0.028018899022085486),\n",
      "   ('police', 0.025491704208328754),\n",
      "   ('lakh', 0.023898472695308207),\n",
      "   ('pay', 0.017910119767058565),\n",
      "   ('company', 0.017635424678606747),\n",
      "   ('money', 0.017360729590154927),\n",
      "   ('file', 0.01675640039556093),\n",
      "   ('office', 0.01098780353807274),\n",
      "   ('document', 0.009998901219646193),\n",
      "   ('return', 0.0098340841665751)]),\n",
      " (11,\n",
      "  [('city', 0.015435501653803748),\n",
      "   ('event', 0.015380374862183022),\n",
      "   ('day', 0.0139470782800441),\n",
      "   ('child', 0.012624035281146638),\n",
      "   ('group', 0.012238147739801544),\n",
      "   ('association', 0.01113561190738699),\n",
      "   ('part', 0.010529217199558986),\n",
      "   ('organise', 0.00926130099228225),\n",
      "   ('volunteer', 0.008710033076074972),\n",
      "   ('festival', 0.008599779492833517)]),\n",
      " (7,\n",
      "  [('official', 0.03212086586681902),\n",
      "   ('bengaluru', 0.014790833492033263),\n",
      "   ('airport', 0.013648193994794642),\n",
      "   ('passenger', 0.012949914302037707),\n",
      "   ('fire', 0.01193423474893671),\n",
      "   ('officer', 0.011235955056179775),\n",
      "   ('security', 0.010156795531009967),\n",
      "   ('accord', 0.00971243572652828),\n",
      "   ('senior', 0.009331555894115407),\n",
      "   ('check', 0.009014156033771346)]),\n",
      " (5,\n",
      "  [('police', 0.0814967763684632),\n",
      "   ('arrest', 0.021912266655429606),\n",
      "   ('accuse', 0.020437402553621843),\n",
      "   ('man', 0.017192701529644767),\n",
      "   ('case', 0.01373730563398087),\n",
      "   ('woman', 0.013358054864944588),\n",
      "   ('complaint', 0.01293666512157094),\n",
      "   ('assault', 0.012136024609161014),\n",
      "   ('victim', 0.01082971640470271),\n",
      "   ('station', 0.00956554717458177)]),\n",
      " (12,\n",
      "  [('time', 0.021055164531071407),\n",
      "   ('day', 0.017505865367262227),\n",
      "   ('call', 0.015580821752992842),\n",
      "   ('people', 0.013655778138723455),\n",
      "   ('demand', 0.01311435962221019),\n",
      "   ('bengaluru', 0.011550261685616315),\n",
      "   ('give', 0.010587739878481621),\n",
      "   ('show', 0.00962521807134693),\n",
      "   ('release', 0.008662696264212236),\n",
      "   ('week', 0.008241592973590808)]),\n",
      " (2,\n",
      "  [('road', 0.08828884842563396),\n",
      "   ('work', 0.04556557267842075),\n",
      "   ('bbmp', 0.040236265932406624),\n",
      "   ('traffic', 0.024958919927166142),\n",
      "   ('area', 0.012701514411333659),\n",
      "   ('resident', 0.012124172847182129),\n",
      "   ('project', 0.01074743527112848),\n",
      "   ('vehicle', 0.010392148154727538),\n",
      "   ('engineer', 0.010125682817426833),\n",
      "   ('city', 0.009104232357774127)]),\n",
      " (6,\n",
      "  [('hospital', 0.02875095201827875),\n",
      "   ('year', 0.013899466869763899),\n",
      "   ('case', 0.011805026656511805),\n",
      "   ('patient', 0.011805026656511805),\n",
      "   ('doctor', 0.011043412033511044),\n",
      "   ('medical', 0.010154861640010155),\n",
      "   ('suffer', 0.010154861640010155),\n",
      "   ('people', 0.010091393754760092),\n",
      "   ('treatment', 0.009329779131759329),\n",
      "   ('health', 0.008885503935008886)])]\n"
     ]
    }
   ],
   "source": [
    "pprint(ldamallet.show_topics(formatted=False))"
   ]
  },
  {
   "cell_type": "code",
   "execution_count": 30,
   "metadata": {},
   "outputs": [
    {
     "name": "stdout",
     "output_type": "stream",
     "text": [
      "\n",
      "Coherence Score:  0.49096666708755726\n"
     ]
    }
   ],
   "source": [
    "coherence_model_ldamallet = CoherenceModel(model=ldamallet, texts=data_lemmatized, dictionary=id2word, coherence='c_v')\n",
    "coherence_ldamallet = coherence_model_ldamallet.get_coherence()\n",
    "print('\\nCoherence Score: ', coherence_ldamallet)"
   ]
  },
  {
   "cell_type": "code",
   "execution_count": 31,
   "metadata": {},
   "outputs": [],
   "source": [
    "lda_model = gensim.models.wrappers.ldamallet.malletmodel2ldamodel(ldamallet)"
   ]
  },
  {
   "cell_type": "code",
   "execution_count": 32,
   "metadata": {},
   "outputs": [
    {
     "name": "stderr",
     "output_type": "stream",
     "text": [
      "/home/jack/anaconda3/lib/python3.7/site-packages/pyLDAvis/_prepare.py:223: RuntimeWarning: divide by zero encountered in log\n",
      "  kernel = (topic_given_term * np.log((topic_given_term.T / topic_proportion).T))\n",
      "/home/jack/anaconda3/lib/python3.7/site-packages/pyLDAvis/_prepare.py:240: RuntimeWarning: divide by zero encountered in log\n",
      "  log_lift = np.log(topic_term_dists / term_proportion)\n",
      "/home/jack/anaconda3/lib/python3.7/site-packages/pyLDAvis/_prepare.py:241: RuntimeWarning: divide by zero encountered in log\n",
      "  log_ttd = np.log(topic_term_dists)\n",
      "/home/jack/anaconda3/lib/python3.7/site-packages/pyLDAvis/_prepare.py:257: FutureWarning: Sorting because non-concatenation axis is not aligned. A future version\n",
      "of pandas will change to not sort by default.\n",
      "\n",
      "To accept the future behavior, pass 'sort=False'.\n",
      "\n",
      "To retain the current behavior and silence the warning, pass 'sort=True'.\n",
      "\n",
      "  return pd.concat([default_term_info] + list(topic_dfs))\n"
     ]
    },
    {
     "data": {
      "text/html": [
       "\n",
       "<link rel=\"stylesheet\" type=\"text/css\" href=\"https://cdn.rawgit.com/bmabey/pyLDAvis/files/ldavis.v1.0.0.css\">\n",
       "\n",
       "\n",
       "<div id=\"ldavis_el281221402481277288805774828116\"></div>\n",
       "<script type=\"text/javascript\">\n",
       "\n",
       "var ldavis_el281221402481277288805774828116_data = {\"mdsDat\": {\"x\": [0.31346395340840283, -0.15193850653694188, 0.26902560403827547, -0.13503067051529183, -0.06250930258105047, -0.15058467920287555, -0.20126034577021037, -0.08798190118816655, 0.2184018490556899, -0.08662684236969746, -0.0012339292403841914, 0.02435861701097165, 0.05191615389127611], \"y\": [-0.07000316926487729, -0.21757622032826235, -0.08185812754488148, -0.01484601317961496, -0.01911734619425523, -0.19055876218887216, -0.09172192072340718, 0.23380538190982897, 0.017068924480453076, 0.26446115849377155, 0.12662906727707118, 0.06563991572669983, -0.02192288846365364], \"topics\": [1, 2, 3, 4, 5, 6, 7, 8, 9, 10, 11, 12, 13], \"cluster\": [1, 1, 1, 1, 1, 1, 1, 1, 1, 1, 1, 1, 1], \"Freq\": [8.76174407969336, 8.738457961555557, 8.207961217382516, 8.196424893588901, 8.120689155257878, 8.069643418751305, 7.511836456637641, 7.375932174572078, 7.330887727682292, 7.2665505119108005, 7.060066865668389, 6.727184611085517, 6.6326209262137645]}, \"tinfo\": {\"Category\": [\"Default\", \"Default\", \"Default\", \"Default\", \"Default\", \"Default\", \"Default\", \"Default\", \"Default\", \"Default\", \"Default\", \"Default\", \"Default\", \"Default\", \"Default\", \"Default\", \"Default\", \"Default\", \"Default\", \"Default\", \"Default\", \"Default\", \"Default\", \"Default\", \"Default\", \"Default\", \"Default\", \"Default\", \"Default\", \"Default\", \"Topic1\", \"Topic1\", \"Topic1\", \"Topic1\", \"Topic1\", \"Topic1\", \"Topic1\", \"Topic1\", \"Topic1\", \"Topic1\", \"Topic1\", \"Topic1\", \"Topic1\", \"Topic1\", \"Topic1\", \"Topic1\", \"Topic1\", \"Topic1\", \"Topic1\", \"Topic1\", \"Topic1\", \"Topic1\", \"Topic1\", \"Topic1\", \"Topic1\", \"Topic1\", \"Topic1\", \"Topic1\", \"Topic1\", \"Topic1\", \"Topic1\", \"Topic1\", \"Topic1\", \"Topic1\", \"Topic1\", \"Topic1\", \"Topic1\", \"Topic1\", \"Topic1\", \"Topic1\", \"Topic1\", \"Topic1\", \"Topic1\", \"Topic1\", \"Topic1\", \"Topic1\", \"Topic1\", \"Topic1\", \"Topic1\", \"Topic1\", \"Topic1\", \"Topic1\", \"Topic1\", \"Topic1\", \"Topic1\", \"Topic1\", \"Topic1\", \"Topic1\", \"Topic1\", \"Topic1\", \"Topic1\", \"Topic1\", \"Topic1\", \"Topic1\", \"Topic1\", \"Topic1\", \"Topic1\", \"Topic1\", \"Topic1\", \"Topic1\", \"Topic1\", \"Topic1\", \"Topic1\", \"Topic1\", \"Topic1\", \"Topic1\", \"Topic1\", \"Topic1\", \"Topic1\", \"Topic1\", \"Topic1\", \"Topic1\", \"Topic1\", \"Topic1\", \"Topic1\", \"Topic1\", \"Topic1\", \"Topic1\", \"Topic2\", \"Topic2\", \"Topic2\", \"Topic2\", \"Topic2\", \"Topic2\", \"Topic2\", \"Topic2\", \"Topic2\", \"Topic2\", \"Topic2\", \"Topic2\", \"Topic2\", \"Topic2\", \"Topic2\", \"Topic2\", \"Topic2\", \"Topic2\", \"Topic2\", \"Topic2\", \"Topic2\", \"Topic2\", \"Topic2\", \"Topic2\", \"Topic2\", \"Topic2\", \"Topic2\", \"Topic2\", \"Topic2\", \"Topic2\", \"Topic2\", \"Topic2\", \"Topic2\", \"Topic2\", \"Topic2\", \"Topic2\", \"Topic2\", \"Topic2\", \"Topic2\", \"Topic2\", \"Topic2\", \"Topic2\", \"Topic2\", \"Topic2\", \"Topic2\", \"Topic2\", \"Topic2\", \"Topic2\", \"Topic2\", \"Topic2\", \"Topic2\", \"Topic2\", \"Topic2\", \"Topic2\", \"Topic2\", \"Topic2\", \"Topic2\", \"Topic2\", \"Topic2\", \"Topic2\", \"Topic2\", \"Topic2\", \"Topic2\", \"Topic2\", \"Topic2\", \"Topic2\", \"Topic2\", \"Topic2\", \"Topic2\", \"Topic2\", \"Topic2\", \"Topic2\", \"Topic2\", \"Topic2\", \"Topic2\", \"Topic2\", \"Topic2\", \"Topic2\", \"Topic2\", \"Topic2\", \"Topic2\", \"Topic2\", \"Topic2\", \"Topic2\", \"Topic2\", \"Topic2\", \"Topic2\", \"Topic2\", \"Topic2\", \"Topic2\", \"Topic3\", \"Topic3\", \"Topic3\", \"Topic3\", \"Topic3\", \"Topic3\", \"Topic3\", \"Topic3\", \"Topic3\", \"Topic3\", \"Topic3\", \"Topic3\", \"Topic3\", \"Topic3\", \"Topic3\", \"Topic3\", \"Topic3\", \"Topic3\", \"Topic3\", \"Topic3\", \"Topic3\", \"Topic3\", \"Topic3\", \"Topic3\", \"Topic3\", \"Topic3\", \"Topic3\", \"Topic3\", \"Topic3\", \"Topic3\", \"Topic3\", \"Topic3\", \"Topic3\", \"Topic3\", \"Topic3\", \"Topic3\", \"Topic3\", \"Topic3\", \"Topic3\", \"Topic3\", \"Topic3\", \"Topic3\", \"Topic3\", \"Topic3\", \"Topic3\", \"Topic3\", \"Topic3\", \"Topic3\", \"Topic3\", \"Topic3\", \"Topic3\", \"Topic3\", \"Topic3\", \"Topic3\", \"Topic3\", \"Topic3\", \"Topic3\", \"Topic3\", \"Topic3\", \"Topic3\", \"Topic3\", \"Topic3\", \"Topic3\", \"Topic3\", \"Topic3\", \"Topic3\", \"Topic3\", \"Topic3\", \"Topic3\", \"Topic3\", \"Topic3\", \"Topic3\", \"Topic3\", \"Topic3\", \"Topic3\", \"Topic3\", \"Topic3\", \"Topic3\", \"Topic3\", \"Topic3\", \"Topic3\", \"Topic3\", \"Topic3\", \"Topic3\", \"Topic3\", \"Topic3\", \"Topic3\", \"Topic3\", \"Topic3\", \"Topic3\", \"Topic3\", \"Topic4\", \"Topic4\", \"Topic4\", \"Topic4\", \"Topic4\", \"Topic4\", \"Topic4\", \"Topic4\", \"Topic4\", \"Topic4\", \"Topic4\", \"Topic4\", \"Topic4\", \"Topic4\", \"Topic4\", \"Topic4\", \"Topic4\", \"Topic4\", \"Topic4\", \"Topic4\", \"Topic4\", \"Topic4\", \"Topic4\", \"Topic4\", \"Topic4\", \"Topic4\", \"Topic4\", \"Topic4\", \"Topic4\", \"Topic4\", \"Topic4\", \"Topic4\", \"Topic4\", \"Topic4\", \"Topic4\", \"Topic4\", \"Topic4\", \"Topic4\", \"Topic4\", \"Topic4\", \"Topic4\", \"Topic4\", \"Topic4\", \"Topic4\", \"Topic4\", \"Topic4\", \"Topic4\", \"Topic4\", \"Topic4\", \"Topic4\", \"Topic4\", \"Topic4\", \"Topic4\", \"Topic4\", \"Topic4\", \"Topic4\", \"Topic4\", \"Topic4\", \"Topic4\", \"Topic4\", \"Topic4\", \"Topic4\", \"Topic4\", \"Topic4\", \"Topic4\", \"Topic4\", \"Topic4\", \"Topic4\", \"Topic4\", \"Topic4\", \"Topic4\", \"Topic4\", \"Topic4\", \"Topic4\", \"Topic4\", \"Topic4\", \"Topic4\", \"Topic4\", \"Topic4\", \"Topic4\", \"Topic4\", \"Topic4\", \"Topic4\", \"Topic4\", \"Topic4\", \"Topic4\", \"Topic4\", \"Topic4\", \"Topic4\", \"Topic5\", \"Topic5\", \"Topic5\", \"Topic5\", \"Topic5\", \"Topic5\", \"Topic5\", \"Topic5\", \"Topic5\", \"Topic5\", \"Topic5\", \"Topic5\", \"Topic5\", \"Topic5\", \"Topic5\", \"Topic5\", \"Topic5\", \"Topic5\", \"Topic5\", \"Topic5\", \"Topic5\", \"Topic5\", \"Topic5\", \"Topic5\", \"Topic5\", \"Topic5\", \"Topic5\", \"Topic5\", \"Topic5\", \"Topic5\", \"Topic5\", \"Topic5\", \"Topic5\", \"Topic5\", \"Topic5\", \"Topic5\", \"Topic5\", \"Topic5\", \"Topic5\", \"Topic5\", \"Topic5\", \"Topic5\", \"Topic5\", \"Topic5\", \"Topic5\", \"Topic5\", \"Topic5\", \"Topic5\", \"Topic5\", \"Topic5\", \"Topic5\", \"Topic5\", \"Topic5\", \"Topic5\", \"Topic5\", \"Topic5\", \"Topic5\", \"Topic5\", \"Topic5\", \"Topic5\", \"Topic5\", \"Topic5\", \"Topic5\", \"Topic5\", \"Topic5\", \"Topic5\", \"Topic5\", \"Topic5\", \"Topic5\", \"Topic5\", \"Topic5\", \"Topic5\", \"Topic5\", \"Topic5\", \"Topic5\", \"Topic5\", \"Topic5\", \"Topic5\", \"Topic5\", \"Topic5\", \"Topic5\", \"Topic5\", \"Topic5\", \"Topic5\", \"Topic5\", \"Topic5\", \"Topic5\", \"Topic5\", \"Topic5\", \"Topic5\", \"Topic5\", \"Topic5\", \"Topic5\", \"Topic6\", \"Topic6\", \"Topic6\", \"Topic6\", \"Topic6\", \"Topic6\", \"Topic6\", \"Topic6\", \"Topic6\", \"Topic6\", \"Topic6\", \"Topic6\", \"Topic6\", \"Topic6\", \"Topic6\", \"Topic6\", \"Topic6\", \"Topic6\", \"Topic6\", \"Topic6\", \"Topic6\", \"Topic6\", \"Topic6\", \"Topic6\", \"Topic6\", \"Topic6\", \"Topic6\", \"Topic6\", \"Topic6\", \"Topic6\", \"Topic6\", \"Topic6\", \"Topic6\", \"Topic6\", \"Topic6\", \"Topic6\", \"Topic6\", \"Topic6\", \"Topic6\", \"Topic6\", \"Topic6\", \"Topic6\", \"Topic6\", \"Topic6\", \"Topic6\", \"Topic6\", \"Topic6\", \"Topic6\", \"Topic6\", \"Topic6\", \"Topic6\", \"Topic6\", \"Topic6\", \"Topic6\", \"Topic6\", \"Topic6\", \"Topic6\", \"Topic6\", \"Topic6\", \"Topic6\", \"Topic6\", \"Topic6\", \"Topic6\", \"Topic6\", \"Topic6\", \"Topic6\", \"Topic6\", \"Topic6\", \"Topic6\", \"Topic6\", \"Topic6\", \"Topic6\", \"Topic6\", \"Topic7\", \"Topic7\", \"Topic7\", \"Topic7\", \"Topic7\", \"Topic7\", \"Topic7\", \"Topic7\", \"Topic7\", \"Topic7\", \"Topic7\", \"Topic7\", \"Topic7\", \"Topic7\", \"Topic7\", \"Topic7\", \"Topic7\", \"Topic7\", \"Topic7\", \"Topic7\", \"Topic7\", \"Topic7\", \"Topic7\", \"Topic7\", \"Topic7\", \"Topic7\", \"Topic7\", \"Topic7\", \"Topic7\", \"Topic7\", \"Topic7\", \"Topic7\", \"Topic7\", \"Topic7\", \"Topic7\", \"Topic7\", \"Topic7\", \"Topic7\", \"Topic7\", \"Topic7\", \"Topic7\", \"Topic7\", \"Topic7\", \"Topic7\", \"Topic7\", \"Topic7\", \"Topic7\", \"Topic7\", \"Topic7\", \"Topic7\", \"Topic7\", \"Topic7\", \"Topic7\", \"Topic7\", \"Topic7\", \"Topic7\", \"Topic7\", \"Topic7\", \"Topic7\", \"Topic7\", \"Topic7\", \"Topic7\", \"Topic7\", \"Topic7\", \"Topic7\", \"Topic7\", \"Topic7\", \"Topic7\", \"Topic7\", \"Topic7\", \"Topic7\", \"Topic7\", \"Topic7\", \"Topic7\", \"Topic7\", \"Topic7\", \"Topic7\", \"Topic7\", \"Topic7\", \"Topic7\", \"Topic7\", \"Topic7\", \"Topic7\", \"Topic7\", \"Topic7\", \"Topic7\", \"Topic7\", \"Topic7\", \"Topic7\", \"Topic7\", \"Topic8\", \"Topic8\", \"Topic8\", \"Topic8\", \"Topic8\", \"Topic8\", \"Topic8\", \"Topic8\", \"Topic8\", \"Topic8\", \"Topic8\", \"Topic8\", \"Topic8\", \"Topic8\", \"Topic8\", \"Topic8\", \"Topic8\", \"Topic8\", \"Topic8\", \"Topic8\", \"Topic8\", \"Topic8\", \"Topic8\", \"Topic8\", \"Topic8\", \"Topic8\", \"Topic8\", \"Topic8\", \"Topic8\", \"Topic8\", \"Topic8\", \"Topic8\", \"Topic8\", \"Topic8\", \"Topic8\", \"Topic8\", \"Topic8\", \"Topic8\", \"Topic8\", \"Topic8\", \"Topic8\", \"Topic8\", \"Topic8\", \"Topic8\", \"Topic8\", \"Topic8\", \"Topic8\", \"Topic8\", \"Topic8\", \"Topic8\", \"Topic8\", \"Topic8\", \"Topic8\", \"Topic8\", \"Topic8\", \"Topic8\", \"Topic8\", \"Topic8\", \"Topic8\", \"Topic8\", \"Topic8\", \"Topic8\", \"Topic8\", \"Topic8\", \"Topic8\", \"Topic8\", \"Topic8\", \"Topic8\", \"Topic8\", \"Topic8\", \"Topic8\", \"Topic8\", \"Topic8\", \"Topic8\", \"Topic8\", \"Topic8\", \"Topic8\", \"Topic8\", \"Topic8\", \"Topic8\", \"Topic8\", \"Topic8\", \"Topic8\", \"Topic8\", \"Topic8\", \"Topic8\", \"Topic8\", \"Topic8\", \"Topic8\", \"Topic8\", \"Topic8\", \"Topic8\", \"Topic8\", \"Topic8\", \"Topic8\", \"Topic9\", \"Topic9\", \"Topic9\", \"Topic9\", \"Topic9\", \"Topic9\", \"Topic9\", \"Topic9\", \"Topic9\", \"Topic9\", \"Topic9\", \"Topic9\", \"Topic9\", \"Topic9\", \"Topic9\", \"Topic9\", \"Topic9\", \"Topic9\", \"Topic9\", \"Topic9\", \"Topic9\", \"Topic9\", \"Topic9\", \"Topic9\", \"Topic9\", \"Topic9\", \"Topic9\", \"Topic9\", \"Topic9\", \"Topic9\", \"Topic9\", \"Topic9\", \"Topic9\", \"Topic9\", \"Topic9\", \"Topic9\", \"Topic9\", \"Topic9\", \"Topic9\", \"Topic9\", \"Topic9\", \"Topic9\", \"Topic9\", \"Topic9\", \"Topic9\", \"Topic9\", \"Topic9\", \"Topic9\", \"Topic9\", \"Topic9\", \"Topic9\", \"Topic9\", \"Topic9\", \"Topic9\", \"Topic9\", \"Topic9\", \"Topic9\", \"Topic9\", \"Topic9\", \"Topic9\", \"Topic9\", \"Topic9\", \"Topic9\", \"Topic9\", \"Topic9\", \"Topic9\", \"Topic9\", \"Topic9\", \"Topic9\", \"Topic9\", \"Topic9\", \"Topic9\", \"Topic9\", \"Topic9\", \"Topic9\", \"Topic9\", \"Topic9\", \"Topic9\", \"Topic9\", \"Topic9\", \"Topic9\", \"Topic9\", \"Topic9\", \"Topic9\", \"Topic9\", \"Topic9\", \"Topic9\", \"Topic9\", \"Topic9\", \"Topic9\", \"Topic9\", \"Topic9\", \"Topic9\", \"Topic10\", \"Topic10\", \"Topic10\", \"Topic10\", \"Topic10\", \"Topic10\", \"Topic10\", \"Topic10\", \"Topic10\", \"Topic10\", \"Topic10\", \"Topic10\", \"Topic10\", \"Topic10\", \"Topic10\", \"Topic10\", \"Topic10\", \"Topic10\", \"Topic10\", \"Topic10\", \"Topic10\", \"Topic10\", \"Topic10\", \"Topic10\", \"Topic10\", \"Topic10\", \"Topic10\", \"Topic10\", \"Topic10\", \"Topic10\", \"Topic10\", \"Topic10\", \"Topic10\", \"Topic10\", \"Topic10\", \"Topic10\", \"Topic10\", \"Topic10\", \"Topic10\", \"Topic10\", \"Topic10\", \"Topic10\", \"Topic10\", \"Topic10\", \"Topic10\", \"Topic10\", \"Topic10\", \"Topic10\", \"Topic10\", \"Topic10\", \"Topic10\", \"Topic10\", \"Topic10\", \"Topic10\", \"Topic10\", \"Topic10\", \"Topic10\", \"Topic10\", \"Topic10\", \"Topic10\", \"Topic10\", \"Topic10\", \"Topic10\", \"Topic10\", \"Topic10\", \"Topic10\", \"Topic10\", \"Topic10\", \"Topic10\", \"Topic10\", \"Topic10\", \"Topic10\", \"Topic10\", \"Topic10\", \"Topic10\", \"Topic10\", \"Topic10\", \"Topic10\", \"Topic10\", \"Topic10\", \"Topic10\", \"Topic10\", \"Topic10\", \"Topic10\", \"Topic10\", \"Topic10\", \"Topic10\", \"Topic10\", \"Topic10\", \"Topic10\", \"Topic10\", \"Topic11\", \"Topic11\", \"Topic11\", \"Topic11\", \"Topic11\", \"Topic11\", \"Topic11\", \"Topic11\", \"Topic11\", \"Topic11\", \"Topic11\", \"Topic11\", \"Topic11\", \"Topic11\", \"Topic11\", \"Topic11\", \"Topic11\", \"Topic11\", \"Topic11\", \"Topic11\", \"Topic11\", \"Topic11\", \"Topic11\", \"Topic11\", \"Topic11\", \"Topic11\", \"Topic11\", \"Topic11\", \"Topic11\", \"Topic11\", \"Topic11\", \"Topic11\", \"Topic11\", \"Topic11\", \"Topic11\", \"Topic11\", \"Topic11\", \"Topic11\", \"Topic11\", \"Topic11\", \"Topic11\", \"Topic11\", \"Topic11\", \"Topic11\", \"Topic11\", \"Topic11\", \"Topic11\", \"Topic11\", \"Topic11\", \"Topic11\", \"Topic11\", \"Topic11\", \"Topic11\", \"Topic11\", \"Topic11\", \"Topic11\", \"Topic11\", \"Topic11\", \"Topic11\", \"Topic11\", \"Topic11\", \"Topic11\", \"Topic11\", \"Topic11\", \"Topic11\", \"Topic11\", \"Topic11\", \"Topic11\", \"Topic11\", \"Topic11\", \"Topic11\", \"Topic11\", \"Topic11\", \"Topic11\", \"Topic11\", \"Topic11\", \"Topic11\", \"Topic11\", \"Topic11\", \"Topic11\", \"Topic11\", \"Topic11\", \"Topic11\", \"Topic11\", \"Topic11\", \"Topic11\", \"Topic11\", \"Topic11\", \"Topic11\", \"Topic11\", \"Topic11\", \"Topic11\", \"Topic11\", \"Topic12\", \"Topic12\", \"Topic12\", \"Topic12\", \"Topic12\", \"Topic12\", \"Topic12\", \"Topic12\", \"Topic12\", \"Topic12\", \"Topic12\", \"Topic12\", \"Topic12\", \"Topic12\", \"Topic12\", \"Topic12\", \"Topic12\", \"Topic12\", \"Topic12\", \"Topic12\", \"Topic12\", \"Topic12\", \"Topic12\", \"Topic12\", \"Topic12\", \"Topic12\", \"Topic12\", \"Topic12\", \"Topic12\", \"Topic12\", \"Topic12\", \"Topic12\", \"Topic12\", \"Topic12\", \"Topic12\", \"Topic12\", \"Topic12\", \"Topic12\", \"Topic12\", \"Topic12\", \"Topic12\", \"Topic12\", \"Topic12\", \"Topic12\", \"Topic12\", \"Topic12\", \"Topic12\", \"Topic12\", \"Topic12\", \"Topic12\", \"Topic12\", \"Topic12\", \"Topic12\", \"Topic12\", \"Topic12\", \"Topic12\", \"Topic12\", \"Topic12\", \"Topic12\", \"Topic12\", \"Topic12\", \"Topic12\", \"Topic12\", \"Topic12\", \"Topic12\", \"Topic12\", \"Topic12\", \"Topic12\", \"Topic12\", \"Topic12\", \"Topic12\", \"Topic12\", \"Topic12\", \"Topic12\", \"Topic12\", \"Topic12\", \"Topic12\", \"Topic12\", \"Topic12\", \"Topic12\", \"Topic12\", \"Topic12\", \"Topic12\", \"Topic12\", \"Topic12\", \"Topic12\", \"Topic12\", \"Topic12\", \"Topic12\", \"Topic13\", \"Topic13\", \"Topic13\", \"Topic13\", \"Topic13\", \"Topic13\", \"Topic13\", \"Topic13\", \"Topic13\", \"Topic13\", \"Topic13\", \"Topic13\", \"Topic13\", \"Topic13\", \"Topic13\", \"Topic13\", \"Topic13\", \"Topic13\", \"Topic13\", \"Topic13\", \"Topic13\", \"Topic13\", \"Topic13\", \"Topic13\", \"Topic13\", \"Topic13\", \"Topic13\", \"Topic13\", \"Topic13\", \"Topic13\", \"Topic13\", \"Topic13\", \"Topic13\", \"Topic13\", \"Topic13\", \"Topic13\", \"Topic13\", \"Topic13\", \"Topic13\", \"Topic13\", \"Topic13\", \"Topic13\", \"Topic13\", \"Topic13\", \"Topic13\", \"Topic13\", \"Topic13\", \"Topic13\", \"Topic13\", \"Topic13\", \"Topic13\", \"Topic13\", \"Topic13\", \"Topic13\", \"Topic13\", \"Topic13\", \"Topic13\", \"Topic13\", \"Topic13\", \"Topic13\", \"Topic13\", \"Topic13\", \"Topic13\", \"Topic13\", \"Topic13\", \"Topic13\", \"Topic13\", \"Topic13\", \"Topic13\", \"Topic13\", \"Topic13\", \"Topic13\", \"Topic13\", \"Topic13\", \"Topic13\", \"Topic13\", \"Topic13\", \"Topic13\", \"Topic13\", \"Topic13\", \"Topic13\", \"Topic13\", \"Topic13\"], \"Freq\": [3546.0, 2107.0, 1145.0, 1861.0, 883.0, 1562.0, 825.0, 1096.0, 801.0, 871.0, 1507.0, 762.0, 778.0, 582.0, 595.0, 529.0, 903.0, 883.0, 1082.0, 1579.0, 627.0, 458.0, 591.0, 558.0, 703.0, 1642.0, 794.0, 407.0, 1840.0, 504.0, 2.01717641669222, 4.03435283338444, 42.36070475053661, 2.01717641669222, 8.06870566676888, 2.01717641669222, 2.01717641669222, 2.01717641669222, 4.03435283338444, 4.03435283338444, 4.03435283338444, 2.01717641669222, 8.06870566676888, 8.06870566676888, 6.051529250076659, 6.051529250076659, 2.01717641669222, 8.06870566676888, 4.03435283338444, 6.051529250076659, 4.03435283338444, 16.13741133353776, 8.06870566676888, 6.051529250076659, 2.01717641669222, 4.03435283338444, 8.06870566676888, 4.03435283338444, 2.01717641669222, 8.06870566676888, 290.47340400367966, 183.563053918992, 183.563053918992, 151.2882312519165, 106.91035008468764, 82.704233084381, 82.704233084381, 78.66988025099657, 76.65270383430435, 70.60117458422769, 66.56682175084326, 62.532468917458814, 56.48093966738215, 56.48093966738215, 54.46376325068994, 54.46376325068994, 128.09070245995596, 50.4294104173055, 48.412234000613275, 46.39505758392105, 46.39505758392105, 44.377881167228836, 44.377881167228836, 44.377881167228836, 44.377881167228836, 42.36070475053661, 42.36070475053661, 40.3435283338444, 38.326351917152174, 180.53728929395368, 489.1652810478633, 524.4658683399771, 411.5039890052128, 122.03917320987931, 1950.6095949413766, 134.1422317100326, 77.66129204265046, 259.20716954495026, 133.13364350168652, 319.72246204571684, 155.32258408530092, 137.16799633507097, 162.3827015437237, 328.79975592083184, 309.6365799622557, 74.63552741761214, 144.22811379349372, 228.94952329456692, 185.5802303356842, 133.13364350168652, 120.02199679318707, 133.13364350168652, 90.7729387511499, 111.9532911264182, 87.74717412611156, 94.80729158453434, 96.82446800122655, 95.81587979288044, 2.120282022640651, 2.120282022640651, 4.240564045281302, 14.84197415848456, 6.360846067921954, 2.120282022640651, 4.240564045281302, 2.120282022640651, 4.240564045281302, 8.481128090562605, 8.481128090562605, 6.360846067921954, 12.721692135843908, 2.120282022640651, 8.481128090562605, 4.240564045281302, 14.84197415848456, 53.007050566016275, 16.96225618112521, 6.360846067921954, 4.240564045281302, 2.120282022640651, 2.120282022640651, 6.360846067921954, 6.360846067921954, 2.120282022640651, 12.721692135843908, 6.360846067921954, 4.240564045281302, 4.240564045281302, 2107.560330504807, 595.7992483620229, 186.58481799237728, 184.46453596973666, 161.1414337206895, 159.0211516980488, 137.81833147164232, 103.8938191093919, 99.6532550641106, 80.57071686034475, 74.20987079242279, 59.36789663393824, 55.12733258865693, 124.03649832447807, 50.88676854337563, 42.40564045281302, 38.165076407531714, 36.04479438489107, 36.04479438489107, 36.04479438489107, 36.04479438489107, 33.92451236225042, 33.92451236225042, 31.804230339609767, 31.804230339609767, 29.68394831696912, 29.68394831696912, 29.68394831696912, 27.563666294328463, 202.48693316218217, 62.548319667899214, 241.71215058103422, 86.9315629282667, 168.56242079993177, 1087.704677614654, 115.55537023391548, 68.90916573582116, 960.4877562562149, 103.8938191093919, 147.35960057352523, 80.57071686034475, 84.81128090562603, 204.60721518482285, 145.2393185508846, 109.19452416599353, 303.2003292376131, 108.13438315467322, 107.07424214335289, 248.07299664895615, 289.41849609044885, 256.5541247395188, 134.63790843768135, 174.9232668678537, 121.91621630183744, 217.32890732066676, 130.39734439240004, 171.74284383389275, 151.60016461880656, 145.2393185508846, 122.97635731315776, 2.0248355060254224, 18.2235195542288, 2.0248355060254224, 4.049671012050845, 4.049671012050845, 4.049671012050845, 12.149013036152533, 8.09934202410169, 4.049671012050845, 8.09934202410169, 16.19868404820338, 6.074506518076267, 4.049671012050845, 16.19868404820338, 4.049671012050845, 4.049671012050845, 2.0248355060254224, 12.149013036152533, 10.124177530127112, 2.0248355060254224, 2.0248355060254224, 4.049671012050845, 6.074506518076267, 4.049671012050845, 2.0248355060254224, 2.0248355060254224, 4.049671012050845, 2.0248355060254224, 2.0248355060254224, 6.074506518076267, 236.90575420497441, 188.30970206036426, 168.06134700011006, 157.93716946998293, 151.86266295190669, 125.53980137357618, 99.2169397952457, 224.75674116882186, 80.99342024101689, 76.94374922896606, 72.8940782169152, 60.745065180762666, 56.69539416871182, 54.6705586626864, 52.64572315666098, 50.62088765063555, 44.5463811325593, 44.5463811325593, 44.5463811325593, 42.521545626533864, 40.496710120508446, 40.496710120508446, 40.496710120508446, 40.496710120508446, 38.47187461448303, 36.4470391084576, 36.4470391084576, 34.42220360243218, 32.39736809640676, 32.39736809640676, 63.7823184398008, 178.1855245302372, 47.58363439159742, 47.58363439159742, 196.40904408446596, 153.8874984579321, 201.47113284952954, 166.03651149408464, 303.72532590381337, 89.0927622651186, 338.1475295062455, 192.35937307241514, 105.29144631332196, 96.17968653620757, 119.46529485549992, 212.60772813266934, 167.04892924709733, 1085.3118312296263, 145.7881564338304, 154.8999162109448, 168.06134700011006, 141.73848542177956, 257.1541092652286, 180.21036003626259, 144.7757386808177, 445.4638113255929, 165.02409374107194, 233.86850094593626, 182.235195542288, 169.07376475312276, 135.66397890370328, 2.149625742973554, 6.4488772289206615, 6.4488772289206615, 2.149625742973554, 12.897754457841323, 2.149625742973554, 6.4488772289206615, 15.047380200814878, 4.299251485947108, 4.299251485947108, 10.74812871486777, 2.149625742973554, 4.299251485947108, 17.197005943788433, 2.149625742973554, 2.149625742973554, 17.197005943788433, 25.795508915682646, 6.4488772289206615, 2.149625742973554, 4.299251485947108, 60.18952080325951, 2.149625742973554, 10.74812871486777, 4.299251485947108, 4.299251485947108, 6.4488772289206615, 2.149625742973554, 36.543637630550414, 4.299251485947108, 801.8104021291356, 328.89273867495376, 273.00246935764136, 223.5610772692496, 199.91519409654052, 193.46631686761987, 159.072304980043, 118.22941586354547, 73.08727526110083, 70.93764951812729, 64.48877228920662, 62.33914654623306, 58.03989506028596, 49.44139208839174, 49.44139208839174, 45.142140602444634, 42.99251485947108, 40.842889116497524, 38.693263373523976, 38.693263373523976, 36.543637630550414, 36.543637630550414, 34.394011887576866, 34.394011887576866, 32.24438614460331, 32.24438614460331, 32.24438614460331, 32.24438614460331, 82.76059110448183, 56.96508218879918, 252.58102479939257, 157.9974921085562, 50.516204959878515, 48.36657921690497, 116.07979012057191, 549.229377329743, 150.47380200814877, 482.59097929756285, 204.21444558248763, 78.46133961853472, 104.25684853421737, 121.4538544780058, 372.9600664059116, 238.6084574700645, 156.92267923706945, 127.90273170692646, 147.24936339368844, 127.90273170692646, 151.54861487963555, 237.5336445985777, 221.41145152627604, 218.1870129118157, 102.10722279124381, 152.62342775112234, 128.97754457841324, 165.52118220896367, 123.60348022097935, 118.22941586354547, 119.30422873503225, 2.132219472605166, 4.264438945210332, 2.132219472605166, 21.322194726051663, 4.264438945210332, 23.454414198656828, 6.396658417815499, 17.05775578084133, 8.528877890420665, 2.132219472605166, 6.396658417815499, 25.586633671261996, 44.77660892470848, 4.264438945210332, 4.264438945210332, 4.264438945210332, 2.132219472605166, 10.661097363025831, 4.264438945210332, 2.132219472605166, 6.396658417815499, 8.528877890420665, 2.132219472605166, 4.264438945210332, 2.132219472605166, 2.132219472605166, 4.264438945210332, 8.528877890420665, 4.264438945210332, 8.528877890420665, 582.0959160212103, 339.0228961442214, 343.28733508943174, 170.5775578084133, 85.28877890420665, 85.28877890420665, 83.15655943160148, 78.89212048639115, 66.09880365076015, 66.09880365076015, 61.83436470554982, 55.43770628773432, 55.43770628773432, 53.30548681512915, 51.17326734252399, 49.04104786991882, 46.908828397313656, 42.644389452103326, 40.51216997949816, 40.51216997949816, 40.51216997949816, 38.37995050689299, 38.37995050689299, 38.37995050689299, 36.247731034287824, 36.247731034287824, 36.247731034287824, 34.11551156168266, 34.11551156168266, 88.48710811311439, 86.35488864050923, 275.0563119660664, 51.17326734252399, 601.2858912746569, 723.8885109494539, 327.29568904489304, 90.61932758571956, 97.01598600353506, 88.48710811311439, 179.10643569883393, 139.6603754556384, 201.49474016118822, 242.00691014068636, 103.41264442135055, 179.10643569883393, 160.98257018169005, 288.915738538, 107.6770833665609, 119.4042904658893, 150.32147281866423, 126.86705862000738, 233.47803225026567, 147.12314360975648, 200.42863042488563, 273.99020222976384, 148.18925334605905, 166.31311886320296, 115.13985152067896, 121.53650993849448, 115.13985152067896, 101.28042494874538, 113.00763204807382, 107.6770833665609, 825.4448019689117, 23.957500848701923, 1145.6041314924737, 135.03318660177447, 50.09295632001311, 23.957500848701923, 63.16068405566871, 63.16068405566871, 37.025228584357514, 23.957500848701923, 23.957500848701923, 23.957500848701923, 37.025228584357514, 389.8538774470586, 23.957500848701923, 47.915001697403845, 91.47409414958915, 211.26159839309878, 6.533863867827797, 6.533863867827797, 2.1779546226092656, 2.1779546226092656, 6.533863867827797, 13.067727735655595, 10.88977311304633, 4.355909245218531, 4.355909245218531, 56.62682018784091, 4.355909245218531, 10.88977311304633, 407.2775144279327, 209.08364377048952, 165.5245513183042, 141.5670504696023, 82.7622756591521, 71.87250254610578, 149.1898916487347, 69.6945479234965, 54.44886556523164, 43.55909245218532, 39.203183206966784, 34.84727396174825, 32.66931933913899, 30.49136471652972, 30.49136471652972, 30.49136471652972, 30.49136471652972, 66.4276159895826, 30.49136471652972, 66.4276159895826, 92.56307146089378, 123.05443617742351, 52.27091094262238, 52.27091094262238, 534.6878598505747, 98.00795801741695, 325.6042160800852, 158.9906874504764, 118.69852693220498, 120.87648155481425, 404.01058249401876, 118.69852693220498, 186.21512023309222, 211.26159839309878, 245.01989504354242, 142.65602778090692, 214.52853032701267, 100.18591264002622, 84.94023028176136, 83.85125297045673, 94.74102608350306, 95.83000339480769, 98.00795801741695, 13.45010975883022, 13.45010975883022, 6.72505487941511, 80.70065855298131, 13.45010975883022, 6.72505487941511, 6.72505487941511, 6.72505487941511, 13.45010975883022, 13.45010975883022, 6.72505487941511, 6.72505487941511, 40.350329276490655, 6.72505487941511, 20.175164638245327, 26.90021951766044, 6.72505487941511, 6.72505487941511, 6.72505487941511, 6.72505487941511, 6.72505487941511, 6.72505487941511, 13.45010975883022, 13.45010975883022, 6.72505487941511, 6.72505487941511, 6.72505487941511, 6.72505487941511, 6.72505487941511, 13.45010975883022, 529.0376505139886, 138.98446750791226, 112.08424799025182, 107.60087807064176, 98.6341382314216, 96.39245327161657, 91.9090833520065, 69.49223375395613, 65.00886383434606, 65.00886383434606, 60.52549391473598, 58.283808954930954, 56.04212399512591, 56.04212399512591, 53.80043903532088, 51.55875407551584, 51.55875407551584, 51.55875407551584, 44.83369919610073, 42.59201423629569, 40.350329276490655, 40.350329276490655, 40.350329276490655, 33.62527439707554, 31.383589437270512, 31.383589437270512, 31.383589437270512, 31.383589437270512, 31.383589437270512, 31.383589437270512, 57.16296647502843, 351.9445386893907, 267.88135269670187, 90.78824087210398, 90.78824087210398, 141.2261524677173, 107.60087807064176, 72.85476119366369, 51.55875407551584, 544.7294452326239, 150.19289230693744, 187.18069414372056, 496.5332185968156, 198.3891189427457, 153.555419746645, 382.20728564675875, 207.35585878196588, 158.03878966625507, 93.02992583190901, 91.9090833520065, 132.25941262849716, 164.7638445456702, 158.03878966625507, 178.2139543045004, 121.05098782947196, 100.87582319122664, 135.6219400682047, 115.44677542995939, 97.51329575151908, 100.87582319122664, 2.2215136668760227, 4.443027333752045, 4.443027333752045, 4.443027333752045, 2.2215136668760227, 2.2215136668760227, 2.2215136668760227, 4.443027333752045, 4.443027333752045, 4.443027333752045, 4.443027333752045, 4.443027333752045, 2.2215136668760227, 8.88605466750409, 2.2215136668760227, 2.2215136668760227, 2.2215136668760227, 2.2215136668760227, 2.2215136668760227, 2.2215136668760227, 8.88605466750409, 2.2215136668760227, 2.2215136668760227, 2.2215136668760227, 4.443027333752045, 2.2215136668760227, 2.2215136668760227, 2.2215136668760227, 2.2215136668760227, 2.2215136668760227, 309.90115652920514, 224.3728803544783, 186.6071480175859, 175.49957968320578, 173.27806601632977, 88.86054667504091, 77.75297834066079, 62.202382672528636, 62.202382672528636, 59.98086900565261, 57.75935533877659, 51.094814338148524, 48.8733006712725, 116.62946751099119, 39.987246003768405, 39.987246003768405, 39.987246003768405, 39.987246003768405, 37.765732336892384, 37.765732336892384, 37.765732336892384, 37.765732336892384, 35.54421867001636, 33.32270500314034, 33.32270500314034, 33.32270500314034, 31.101191336264318, 31.101191336264318, 31.101191336264318, 28.879677669388293, 28.879677669388293, 28.879677669388293, 52.205571171586534, 168.8350386825777, 41.098002837206415, 61.09162583909062, 246.58801702323854, 65.53465317284267, 89.97130350847891, 125.51552217849529, 87.74978984160289, 113.29719701067715, 65.53465317284267, 95.52508767566897, 254.3633148573046, 109.96492651036311, 212.15455518666016, 105.52189917661107, 81.08524884097483, 92.19281717535493, 281.02147885981685, 151.06292934756954, 311.01191336264316, 113.29719701067715, 117.7402243444292, 95.52508767566897, 89.97130350847891, 133.29082001256137, 137.7338473463134, 171.0565523494537, 167.7242818491397, 113.29719701067715, 145.50914518037948, 97.746601342545, 96.63584450910697, 6.601278730211675, 4.400852486807784, 4.400852486807784, 4.400852486807784, 2.200426243403892, 2.200426243403892, 2.200426243403892, 4.400852486807784, 2.200426243403892, 2.200426243403892, 6.601278730211675, 4.400852486807784, 2.200426243403892, 2.200426243403892, 2.200426243403892, 2.200426243403892, 2.200426243403892, 2.200426243403892, 4.400852486807784, 2.200426243403892, 2.200426243403892, 2.200426243403892, 4.400852486807784, 2.200426243403892, 2.200426243403892, 2.200426243403892, 2.200426243403892, 2.200426243403892, 2.200426243403892, 6.601278730211675, 347.6673464578149, 158.4306895250802, 156.23026328167632, 125.42429587402184, 110.0213121701946, 105.6204596833868, 74.81449227573232, 63.81236105871286, 61.61193481530897, 52.8102298416934, 41.80809862467394, 39.60767238127005, 39.60767238127005, 39.60767238127005, 37.40724613786616, 37.40724613786616, 35.20681989446227, 33.006393651058374, 33.006393651058374, 33.006393651058374, 33.006393651058374, 28.605541164250596, 28.605541164250596, 28.605541164250596, 28.605541164250596, 28.605541164250596, 26.4051149208467, 26.4051149208467, 26.4051149208467, 26.4051149208467, 84.71641037104985, 94.61832846636734, 358.66947767483435, 200.23878814975416, 125.42429587402184, 478.5927079403465, 193.63750941954248, 49.50959047658757, 55.0106560850973, 125.42429587402184, 117.72280402210822, 353.16841206632466, 561.1086920679925, 220.0426243403892, 148.5287714297627, 196.93814878464832, 335.56500211909355, 113.32195153530043, 92.41790222296346, 144.12791894295492, 71.51385291062648, 83.61619724934788, 139.72706645614716, 510.4988884697029, 172.7334601072055, 84.71641037104985, 107.82088592679071, 110.0213121701946, 135.32621396933934, 178.23452571571525, 107.82088592679071, 123.22386963061794, 112.22173841359849, 11.246644020060739, 22.493288040121477, 6.747986412036444, 11.246644020060739, 2.249328804012148, 4.498657608024296, 4.498657608024296, 4.498657608024296, 2.249328804012148, 6.747986412036444, 4.498657608024296, 2.249328804012148, 2.249328804012148, 4.498657608024296, 2.249328804012148, 8.997315216048593, 2.249328804012148, 4.498657608024296, 2.249328804012148, 2.249328804012148, 8.997315216048593, 6.747986412036444, 6.747986412036444, 4.498657608024296, 4.498657608024296, 4.498657608024296, 6.747986412036444, 6.747986412036444, 2.249328804012148, 15.745301628085036, 883.9862199767742, 458.8630760184782, 317.15536136571285, 258.67281246139703, 137.20905704474103, 116.9650978086317, 96.72113857252238, 76.47717933641303, 76.47717933641303, 69.72919292437658, 58.48254890431585, 56.233220100303704, 51.73456249227941, 47.235904884255106, 42.73724727623081, 40.48791847221866, 38.238589668206515, 38.238589668206515, 35.98926086419437, 35.98926086419437, 33.73993206018222, 31.490603256170072, 31.490603256170072, 31.490603256170072, 29.241274452157924, 29.241274452157924, 29.241274452157924, 29.241274452157924, 29.241274452157924, 29.241274452157924, 29.241274452157924, 50.609898090273326, 50.609898090273326, 60.731877708328, 129.33640623069851, 132.71039943671673, 71.97852172838874, 172.07365350692933, 50.609898090273326, 132.71039943671673, 121.463755416656, 71.97852172838874, 77.6018437384191, 94.47180976851021, 61.85654211033407, 80.97583694443732, 137.20905704474103, 336.27465619981615, 163.07633829088076, 95.59647417051629, 96.72113857252238, 67.47986412036444, 89.97315216048591, 97.84580297452844, 122.58841981866206, 105.71845378857094, 102.34446058255273, 88.84848775847985, 78.72650814042518, 75.35251493440695, 76.47717933641303, 11.602157889442918, 25.524747356774416, 11.602157889442918, 157.78934729642367, 23.204315778885835, 11.602157889442918, 11.602157889442918, 20.88388420099725, 11.602157889442918, 20.88388420099725, 20.88388420099725, 51.04949471354883, 20.88388420099725, 23.204315778885835, 11.602157889442918, 11.602157889442918, 11.602157889442918, 20.88388420099725, 11.602157889442918, 11.602157889442918, 20.88388420099725, 41.7677684019945, 34.80647366832875, 11.602157889442918, 11.602157889442918, 11.602157889442918, 11.602157889442918, 71.93337891454608, 11.602157889442918, 11.602157889442918, 106.73985258287483, 106.73985258287483, 92.81726311554334, 85.85596838187759, 74.25381049243467, 67.29251575876891, 60.33122102510317, 53.369926291437416, 48.72906313566025, 46.40863155777167, 37.12690524621733, 34.80647366832875, 34.80647366832875, 34.80647366832875, 32.48604209044017, 32.48604209044017, 32.48604209044017, 32.48604209044017, 32.48604209044017, 32.48604209044017, 30.165610512551584, 30.165610512551584, 30.165610512551584, 30.165610512551584, 30.165610512551584, 97.4581262713205, 30.165610512551584, 67.29251575876891, 49.88927892460454, 47.568847346715955, 38.287121035161626, 252.92704198985558, 167.071073607978, 185.63452623108668, 84.69575259293329, 300.49588933657157, 80.05488943715612, 406.0755261305021, 138.06567888437073, 141.5463262512036, 119.50222626126204, 158.94956308536797, 66.13229996982463, 97.4581262713205, 337.62279458278886, 204.19797885419533, 110.22049994970772, 263.3689840903542, 75.41402628137897, 71.93337891454608, 105.57963679393055, 113.70114731654058, 222.761431477304, 100.93877363815338, 121.82265783915062, 89.33661574871046, 102.09898942709766, 96.29791048237621, 97.4581262713205, 89.33661574871046, 90.49683153765476, 90.49683153765476, 89.33661574871046, 6.998065228288936, 4.665376818859291, 4.665376818859291, 4.665376818859291, 2.3326884094296454, 4.665376818859291, 13.996130456577871, 6.998065228288936, 4.665376818859291, 2.3326884094296454, 2.3326884094296454, 4.665376818859291, 2.3326884094296454, 4.665376818859291, 4.665376818859291, 4.665376818859291, 4.665376818859291, 6.998065228288936, 2.3326884094296454, 6.998065228288936, 2.3326884094296454, 2.3326884094296454, 11.663442047148227, 4.665376818859291, 4.665376818859291, 4.665376818859291, 6.998065228288936, 2.3326884094296454, 4.665376818859291, 2.3326884094296454, 216.940022076957, 202.94389162037913, 186.61507275437162, 186.61507275437162, 130.63055092806013, 109.63635524319332, 76.97871751117829, 58.31721023574113, 51.31914500745219, 48.98645659802255, 48.98645659802255, 117.80076467619708, 44.321079779163256, 41.98839136973361, 41.98839136973361, 39.65570296030397, 34.990326141444676, 34.990326141444676, 34.990326141444676, 32.65763773201503, 32.65763773201503, 32.65763773201503, 32.65763773201503, 32.65763773201503, 30.324949322585386, 30.324949322585386, 30.324949322585386, 30.324949322585386, 27.992260913155743, 27.992260913155743, 75.81237330646346, 27.992260913155743, 95.64022478661545, 89.80850376304134, 80.47775012532276, 171.4525980930789, 145.79302558935282, 528.3539247358146, 100.30560160547475, 38.489358755589144, 163.28818866007518, 51.31914500745219, 109.63635524319332, 106.13732262904885, 58.31721023574113, 150.45840240821212, 73.47968489703383, 152.79109081764176, 216.940022076957, 72.313340692319, 255.42938083254614, 185.4487285496568, 152.79109081764176, 85.14312694418206, 148.1257139987825, 123.6324856997712, 88.64215955832651, 93.30753637718581, 92.141192172471, 25.30369514108132, 50.60739028216264, 25.30369514108132, 20.703023297248354, 20.703023297248354, 25.30369514108132, 20.703023297248354, 20.703023297248354, 25.30369514108132, 20.703023297248354, 20.703023297248354, 96.61410872049233, 41.40604659449671, 25.30369514108132, 50.60739028216264, 25.30369514108132, 41.40604659449671, 20.703023297248354, 25.30369514108132, 2.300335921916484, 2.300335921916484, 2.300335921916484, 2.300335921916484, 2.300335921916484, 2.300335921916484, 13.802015531498904, 9.201343687665936, 2.300335921916484, 2.300335921916484, 2.300335921916484, 216.23157666014947, 184.0268737533187, 112.7164601739077, 112.7164601739077, 94.31377279857584, 89.71310095474287, 87.41276503282639, 69.01007765749452, 69.01007765749452, 66.70974173557804, 66.70974173557804, 141.47065919786377, 64.40940581366155, 62.109069891745065, 62.109069891745065, 57.5083980479121, 55.20806212599562, 52.90772620407913, 52.90772620407913, 39.10571067258023, 34.50503882874726, 34.50503882874726, 34.50503882874726, 34.50503882874726, 34.50503882874726, 34.50503882874726, 34.50503882874726, 247.28611160602202, 64.40940581366155, 42.55621455545496, 234.63426403548135, 71.310413579411, 163.32385045607037, 110.41612425199123, 581.9849882448705, 203.57972908960883, 147.22149900265498, 101.21478056432528, 92.01343687665936, 169.07469026086156, 88.56293299378463, 267.9891349032704, 175.975698026611, 126.51847570540662, 116.16696405678243, 108.11578833007474, 94.31377279857584, 131.11914754923959, 92.01343687665936, 118.46729997869893, 102.36494852528354, 103.51511648624178, 111.56629221294948], \"Term\": [\"police\", \"road\", \"water\", \"bbmp\", \"student\", \"work\", \"lake\", \"government\", \"bus\", \"complaint\", \"official\", \"hospital\", \"station\", \"court\", \"traffic\", \"tree\", \"project\", \"state\", \"resident\", \"city\", \"arrest\", \"school\", \"lakh\", \"accuse\", \"area\", \"bengaluru\", \"time\", \"waste\", \"year\", \"company\", \"iftequar\", \"graze\", \"ccb\", \"crossfire\", \"provoke_breach\", \"shohaib\", \"qadr\", \"hidayath\", \"brutally\", \"wheelie\", \"venkatagowda\", \"soladevanalli\", \"ransom\", \"shot_leg\", \"knifepoint\", \"devaraj_chandrashekar\", \"dagger\", \"booty\", \"acharya\", \"indica\", \"picket\", \"innova\", \"dangerous_weapon\", \"sathish\", \"apmc\", \"hiriyur\", \"punched_face\", \"cctv_camera\", \"murderanother\", \"love_affair\", \"assault\", \"lakshmana\", \"gang\", \"custody\", \"constable\", \"crime\", \"bail\", \"harish\", \"varshini\", \"beat\", \"steal\", \"remanded_judicial\", \"lodge\", \"mobile_phone\", \"alias\", \"flee\", \"policeman\", \"rupesh\", \"cop\", \"drunk\", \"nayak\", \"assailant\", \"raja\", \"theft\", \"barge\", \"harass\", \"robbery\", \"knife\", \"stab\", \"murder\", \"accuse\", \"arrest\", \"man\", \"duo\", \"police\", \"associate\", \"abuse\", \"victim\", \"attack\", \"woman\", \"suspect\", \"bike\", \"incident\", \"case\", \"complaint\", \"duty\", \"kumar\", \"station\", \"file\", \"friend\", \"identify\", \"driver\", \"phone\", \"house\", \"recover\", \"officer\", \"city\", \"resident\", \"unequal\", \"bala\", \"terminus\", \"turned_nightmare\", \"rubbish\", \"indifference\", \"thunderstorm\", \"asserted\", \"overhead\", \"submerge\", \"stuck\", \"snail_pace\", \"transmission\", \"inundated\", \"cave\", \"blockage\", \"arterial_road\", \"asphalt\", \"srinivasa\", \"alternate_route\", \"outstanding\", \"lightning\", \"mm\", \"replicate\", \"natural_disaster\", \"prabhakaran\", \"execution\", \"bts\", \"noted\", \"russell\", \"road\", \"traffic\", \"footpath\", \"flyover\", \"junction\", \"pothole\", \"repair\", \"underpass\", \"pedestrian\", \"heavy\", \"cable\", \"motorist\", \"kadugodi\", \"concrete\", \"brigade\", \"traffic_jam\", \"fill_pothole\", \"dust\", \"outer_ring\", \"white_toppe\", \"sarjapur\", \"utility\", \"pwd\", \"smooth\", \"nightmare\", \"heavy_rain\", \"monsoon\", \"mess\", \"wilson_garden\", \"stretch\", \"white_topping\", \"engineer\", \"corporator\", \"contractor\", \"work\", \"rain\", \"alternative\", \"bbmp\", \"lay\", \"main\", \"structure\", \"circle\", \"complete\", \"commuter\", \"block\", \"area\", \"street\", \"damage\", \"vehicle\", \"resident\", \"project\", \"construction\", \"month\", \"mahanagara_palike\", \"city\", \"problem\", \"official\", \"add\", \"bengaluru\", \"time\", \"mahangara\", \"post_mortem\", \"medinipur\", \"halim\", \"doddabanahalli\", \"rod\", \"nasir\", \"rumour\", \"rajamani\", \"electric_pole\", \"bidadi\", \"waseem\", \"rudrappa\", \"biker\", \"rented\", \"peep\", \"bagalkote\", \"unconscious\", \"mistake\", \"gurukul\", \"adamant\", \"subsequent\", \"azharuddin\", \"toss\", \"moma\", \"shabbir\", \"shaik\", \"shantha\", \"chin\", \"hegdenagar\", \"rush\", \"kill\", \"daughter\", \"die\", \"husband\", \"father\", \"sister\", \"son\", \"dead\", \"baby\", \"relative\", \"afternoon\", \"hang\", \"suicide\", \"sagar\", \"collapse\", \"lost_control\", \"driving\", \"crash\", \"nelamangala\", \"hostel\", \"raghu\", \"rash_negligent\", \"committed_suicide\", \"decease\", \"sleep\", \"declared_brought\", \"nagaraju\", \"torture\", \"incident_happene\", \"marry\", \"accident\", \"knock\", \"raju\", \"wife\", \"shift\", \"fall\", \"death\", \"driver\", \"boy\", \"house\", \"car\", \"girl\", \"neighbour\", \"parent\", \"pm\", \"night\", \"police\", \"mother\", \"couple\", \"family\", \"body\", \"find\", \"home\", \"spot\", \"year\", \"friend\", \"hospital\", \"child\", \"woman\", \"live\", \"mofussil\", \"vijayawada\", \"lcs\", \"rajanukunte\", \"rub\", \"wilderness\", \"yashwantpur\", \"corporation_limite\", \"inadequate\", \"epc\", \"associate_professor\", \"partnership_ppp\", \"ppp\", \"ashish_verma\", \"unfeasible\", \"vgf\", \"occupancy\", \"bidder\", \"irsdc\", \"lounge\", \"sanjeev_dyamannavar\", \"skywalk\", \"taker\", \"foundation_stone\", \"nod\", \"tiruchirappalli\", \"complement\", \"oversight\", \"swr\", \"prayanikara\", \"bus\", \"railway\", \"metro\", \"transport\", \"bmtc\", \"phase\", \"bmrcl\", \"corporation\", \"yeshwantpur\", \"majestic\", \"package\", \"ksrtc\", \"lease\", \"metro_rail\", \"suburban_rail\", \"banaswadi\", \"conductor\", \"krdcl\", \"extension\", \"transport_corporation\", \"spv\", \"baiyappanahalli\", \"corporation_limited\", \"depot\", \"fuel\", \"ksr\", \"cabinet\", \"rail\", \"fare\", \"bid\", \"train\", \"tender\", \"detailed\", \"trip\", \"proposal\", \"station\", \"km\", \"project\", \"cost\", \"network\", \"propose\", \"delay\", \"government\", \"vehicle\", \"service\", \"source\", \"number\", \"build\", \"company\", \"official\", \"work\", \"year\", \"pass\", \"state\", \"public\", \"bengaluru\", \"time\", \"month\", \"city\", \"revisedbda\", \"archaeological\", \"doddamavalli\", \"appointment\", \"independent\", \"hoarding\", \"eviction\", \"cess\", \"nisarga_narayanaswamy\", \"hanumantegowda\", \"dearth\", \"demolition\", \"counsel\", \"entitle\", \"disburse\", \"adversely\", \"relied\", \"revanna\", \"venkatappa\", \"convictsfifteen\", \"constitution\", \"open_defecation\", \"fecal\", \"byre\", \"bharat_abhiyan\", \"ateeq\", \"reiterate\", \"litigation\", \"koti\", \"governor\", \"court\", \"bda\", \"order\", \"committee\", \"ngt\", \"revenue\", \"kspcb\", \"petition\", \"petitioner\", \"complex\", \"advocate\", \"justice\", \"compensation\", \"pollution_control\", \"acquire\", \"issued_notice\", \"buffer_zone\", \"demolish\", \"allottee\", \"convict\", \"execute\", \"chief_justice\", \"division_bench\", \"guideline\", \"status\", \"regulation\", \"objection\", \"provision\", \"hearing_petition\", \"regard\", \"secretary\", \"land\", \"resolve\", \"state\", \"government\", \"karnataka\", \"commission\", \"matter\", \"letter\", \"authority\", \"site\", \"seek\", \"report\", \"survey\", \"commissioner\", \"act\", \"issue\", \"submit\", \"rule\", \"development\", \"layout\", \"department\", \"building\", \"public\", \"official\", \"build\", \"high\", \"ensure\", \"conduct\", \"construction\", \"zone\", \"case\", \"people\", \"lake\", \"depute\", \"water\", \"sewage\", \"black_spot\", \"cleaning\", \"tonne\", \"segregation\", \"segregate\", \"segregate_waste\", \"uranium\", \"swd\", \"waterbody\", \"garbage\", \"contaminate\", \"drinking\", \"dry\", \"supply\", \"borewells_drille\", \"kidney_disease\", \"wfr\", \"interstitial\", \"serviceman\", \"cheap\", \"stench\", \"radiological\", \"unexpected\", \"litre\", \"bagalur\", \"buck\", \"waste\", \"bwssb\", \"dump\", \"borewell\", \"solid_waste\", \"tanker\", \"clean\", \"cauvery\", \"bin\", \"compost\", \"supply_sewerage\", \"penalise\", \"litter\", \"island\", \"soil\", \"rejuvenate\", \"valley\", \"tank\", \"swds\", \"marshal\", \"fine\", \"village\", \"crisis\", \"groundwater\", \"resident\", \"bellandur\", \"area\", \"management\", \"apartment\", \"board\", \"bbmp\", \"collect\", \"issue\", \"add\", \"bengaluru\", \"place\", \"city\", \"local\", \"concern\", \"reduce\", \"problem\", \"citizen\", \"day\", \"silver_trumpet\", \"erosion\", \"slam\", \"specie\", \"oil\", \"bitter\", \"creation\", \"kasturba\", \"flora\", \"irrigation\", \"pave\", \"capacity_utilisation\", \"bamboo\", \"swachh_survekshan\", \"bosch\", \"analysis\", \"gubbi_labs\", \"backing\", \"gabion_boxe\", \"metre_cube\", \"jamun\", \"slender_loris\", \"axe\", \"tree_census\", \"girth\", \"vend\", \"recipe\", \"scour\", \"microchips_sandalwood\", \"solar\", \"tree\", \"toilet\", \"forest\", \"parameshwara\", \"lalbagh\", \"green\", \"garden\", \"sapling\", \"horticulture_department\", \"monitor\", \"commissioner_manjunath\", \"variety\", \"mayor_gangambike\", \"walker\", \"fruit\", \"jayanagar\", \"mango\", \"generate\", \"sparrow\", \"farm\", \"electricity\", \"coconut\", \"swm\", \"green_cover\", \"opposition\", \"cfb\", \"grievance\", \"crop\", \"fell\", \"count\", \"mallikarjun\", \"park\", \"plant\", \"grow\", \"prasad\", \"datum\", \"instal\", \"planning\", \"threat\", \"city\", \"ward\", \"citizen\", \"bbmp\", \"set\", \"centre\", \"bengaluru\", \"department\", \"plan\", \"power\", \"information\", \"place\", \"project\", \"add\", \"official\", \"include\", \"civic_body\", \"year\", \"accord\", \"director\", \"public\", \"plaster\", \"icrisat\", \"abaa\", \"kadlekai\", \"kadalekai\", \"hotcake\", \"arranged\", \"garudachar\", \"dharmapuri\", \"cloth_bag\", \"cheluvi\", \"chowdiah\", \"ancient\", \"planet\", \"thrilled\", \"vikas\", \"goodu\", \"vivanta\", \"handloom\", \"ramaswamy\", \"nest\", \"zubeen\", \"waft\", \"tummala\", \"stereotype\", \"husori\", \"kadalekayi\", \"gudi\", \"meghalaya\", \"mekhela\", \"event\", \"association\", \"organise\", \"volunteer\", \"festival\", \"art\", \"dance\", \"organiser\", \"human\", \"celebrate\", \"host\", \"culture\", \"annual\", \"community\", \"popular\", \"inspire\", \"music\", \"showcase\", \"traditional\", \"stall\", \"idol\", \"exhibition\", \"cultural\", \"participant\", \"promote\", \"competition\", \"contest\", \"noise\", \"meal\", \"disability\", \"egg\", \"youngster\", \"workshop\", \"design\", \"paint\", \"participate\", \"group\", \"material\", \"social\", \"initiative\", \"aim\", \"organisation\", \"inaugurate\", \"society\", \"child\", \"international\", \"part\", \"world\", \"food\", \"speak\", \"day\", \"hold\", \"city\", \"create\", \"team\", \"special\", \"good\", \"member\", \"india\", \"people\", \"bengaluru\", \"include\", \"year\", \"base\", \"start\", \"accounted_high\", \"greedy\", \"benson\", \"applied\", \"waived\", \"religare\", \"uloom\", \"ulema\", \"shoaibullah\", \"seminary\", \"proximity\", \"pharmacy\", \"pharma\", \"openamong\", \"morgenall\", \"miftahi\", \"maseeh\", \"maqsood\", \"making\", \"latest\", \"janasri\", \"bouquet\", \"bullion\", \"diversified\", \"lucky\", \"slowdown\", \"schoolteacher\", \"quarterly\", \"publishing\", \"ombudsman\", \"money\", \"ramesh\", \"khan\", \"account\", \"cheat\", \"investor\", \"customer\", \"invest\", \"crore\", \"raid\", \"rajesh\", \"scam\", \"vote\", \"rai\", \"complainant\", \"bank_account\", \"fraud\", \"lure\", \"proof\", \"menon\", \"forge\", \"dupe\", \"name_changed\", \"muslim\", \"prabhu\", \"transaction\", \"kitchen\", \"voter\", \"insurance\", \"showroom\", \"transfer\", \"contact\", \"pay\", \"document\", \"firm\", \"lakh\", \"claim\", \"investment\", \"flat\", \"amount\", \"bank\", \"company\", \"complaint\", \"office\", \"property\", \"return\", \"file\", \"promise\", \"june\", \"owner\", \"payment\", \"investigate\", \"kumar\", \"police\", \"senior\", \"fake\", \"approach\", \"register\", \"month\", \"year\", \"back\", \"case\", \"book\", \"converter\", \"easy\", \"pvr\", \"patience\", \"korean\", \"exciting\", \"artistic\", \"viewer\", \"unravel\", \"kiss\", \"simplicity\", \"sadness\", \"saber\", \"rapt\", \"ramtin\", \"raha\", \"quip\", \"parinaz\", \"masterpiece\", \"mahoor\", \"lida\", \"lavafi\", \"laughter\", \"keivan\", \"jadidi\", \"izadyar\", \"iran\", \"impression\", \"immaturity\", \"hattrick\", \"student\", \"school\", \"college\", \"university\", \"education\", \"science\", \"teacher\", \"class\", \"electronic\", \"museum\", \"institution\", \"exam\", \"academic\", \"indian_institute\", \"faculty\", \"real\", \"field\", \"scientist\", \"alumnus\", \"research_scholar\", \"answer\", \"intend\", \"rank\", \"syndicate\", \"engine\", \"practical\", \"internet\", \"mukherjee\", \"ceremony\", \"topper\", \"inauguration\", \"channel\", \"admission\", \"test\", \"research\", \"campus\", \"benefit\", \"study\", \"skill\", \"institute\", \"programme\", \"iisc\", \"hope\", \"technology\", \"industry\", \"engineering\", \"management\", \"year\", \"india\", \"film\", \"country\", \"access\", \"create\", \"centre\", \"add\", \"department\", \"time\", \"set\", \"open\", \"national\", \"part\", \"broken\", \"extra\", \"feb\", \"protest\", \"respect\", \"bharani_dharan\", \"dish\", \"lady\", \"heel\", \"await\", \"migrant\", \"army\", \"rally\", \"planetarium\", \"twitt\", \"speech\", \"praise\", \"elderly\", \"sharmila\", \"depict\", \"rajini\", \"fan\", \"kashyap\", \"settlement\", \"spoil\", \"vogue_institute\", \"abish\", \"lift\", \"gokul\", \"fitness\", \"krishna\", \"rao\", \"theatre\", \"movie\", \"facebook\", \"crowd\", \"middle\", \"press\", \"elevator\", \"fellow\", \"clarify\", \"voice\", \"tough\", \"song\", \"quickly\", \"lakshman\", \"happy\", \"open_space\", \"television\", \"journalist\", \"enjoy\", \"hassan\", \"listen\", \"chandrashekhar\", \"eastern\", \"attend\", \"powder\", \"fee\", \"accept\", \"pub\", \"wing\", \"demand\", \"release\", \"show\", \"ticket\", \"call\", \"watch\", \"time\", \"face\", \"meet\", \"worker\", \"week\", \"urge\", \"happen\", \"day\", \"give\", \"long\", \"people\", \"small\", \"feel\", \"friday\", \"end\", \"bengaluru\", \"turn\", \"make\", \"film\", \"open\", \"leave\", \"pm\", \"force\", \"start\", \"place\", \"member\", \"rare_disease\", \"forgetfulness\", \"globe\", \"equator\", \"differentiate\", \"circumnavigate\", \"complication\", \"trek\", \"ukulele\", \"shelf\", \"cpap\", \"pram\", \"misplaced\", \"mat\", \"forgetful\", \"amblyopia\", \"footwear\", \"fault\", \"crocs\", \"clothing\", \"charger\", \"banana\", \"detection\", \"ail\", \"workforce\", \"unlicensed\", \"temperature_degree\", \"suppository\", \"lieutenant\", \"neptune\", \"patient\", \"doctor\", \"suffer\", \"medical\", \"eye\", \"dog\", \"disease\", \"surgery\", \"blood\", \"emergency\", \"donate\", \"cancer\", \"game\", \"factor\", \"ambulance\", \"pet\", \"neha\", \"medicine\", \"nimhan\", \"kidney\", \"pain\", \"infection\", \"haemophilia\", \"lifestyle\", \"bone\", \"obesity\", \"george\", \"srikanth\", \"knee\", \"weight\", \"common\", \"hypertension\", \"care\", \"severe\", \"negligence\", \"treatment\", \"treat\", \"hospital\", \"heart\", \"consultant\", \"health\", \"device\", \"condition\", \"early\", \"uber\", \"lead\", \"age\", \"due\", \"case\", \"rescue\", \"year\", \"people\", \"accord\", \"result\", \"day\", \"add\", \"family\", \"report\", \"child\", \"mishap\", \"visa\", \"operational\", \"disrupt\", \"automate\", \"yarn\", \"urs\", \"dubai\", \"fernande\", \"numerous\", \"smuggle\", \"premise\", \"item\", \"limited_bial\", \"agent\", \"suspicious\", \"homeless\", \"deport\", \"empty\", \"helena\", \"valesao\", \"shetan\", \"ribello\", \"kuwaiti\", \"immigrate\", \"oman\", \"kuwait\", \"rebello\", \"quepem\", \"zambaulim\", \"fire\", \"security\", \"singh\", \"kia\", \"shelter\", \"gate\", \"passport\", \"kempegowda_international\", \"flight\", \"kerala\", \"immigration\", \"market\", \"entry\", \"mumbai\", \"fly\", \"custom\", \"drug\", \"international_airport\", \"manoj\", \"bial\", \"rpf\", \"norm\", \"screening\", \"malaysia\", \"church\", \"doll\", \"conceal\", \"airport\", \"delhi\", \"tag\", \"passenger\", \"library\", \"check\", \"seize\", \"official\", \"officer\", \"service\", \"travel\", \"alert\", \"senior\", \"air\", \"bengaluru\", \"accord\", \"provide\", \"march\", \"back\", \"safety\", \"find\", \"indian\", \"india\", \"home\", \"arrest\", \"work\"], \"Total\": [3546.0, 2107.0, 1145.0, 1861.0, 883.0, 1562.0, 825.0, 1096.0, 801.0, 871.0, 1507.0, 762.0, 778.0, 582.0, 595.0, 529.0, 903.0, 883.0, 1082.0, 1579.0, 627.0, 458.0, 591.0, 558.0, 703.0, 1642.0, 794.0, 407.0, 1840.0, 504.0, 2.01717641669222, 4.03435283338444, 42.36070475053661, 2.01717641669222, 8.06870566676888, 2.01717641669222, 2.01717641669222, 2.01717641669222, 4.03435283338444, 4.03435283338444, 4.03435283338444, 2.01717641669222, 8.06870566676888, 8.06870566676888, 6.051529250076659, 6.051529250076659, 2.01717641669222, 8.06870566676888, 4.03435283338444, 6.051529250076659, 4.03435283338444, 16.13741133353776, 8.06870566676888, 6.051529250076659, 2.01717641669222, 4.03435283338444, 8.06870566676888, 4.03435283338444, 2.01717641669222, 8.06870566676888, 290.47340400367966, 183.563053918992, 183.563053918992, 151.2882312519165, 106.91035008468764, 82.704233084381, 82.704233084381, 78.66988025099657, 76.65270383430435, 70.60117458422769, 66.56682175084326, 62.532468917458814, 56.48093966738215, 56.48093966738215, 54.46376325068994, 54.46376325068994, 129.25091824890026, 50.4294104173055, 48.412234000613275, 46.39505758392105, 46.39505758392105, 44.377881167228836, 44.377881167228836, 44.377881167228836, 44.377881167228836, 42.36070475053661, 42.36070475053661, 40.3435283338444, 38.326351917152174, 183.5745425529918, 558.4787077150859, 627.9809848262189, 511.70393834152725, 141.27511051712082, 3546.420314640706, 159.69164631221864, 85.82570147565421, 374.3324246261012, 175.12203487142014, 610.4475658377041, 243.7896947172488, 206.01240353993532, 274.47207434377066, 911.2717542777438, 871.911616234963, 92.41535678668455, 306.43700252345167, 778.1789006243099, 601.1034626774715, 317.88140565481143, 303.23613293310126, 436.8589694054999, 152.8465814295889, 523.9755624376614, 139.5638951788993, 443.302882474165, 1579.5398662856687, 1082.591078571429, 2.120282022640651, 2.120282022640651, 4.240564045281302, 14.84197415848456, 6.360846067921954, 2.120282022640651, 4.240564045281302, 2.120282022640651, 4.240564045281302, 8.481128090562605, 8.481128090562605, 6.360846067921954, 12.721692135843908, 2.120282022640651, 8.481128090562605, 4.240564045281302, 14.84197415848456, 53.007050566016275, 16.96225618112521, 6.360846067921954, 4.240564045281302, 2.120282022640651, 2.120282022640651, 6.360846067921954, 6.360846067921954, 2.120282022640651, 12.721692135843908, 6.360846067921954, 4.240564045281302, 4.240564045281302, 2107.560330504807, 595.7992483620229, 186.58481799237728, 184.46453596973666, 161.1414337206895, 159.0211516980488, 137.81833147164232, 103.8938191093919, 99.6532550641106, 80.57071686034475, 74.20987079242279, 59.36789663393824, 55.12733258865693, 125.11131119596484, 50.88676854337563, 42.40564045281302, 38.165076407531714, 36.04479438489107, 36.04479438489107, 36.04479438489107, 36.04479438489107, 33.92451236225042, 33.92451236225042, 31.804230339609767, 31.804230339609767, 29.68394831696912, 29.68394831696912, 29.68394831696912, 27.563666294328463, 210.0106232625896, 63.62313253938599, 267.84760605234544, 91.37459026201874, 185.93459855101747, 1562.7466571622772, 138.42389377131278, 76.4328558362286, 1861.0315573470493, 132.20722920331235, 212.03429367888293, 99.85479816643294, 108.00554885652582, 351.8531729585757, 223.70065816941934, 153.30897815145093, 703.900991471167, 157.00533991001362, 154.89435453666061, 608.1689524121044, 1082.591078571429, 903.9089485827518, 277.1130392897035, 603.8575263558272, 236.43890184245814, 1579.5398662856687, 324.756126494282, 1507.7152945785783, 855.3424735470752, 1642.2515563575848, 794.655527207496, 2.0248355060254224, 18.2235195542288, 2.0248355060254224, 4.049671012050845, 4.049671012050845, 4.049671012050845, 12.149013036152533, 8.09934202410169, 4.049671012050845, 8.09934202410169, 16.19868404820338, 6.074506518076267, 4.049671012050845, 16.19868404820338, 4.049671012050845, 4.049671012050845, 2.0248355060254224, 12.149013036152533, 10.124177530127112, 2.0248355060254224, 2.0248355060254224, 4.049671012050845, 6.074506518076267, 4.049671012050845, 2.0248355060254224, 2.0248355060254224, 4.049671012050845, 2.0248355060254224, 2.0248355060254224, 6.074506518076267, 236.90575420497441, 188.30970206036426, 168.06134700011006, 157.93716946998293, 151.86266295190669, 125.53980137357618, 99.2169397952457, 227.006069972834, 80.99342024101689, 76.94374922896606, 72.8940782169152, 60.745065180762666, 56.69539416871182, 54.6705586626864, 52.64572315666098, 50.62088765063555, 44.5463811325593, 44.5463811325593, 44.5463811325593, 42.521545626533864, 40.496710120508446, 40.496710120508446, 40.496710120508446, 40.496710120508446, 38.47187461448303, 36.4470391084576, 36.4470391084576, 34.42220360243218, 32.39736809640676, 32.39736809640676, 64.88253156150274, 193.02749868872175, 48.59222259994353, 48.68384751329937, 229.69174079845567, 179.68300737361477, 244.46705107216468, 205.6922144543886, 436.8589694054999, 102.58873508919149, 523.9755624376614, 273.2822145767547, 132.28339196146774, 119.37721532816809, 157.70388452370645, 336.2891478209887, 261.7811747415673, 3546.420314640706, 218.00996579292138, 242.5526087779729, 283.1086214792833, 220.14485183571313, 600.0228655495146, 337.00239340000866, 241.4015656358273, 1840.8398291961144, 317.88140565481143, 762.2224256817509, 528.7397025720636, 610.4475658377041, 268.25338487919066, 2.149625742973554, 6.4488772289206615, 6.4488772289206615, 2.149625742973554, 12.897754457841323, 2.149625742973554, 6.4488772289206615, 15.047380200814878, 4.299251485947108, 4.299251485947108, 10.74812871486777, 2.149625742973554, 4.299251485947108, 17.197005943788433, 2.149625742973554, 2.149625742973554, 17.197005943788433, 25.795508915682646, 6.4488772289206615, 2.149625742973554, 4.299251485947108, 60.18952080325951, 2.149625742973554, 10.74812871486777, 4.299251485947108, 4.299251485947108, 6.4488772289206615, 2.149625742973554, 36.543637630550414, 4.299251485947108, 801.8104021291356, 328.89273867495376, 273.00246935764136, 223.5610772692496, 199.91519409654052, 193.46631686761987, 159.072304980043, 118.22941586354547, 73.08727526110083, 70.93764951812729, 64.48877228920662, 62.33914654623306, 58.03989506028596, 49.44139208839174, 49.44139208839174, 45.142140602444634, 42.99251485947108, 40.842889116497524, 38.693263373523976, 38.693263373523976, 36.543637630550414, 36.543637630550414, 34.394011887576866, 34.394011887576866, 32.24438614460331, 32.24438614460331, 32.24438614460331, 32.24438614460331, 83.88525550648791, 57.97367039714529, 269.45099082948366, 170.02325204457293, 51.524793168224626, 49.51674717786321, 127.2882149195971, 778.1789006243099, 192.96595136091472, 903.9089485827518, 313.5443891959969, 104.91520272057429, 159.17813004944077, 200.9644303270302, 1096.8485773553655, 608.1689524121044, 324.0080170976018, 286.33696227756184, 405.75479179505174, 337.5801637095644, 504.71702694596024, 1507.7152945785783, 1562.7466571622772, 1840.8398291961144, 220.15818235809624, 883.6933722617155, 503.59194920143426, 1642.2515563575848, 794.655527207496, 603.8575263558272, 1579.5398662856687, 2.132219472605166, 4.264438945210332, 2.132219472605166, 21.322194726051663, 4.264438945210332, 23.454414198656828, 6.396658417815499, 17.05775578084133, 8.528877890420665, 2.132219472605166, 6.396658417815499, 25.586633671261996, 44.77660892470848, 4.264438945210332, 4.264438945210332, 4.264438945210332, 2.132219472605166, 10.661097363025831, 4.264438945210332, 2.132219472605166, 6.396658417815499, 8.528877890420665, 2.132219472605166, 4.264438945210332, 2.132219472605166, 2.132219472605166, 4.264438945210332, 8.528877890420665, 4.264438945210332, 8.528877890420665, 582.0959160212103, 339.0228961442214, 345.48776133283565, 170.5775578084133, 85.28877890420665, 85.28877890420665, 83.15655943160148, 78.89212048639115, 66.09880365076015, 66.09880365076015, 61.83436470554982, 55.43770628773432, 55.43770628773432, 53.30548681512915, 51.17326734252399, 49.04104786991882, 46.908828397313656, 42.644389452103326, 40.51216997949816, 40.51216997949816, 40.51216997949816, 38.37995050689299, 38.37995050689299, 38.37995050689299, 36.247731034287824, 36.247731034287824, 36.247731034287824, 34.11551156168266, 34.11551156168266, 89.64732390205867, 89.62182057442313, 338.36208028903, 53.308221225331096, 883.6933722617155, 1096.8485773553655, 449.286666453396, 102.79502576535336, 111.58677169909473, 103.10774533919334, 246.07513930001934, 182.31486152854228, 290.0801844335464, 375.08252276288295, 129.19202145910847, 273.9374957091541, 252.0976033983903, 582.0704009371286, 143.98411638272512, 182.564974521558, 272.29541884180946, 207.05851020610856, 608.6775909563042, 273.774994474883, 503.59194920143426, 1507.7152945785783, 337.5801637095644, 473.799576676961, 225.90555811598014, 273.4729668810932, 277.1130392897035, 171.9554557743264, 911.2717542777438, 972.8457728719918, 825.4448019689117, 23.957500848701923, 1145.6041314924737, 135.03318660177447, 50.09295632001311, 23.957500848701923, 63.16068405566871, 63.16068405566871, 37.025228584357514, 23.957500848701923, 23.957500848701923, 23.957500848701923, 37.025228584357514, 389.8538774470586, 23.957500848701923, 47.915001697403845, 91.47409414958915, 211.26159839309878, 6.533863867827797, 6.533863867827797, 2.1779546226092656, 2.1779546226092656, 6.533863867827797, 13.067727735655595, 10.88977311304633, 4.355909245218531, 4.355909245218531, 56.62682018784091, 4.355909245218531, 10.88977311304633, 407.2775144279327, 209.08364377048952, 165.5245513183042, 141.5670504696023, 82.7622756591521, 71.87250254610578, 150.31455605074075, 69.6945479234965, 54.44886556523164, 43.55909245218532, 39.203183206966784, 34.84727396174825, 32.66931933913899, 30.49136471652972, 30.49136471652972, 30.49136471652972, 30.49136471652972, 67.48775700090293, 30.49136471652972, 67.57778395054085, 105.32544513928099, 146.34004449671588, 56.66222164540097, 56.75428086223245, 1082.591078571429, 131.9563452795964, 703.900991471167, 296.19974449521743, 219.89338739956472, 231.15498770676749, 1861.0315573470493, 230.99115474951952, 582.0704009371286, 855.3424735470752, 1642.2515563575848, 462.47197838386654, 1579.5398662856687, 221.60463497904433, 148.68000291059056, 150.22394827003606, 324.756126494282, 364.74278705442873, 1031.6370502008526, 13.45010975883022, 13.45010975883022, 6.72505487941511, 80.70065855298131, 13.45010975883022, 6.72505487941511, 6.72505487941511, 6.72505487941511, 13.45010975883022, 13.45010975883022, 6.72505487941511, 6.72505487941511, 40.350329276490655, 6.72505487941511, 20.175164638245327, 26.90021951766044, 6.72505487941511, 6.72505487941511, 6.72505487941511, 6.72505487941511, 6.72505487941511, 6.72505487941511, 13.45010975883022, 13.45010975883022, 6.72505487941511, 6.72505487941511, 6.72505487941511, 6.72505487941511, 6.72505487941511, 13.45010975883022, 529.0376505139886, 138.98446750791226, 112.08424799025182, 107.60087807064176, 98.6341382314216, 96.39245327161657, 91.9090833520065, 69.49223375395613, 65.00886383434606, 65.00886383434606, 60.52549391473598, 58.283808954930954, 56.04212399512591, 56.04212399512591, 53.80043903532088, 51.55875407551584, 51.55875407551584, 51.55875407551584, 44.83369919610073, 42.59201423629569, 40.350329276490655, 40.350329276490655, 40.350329276490655, 33.62527439707554, 31.383589437270512, 31.383589437270512, 31.383589437270512, 31.383589437270512, 31.383589437270512, 31.383589437270512, 58.251943786333065, 387.9893330742818, 338.66487793150304, 103.61802712396704, 107.12290054167347, 183.96339974394812, 140.27019740978074, 88.75687636346858, 56.15942591934881, 1579.5398662856687, 260.4899979604337, 364.74278705442873, 1861.0315573470493, 435.85634663611114, 337.4937106998173, 1642.2515563575848, 608.6775909563042, 372.83037229482534, 146.430811828681, 151.91618995366042, 462.47197838386654, 903.9089485827518, 855.3424735470752, 1507.7152945785783, 488.732434278146, 269.9352631789907, 1840.8398291961144, 672.5167706556273, 228.2017230091545, 503.59194920143426, 2.2215136668760227, 4.443027333752045, 4.443027333752045, 4.443027333752045, 2.2215136668760227, 2.2215136668760227, 2.2215136668760227, 4.443027333752045, 4.443027333752045, 4.443027333752045, 4.443027333752045, 4.443027333752045, 2.2215136668760227, 8.88605466750409, 2.2215136668760227, 2.2215136668760227, 2.2215136668760227, 2.2215136668760227, 2.2215136668760227, 2.2215136668760227, 8.88605466750409, 2.2215136668760227, 2.2215136668760227, 2.2215136668760227, 4.443027333752045, 2.2215136668760227, 2.2215136668760227, 2.2215136668760227, 2.2215136668760227, 2.2215136668760227, 310.91357428221784, 224.3728803544783, 186.6071480175859, 175.49957968320578, 173.27806601632977, 88.86054667504091, 77.75297834066079, 62.202382672528636, 62.202382672528636, 59.98086900565261, 57.75935533877659, 51.094814338148524, 48.8733006712725, 117.68960852231152, 39.987246003768405, 39.987246003768405, 39.987246003768405, 39.987246003768405, 37.765732336892384, 37.765732336892384, 37.765732336892384, 37.765732336892384, 35.54421867001636, 33.32270500314034, 33.32270500314034, 33.32270500314034, 31.101191336264318, 31.101191336264318, 31.101191336264318, 28.879677669388293, 28.879677669388293, 28.879677669388293, 53.28038404307331, 198.07631313473564, 42.18698014851105, 66.71494784912099, 326.3559679116413, 72.95564025208495, 106.69852117576426, 164.74500897508344, 106.8041119999457, 153.71249896292824, 77.86392045177037, 133.90503818256195, 528.7397025720636, 167.73086795590757, 439.1377904875212, 163.48046705646996, 112.57654236827503, 141.8420854309901, 1031.6370502008526, 361.8144071907691, 1579.5398662856687, 237.3858607328457, 273.97104401615076, 174.1335234604934, 158.42667632229126, 424.7238149073631, 484.59276107992315, 972.8457728719918, 1642.2515563575848, 488.732434278146, 1840.8398291961144, 366.5052877325046, 453.8342229355418, 6.601278730211675, 4.400852486807784, 4.400852486807784, 4.400852486807784, 2.200426243403892, 2.200426243403892, 2.200426243403892, 4.400852486807784, 2.200426243403892, 2.200426243403892, 6.601278730211675, 4.400852486807784, 2.200426243403892, 2.200426243403892, 2.200426243403892, 2.200426243403892, 2.200426243403892, 2.200426243403892, 4.400852486807784, 2.200426243403892, 2.200426243403892, 2.200426243403892, 4.400852486807784, 2.200426243403892, 2.200426243403892, 2.200426243403892, 2.200426243403892, 2.200426243403892, 2.200426243403892, 6.601278730211675, 347.6673464578149, 158.4306895250802, 156.23026328167632, 125.42429587402184, 110.0213121701946, 105.6204596833868, 74.81449227573232, 63.81236105871286, 61.61193481530897, 52.8102298416934, 41.80809862467394, 39.60767238127005, 39.60767238127005, 39.60767238127005, 37.40724613786616, 37.40724613786616, 35.20681989446227, 33.006393651058374, 33.006393651058374, 33.006393651058374, 33.006393651058374, 28.605541164250596, 28.605541164250596, 28.605541164250596, 28.605541164250596, 28.605541164250596, 26.4051149208467, 26.4051149208467, 26.4051149208467, 26.4051149208467, 85.77655138237017, 96.951016875797, 387.70581555568543, 220.94181144700252, 138.49202360967743, 591.2777068653614, 240.04614097731417, 52.7340290910479, 59.36656533031584, 151.46828104532483, 141.8763312022313, 504.71702694596024, 871.911616234963, 299.5787768304107, 207.16480692640476, 301.2171773449576, 601.1034626774715, 153.09002778031117, 128.00182144250493, 238.72906805516763, 90.0430765032882, 120.06323635780548, 306.43700252345167, 3546.420314640706, 470.32078324505426, 124.9722890045883, 228.98846742698095, 247.56460388259245, 603.8575263558272, 1840.8398291961144, 276.768795892679, 911.2717542777438, 416.02190477895147, 11.246644020060739, 22.493288040121477, 6.747986412036444, 11.246644020060739, 2.249328804012148, 4.498657608024296, 4.498657608024296, 4.498657608024296, 2.249328804012148, 6.747986412036444, 4.498657608024296, 2.249328804012148, 2.249328804012148, 4.498657608024296, 2.249328804012148, 8.997315216048593, 2.249328804012148, 4.498657608024296, 2.249328804012148, 2.249328804012148, 8.997315216048593, 6.747986412036444, 6.747986412036444, 4.498657608024296, 4.498657608024296, 4.498657608024296, 6.747986412036444, 6.747986412036444, 2.249328804012148, 15.745301628085036, 883.9862199767742, 458.8630760184782, 317.15536136571285, 258.67281246139703, 137.20905704474103, 116.9650978086317, 96.72113857252238, 76.47717933641303, 76.47717933641303, 69.72919292437658, 58.48254890431585, 56.233220100303704, 51.73456249227941, 47.235904884255106, 42.73724727623081, 40.48791847221866, 38.238589668206515, 38.238589668206515, 35.98926086419437, 35.98926086419437, 33.73993206018222, 31.490603256170072, 31.490603256170072, 31.490603256170072, 29.241274452157924, 29.241274452157924, 29.241274452157924, 29.241274452157924, 29.241274452157924, 29.241274452157924, 29.241274452157924, 51.720654923711336, 51.73074057017585, 63.032213630244485, 142.16619248256157, 149.03921830272424, 78.4273989573094, 243.55126251222177, 56.163682257463385, 198.0256749007468, 194.77370642356476, 96.57635481766195, 107.58418997646517, 152.33008301829935, 80.12836092560927, 121.53127622352343, 296.19974449521743, 1840.8398291961144, 484.59276107992315, 184.93308991922675, 200.74191432224904, 102.5804006928202, 237.3858607328457, 337.4937106998173, 855.3424735470752, 608.6775909563042, 794.655527207496, 435.85634663611114, 298.39126260095816, 200.81022871274263, 439.1377904875212, 11.602157889442918, 25.524747356774416, 11.602157889442918, 157.78934729642367, 23.204315778885835, 11.602157889442918, 11.602157889442918, 20.88388420099725, 11.602157889442918, 20.88388420099725, 20.88388420099725, 51.04949471354883, 20.88388420099725, 23.204315778885835, 11.602157889442918, 11.602157889442918, 11.602157889442918, 20.88388420099725, 11.602157889442918, 11.602157889442918, 20.88388420099725, 41.7677684019945, 34.80647366832875, 11.602157889442918, 11.602157889442918, 11.602157889442918, 11.602157889442918, 71.93337891454608, 11.602157889442918, 11.602157889442918, 106.73985258287483, 106.73985258287483, 92.81726311554334, 85.85596838187759, 74.25381049243467, 67.29251575876891, 60.33122102510317, 53.369926291437416, 48.72906313566025, 46.40863155777167, 37.12690524621733, 34.80647366832875, 34.80647366832875, 34.80647366832875, 32.48604209044017, 32.48604209044017, 32.48604209044017, 32.48604209044017, 32.48604209044017, 32.48604209044017, 30.165610512551584, 30.165610512551584, 30.165610512551584, 30.165610512551584, 30.165610512551584, 99.63608089392976, 30.165610512551584, 69.44214150174247, 50.949419935924865, 48.57743555506207, 39.43728899611987, 370.1181925451175, 235.13638950104615, 269.2253344474972, 104.2486079292234, 510.4641097612333, 101.42351307527153, 794.655527207496, 210.47833694173192, 219.3327055549486, 185.85328269255274, 300.9412266464107, 86.4352676264373, 153.31251327982784, 1031.6370502008526, 581.7516234879798, 205.71804836206888, 972.8457728719918, 107.0686376384013, 101.07730038672757, 221.60511596469263, 289.65838853996456, 1642.2515563575848, 242.8847953003549, 508.49551644003583, 184.93308991922675, 298.39126260095816, 303.9701828035602, 336.2891478209887, 217.64140795489064, 453.8342229355418, 462.47197838386654, 424.7238149073631, 6.998065228288936, 4.665376818859291, 4.665376818859291, 4.665376818859291, 2.3326884094296454, 4.665376818859291, 13.996130456577871, 6.998065228288936, 4.665376818859291, 2.3326884094296454, 2.3326884094296454, 4.665376818859291, 2.3326884094296454, 4.665376818859291, 4.665376818859291, 4.665376818859291, 4.665376818859291, 6.998065228288936, 2.3326884094296454, 6.998065228288936, 2.3326884094296454, 2.3326884094296454, 11.663442047148227, 4.665376818859291, 4.665376818859291, 4.665376818859291, 6.998065228288936, 2.3326884094296454, 4.665376818859291, 2.3326884094296454, 216.940022076957, 202.94389162037913, 186.61507275437162, 186.61507275437162, 130.63055092806013, 109.63635524319332, 76.97871751117829, 58.31721023574113, 51.31914500745219, 48.98645659802255, 48.98645659802255, 118.96098046514136, 44.321079779163256, 41.98839136973361, 41.98839136973361, 39.65570296030397, 34.990326141444676, 34.990326141444676, 34.990326141444676, 32.65763773201503, 32.65763773201503, 32.65763773201503, 32.65763773201503, 32.65763773201503, 30.324949322585386, 30.324949322585386, 30.324949322585386, 30.324949322585386, 27.992260913155743, 27.992260913155743, 76.82479105947617, 27.992260913155743, 100.20984946475295, 95.41271616255393, 85.5398388903863, 203.03294012091325, 175.1954129945779, 762.2224256817509, 121.18948580647199, 39.61402315759522, 252.58432818705506, 58.06713141948864, 177.48537996769414, 170.47633002145062, 72.49496668054314, 327.0212910238881, 110.73581571098715, 377.6041768005246, 911.2717542777438, 121.85821271382935, 1840.8398291961144, 972.8457728719918, 672.5167706556273, 188.42295022445342, 1031.6370502008526, 855.3424735470752, 283.1086214792833, 375.08252276288295, 528.7397025720636, 25.30369514108132, 50.60739028216264, 25.30369514108132, 20.703023297248354, 20.703023297248354, 25.30369514108132, 20.703023297248354, 20.703023297248354, 25.30369514108132, 20.703023297248354, 20.703023297248354, 96.61410872049233, 41.40604659449671, 25.30369514108132, 50.60739028216264, 25.30369514108132, 41.40604659449671, 20.703023297248354, 25.30369514108132, 2.300335921916484, 2.300335921916484, 2.300335921916484, 2.300335921916484, 2.300335921916484, 2.300335921916484, 13.802015531498904, 9.201343687665936, 2.300335921916484, 2.300335921916484, 2.300335921916484, 216.23157666014947, 184.0268737533187, 112.7164601739077, 112.7164601739077, 94.31377279857584, 89.71310095474287, 87.41276503282639, 69.01007765749452, 69.01007765749452, 66.70974173557804, 66.70974173557804, 142.58141603130179, 64.40940581366155, 62.109069891745065, 62.109069891745065, 57.5083980479121, 55.20806212599562, 52.90772620407913, 52.90772620407913, 39.10571067258023, 34.50503882874726, 34.50503882874726, 34.50503882874726, 34.50503882874726, 34.50503882874726, 34.50503882874726, 34.50503882874726, 280.6968419553402, 69.05026896943872, 43.71643034439925, 320.6192937544235, 81.97151094243684, 227.37626348701198, 155.3959402018237, 1507.7152945785783, 443.302882474165, 324.0080170976018, 170.1523589310369, 148.62075151803936, 470.32078324505426, 146.36292361618533, 1642.2515563575848, 672.5167706556273, 349.2670134700616, 289.6271869607393, 276.768795892679, 197.95130727510775, 600.0228655495146, 196.6617455512644, 484.59276107992315, 337.00239340000866, 627.9809848262189, 1562.7466571622772], \"loglift\": [30.0, 29.0, 28.0, 27.0, 26.0, 25.0, 24.0, 23.0, 22.0, 21.0, 20.0, 19.0, 18.0, 17.0, 16.0, 15.0, 14.0, 13.0, 12.0, 11.0, 10.0, 9.0, 8.0, 7.0, 6.0, 5.0, 4.0, 3.0, 2.0, 1.0, 2.4348, 2.4348, 2.4348, 2.4348, 2.4348, 2.4348, 2.4348, 2.4348, 2.4348, 2.4348, 2.4348, 2.4348, 2.4348, 2.4348, 2.4348, 2.4348, 2.4348, 2.4348, 2.4348, 2.4348, 2.4348, 2.4348, 2.4348, 2.4348, 2.4348, 2.4348, 2.4348, 2.4348, 2.4348, 2.4348, 2.4348, 2.4348, 2.4348, 2.4348, 2.4348, 2.4348, 2.4348, 2.4348, 2.4348, 2.4348, 2.4348, 2.4348, 2.4348, 2.4348, 2.4348, 2.4348, 2.4258, 2.4348, 2.4348, 2.4348, 2.4348, 2.4348, 2.4348, 2.4348, 2.4348, 2.4348, 2.4348, 2.4348, 2.4348, 2.4181, 2.3023, 2.2546, 2.2168, 2.2884, 1.837, 2.2604, 2.3348, 2.0673, 2.1606, 1.788, 1.984, 2.028, 1.9099, 1.4154, 1.3995, 2.2211, 1.6812, 1.2113, 1.2595, 1.5645, 1.5079, 1.2465, 1.9137, 0.8914, 1.9707, 0.8924, -0.3572, 0.0101, 2.4374, 2.4374, 2.4374, 2.4374, 2.4374, 2.4374, 2.4374, 2.4374, 2.4374, 2.4374, 2.4374, 2.4374, 2.4374, 2.4374, 2.4374, 2.4374, 2.4374, 2.4374, 2.4374, 2.4374, 2.4374, 2.4374, 2.4374, 2.4374, 2.4374, 2.4374, 2.4374, 2.4374, 2.4374, 2.4374, 2.4374, 2.4374, 2.4374, 2.4374, 2.4374, 2.4374, 2.4374, 2.4374, 2.4374, 2.4374, 2.4374, 2.4374, 2.4374, 2.4288, 2.4374, 2.4374, 2.4374, 2.4374, 2.4374, 2.4374, 2.4374, 2.4374, 2.4374, 2.4374, 2.4374, 2.4374, 2.4374, 2.4374, 2.4374, 2.401, 2.4204, 2.3348, 2.3876, 2.3393, 2.0751, 2.2569, 2.3338, 1.776, 2.1964, 2.0736, 2.2229, 2.1957, 1.8953, 2.0055, 2.0981, 1.5952, 2.0645, 2.0682, 1.5407, 1.1182, 1.178, 1.7156, 1.1984, 1.7751, 0.454, 1.5249, 0.2651, 0.7072, 0.012, 0.5715, 2.5001, 2.5001, 2.5001, 2.5001, 2.5001, 2.5001, 2.5001, 2.5001, 2.5001, 2.5001, 2.5001, 2.5001, 2.5001, 2.5001, 2.5001, 2.5001, 2.5001, 2.5001, 2.5001, 2.5001, 2.5001, 2.5001, 2.5001, 2.5001, 2.5001, 2.5001, 2.5001, 2.5001, 2.5001, 2.5001, 2.5001, 2.5001, 2.5001, 2.5001, 2.5001, 2.5001, 2.5001, 2.4901, 2.5001, 2.5001, 2.5001, 2.5001, 2.5001, 2.5001, 2.5001, 2.5001, 2.5001, 2.5001, 2.5001, 2.5001, 2.5001, 2.5001, 2.5001, 2.5001, 2.5001, 2.5001, 2.5001, 2.5001, 2.5001, 2.5001, 2.483, 2.4201, 2.4791, 2.4772, 2.3435, 2.3451, 2.3066, 2.2859, 2.1366, 2.359, 2.0621, 2.1489, 2.2719, 2.284, 2.2224, 2.0415, 2.0508, 1.316, 2.0977, 2.0516, 1.9786, 2.0598, 1.6528, 1.8741, 1.9888, 1.0812, 1.8445, 1.3186, 1.4349, 1.2162, 1.8183, 2.5015, 2.5015, 2.5015, 2.5015, 2.5015, 2.5015, 2.5015, 2.5015, 2.5015, 2.5015, 2.5015, 2.5015, 2.5015, 2.5015, 2.5015, 2.5015, 2.5015, 2.5015, 2.5015, 2.5015, 2.5015, 2.5015, 2.5015, 2.5015, 2.5015, 2.5015, 2.5015, 2.5015, 2.5015, 2.5015, 2.5015, 2.5015, 2.5015, 2.5015, 2.5015, 2.5015, 2.5015, 2.5015, 2.5015, 2.5015, 2.5015, 2.5015, 2.5015, 2.5015, 2.5015, 2.5015, 2.5015, 2.5015, 2.5015, 2.5015, 2.5015, 2.5015, 2.5015, 2.5015, 2.5015, 2.5015, 2.5015, 2.5015, 2.488, 2.4839, 2.4368, 2.4281, 2.4817, 2.478, 2.4093, 2.153, 2.2527, 1.8739, 2.0727, 2.2109, 2.0783, 1.9979, 1.4227, 1.5658, 1.7765, 1.6956, 1.4879, 1.5309, 1.2984, 0.6534, 0.5473, 0.3688, 1.7331, 0.7453, 1.1393, 0.2067, 0.6406, 0.8708, -0.0817, 2.5108, 2.5108, 2.5108, 2.5108, 2.5108, 2.5108, 2.5108, 2.5108, 2.5108, 2.5108, 2.5108, 2.5108, 2.5108, 2.5108, 2.5108, 2.5108, 2.5108, 2.5108, 2.5108, 2.5108, 2.5108, 2.5108, 2.5108, 2.5108, 2.5108, 2.5108, 2.5108, 2.5108, 2.5108, 2.5108, 2.5108, 2.5108, 2.5044, 2.5108, 2.5108, 2.5108, 2.5108, 2.5108, 2.5108, 2.5108, 2.5108, 2.5108, 2.5108, 2.5108, 2.5108, 2.5108, 2.5108, 2.5108, 2.5108, 2.5108, 2.5108, 2.5108, 2.5108, 2.5108, 2.5108, 2.5108, 2.5108, 2.5108, 2.5108, 2.4977, 2.4736, 2.3036, 2.4699, 2.1257, 2.0952, 2.194, 2.3847, 2.3708, 2.3578, 2.1931, 2.2442, 2.1464, 2.0726, 2.2882, 2.0858, 2.0622, 1.8103, 2.2202, 2.0862, 1.9166, 2.0209, 1.5526, 1.8897, 1.5894, 0.8055, 1.6874, 1.4638, 1.8368, 1.6998, 1.6325, 1.9814, 0.4234, 0.3097, 2.5171, 2.5171, 2.5171, 2.5171, 2.5171, 2.5171, 2.5171, 2.5171, 2.5171, 2.5171, 2.5171, 2.5171, 2.5171, 2.5171, 2.5171, 2.5171, 2.5171, 2.5171, 2.5171, 2.5171, 2.5171, 2.5171, 2.5171, 2.5171, 2.5171, 2.5171, 2.5171, 2.5171, 2.5171, 2.5171, 2.5171, 2.5171, 2.5171, 2.5171, 2.5171, 2.5171, 2.5096, 2.5171, 2.5171, 2.5171, 2.5171, 2.5171, 2.5171, 2.5171, 2.5171, 2.5171, 2.5171, 2.5012, 2.5171, 2.4999, 2.3879, 2.3438, 2.4364, 2.4348, 1.8116, 2.2196, 1.7461, 1.8949, 1.9005, 1.8687, 0.9896, 1.8513, 1.3774, 1.1187, 0.6146, 1.3409, 0.5206, 1.7232, 1.9572, 1.934, 1.2851, 1.1804, 0.1632, 2.5887, 2.5887, 2.5887, 2.5887, 2.5887, 2.5887, 2.5887, 2.5887, 2.5887, 2.5887, 2.5887, 2.5887, 2.5887, 2.5887, 2.5887, 2.5887, 2.5887, 2.5887, 2.5887, 2.5887, 2.5887, 2.5887, 2.5887, 2.5887, 2.5887, 2.5887, 2.5887, 2.5887, 2.5887, 2.5887, 2.5887, 2.5887, 2.5887, 2.5887, 2.5887, 2.5887, 2.5887, 2.5887, 2.5887, 2.5887, 2.5887, 2.5887, 2.5887, 2.5887, 2.5887, 2.5887, 2.5887, 2.5887, 2.5887, 2.5887, 2.5887, 2.5887, 2.5887, 2.5887, 2.5887, 2.5887, 2.5887, 2.5887, 2.5887, 2.5887, 2.5698, 2.4912, 2.3542, 2.4565, 2.4232, 2.3243, 2.3235, 2.3913, 2.5032, 1.5241, 2.038, 1.9216, 1.2675, 1.8016, 1.8012, 1.1308, 1.5118, 1.7304, 2.1351, 2.0862, 1.3369, 0.8865, 0.9, 0.4533, 1.1931, 1.6044, -0.0194, 0.8265, 1.7384, 0.9808, 2.6069, 2.6069, 2.6069, 2.6069, 2.6069, 2.6069, 2.6069, 2.6069, 2.6069, 2.6069, 2.6069, 2.6069, 2.6069, 2.6069, 2.6069, 2.6069, 2.6069, 2.6069, 2.6069, 2.6069, 2.6069, 2.6069, 2.6069, 2.6069, 2.6069, 2.6069, 2.6069, 2.6069, 2.6069, 2.6069, 2.6037, 2.6069, 2.6069, 2.6069, 2.6069, 2.6069, 2.6069, 2.6069, 2.6069, 2.6069, 2.6069, 2.6069, 2.6069, 2.5979, 2.6069, 2.6069, 2.6069, 2.6069, 2.6069, 2.6069, 2.6069, 2.6069, 2.6069, 2.6069, 2.6069, 2.6069, 2.6069, 2.6069, 2.6069, 2.6069, 2.6069, 2.6069, 2.5866, 2.4472, 2.5808, 2.5189, 2.3267, 2.4997, 2.4364, 2.335, 2.4104, 2.3019, 2.4346, 2.2692, 1.8752, 2.1847, 1.8794, 2.1692, 2.2788, 2.1761, 1.3065, 1.7335, 0.9819, 1.8673, 1.7624, 2.0065, 2.0411, 1.448, 1.349, 0.8687, 0.3254, 1.1451, 0.0692, 1.2853, 1.0602, 2.6131, 2.6131, 2.6131, 2.6131, 2.6131, 2.6131, 2.6131, 2.6131, 2.6131, 2.6131, 2.6131, 2.6131, 2.6131, 2.6131, 2.6131, 2.6131, 2.6131, 2.6131, 2.6131, 2.6131, 2.6131, 2.6131, 2.6131, 2.6131, 2.6131, 2.6131, 2.6131, 2.6131, 2.6131, 2.6131, 2.6131, 2.6131, 2.6131, 2.6131, 2.6131, 2.6131, 2.6131, 2.6131, 2.6131, 2.6131, 2.6131, 2.6131, 2.6131, 2.6131, 2.6131, 2.6131, 2.6131, 2.6131, 2.6131, 2.6131, 2.6131, 2.6131, 2.6131, 2.6131, 2.6131, 2.6131, 2.6131, 2.6131, 2.6131, 2.6131, 2.6006, 2.5887, 2.5352, 2.5147, 2.514, 2.4016, 2.3982, 2.55, 2.5369, 2.4244, 2.4265, 2.256, 2.1723, 2.3045, 2.2803, 2.1881, 2.0301, 2.3123, 2.2873, 2.1084, 2.3827, 2.2513, 1.8278, 0.6748, 1.6114, 2.2243, 1.8599, 1.8021, 1.1174, 0.2782, 1.6704, 0.6122, 1.3028, 2.6219, 2.6219, 2.6219, 2.6219, 2.6219, 2.6219, 2.6219, 2.6219, 2.6219, 2.6219, 2.6219, 2.6219, 2.6219, 2.6219, 2.6219, 2.6219, 2.6219, 2.6219, 2.6219, 2.6219, 2.6219, 2.6219, 2.6219, 2.6219, 2.6219, 2.6219, 2.6219, 2.6219, 2.6219, 2.6219, 2.6219, 2.6219, 2.6219, 2.6219, 2.6219, 2.6219, 2.6219, 2.6219, 2.6219, 2.6219, 2.6219, 2.6219, 2.6219, 2.6219, 2.6219, 2.6219, 2.6219, 2.6219, 2.6219, 2.6219, 2.6219, 2.6219, 2.6219, 2.6219, 2.6219, 2.6219, 2.6219, 2.6219, 2.6219, 2.6219, 2.6219, 2.6002, 2.6, 2.5847, 2.5273, 2.5058, 2.5361, 2.2745, 2.5178, 2.2217, 2.1497, 2.3279, 2.2952, 2.1441, 2.3631, 2.2159, 1.8524, 0.9218, 1.5328, 1.962, 1.8917, 2.2031, 1.6517, 1.3837, 0.6792, 0.8714, 0.5723, 1.0315, 1.2895, 1.6417, 0.8741, 2.6507, 2.6507, 2.6507, 2.6507, 2.6507, 2.6507, 2.6507, 2.6507, 2.6507, 2.6507, 2.6507, 2.6507, 2.6507, 2.6507, 2.6507, 2.6507, 2.6507, 2.6507, 2.6507, 2.6507, 2.6507, 2.6507, 2.6507, 2.6507, 2.6507, 2.6507, 2.6507, 2.6507, 2.6507, 2.6507, 2.6507, 2.6507, 2.6507, 2.6507, 2.6507, 2.6507, 2.6507, 2.6507, 2.6507, 2.6507, 2.6507, 2.6507, 2.6507, 2.6507, 2.6507, 2.6507, 2.6507, 2.6507, 2.6507, 2.6507, 2.6507, 2.6507, 2.6507, 2.6507, 2.6507, 2.6286, 2.6507, 2.6193, 2.6297, 2.6297, 2.6211, 2.27, 2.309, 2.2789, 2.443, 2.1208, 2.4141, 1.9793, 2.2291, 2.2128, 2.2091, 2.0124, 2.383, 2.1977, 1.5337, 1.6038, 2.0267, 1.344, 2.3002, 2.3106, 1.9093, 1.7156, 0.653, 1.7726, 1.2218, 1.9231, 1.5783, 1.5012, 1.4122, 1.7603, 1.0383, 1.0194, 1.0917, 2.699, 2.699, 2.699, 2.699, 2.699, 2.699, 2.699, 2.699, 2.699, 2.699, 2.699, 2.699, 2.699, 2.699, 2.699, 2.699, 2.699, 2.699, 2.699, 2.699, 2.699, 2.699, 2.699, 2.699, 2.699, 2.699, 2.699, 2.699, 2.699, 2.699, 2.699, 2.699, 2.699, 2.699, 2.699, 2.699, 2.699, 2.699, 2.699, 2.699, 2.699, 2.6892, 2.699, 2.699, 2.699, 2.699, 2.699, 2.699, 2.699, 2.699, 2.699, 2.699, 2.699, 2.699, 2.699, 2.699, 2.699, 2.699, 2.699, 2.699, 2.6857, 2.699, 2.6523, 2.6385, 2.638, 2.53, 2.5153, 2.3325, 2.5099, 2.6702, 2.2628, 2.5755, 2.2173, 2.2252, 2.4814, 1.9227, 2.2889, 1.7942, 1.2638, 2.1772, 0.724, 1.0416, 1.2171, 1.9047, 0.7582, 0.7648, 1.5378, 1.3078, 0.9518, 2.7132, 2.7132, 2.7132, 2.7132, 2.7132, 2.7132, 2.7132, 2.7132, 2.7132, 2.7132, 2.7132, 2.7132, 2.7132, 2.7132, 2.7132, 2.7132, 2.7132, 2.7132, 2.7132, 2.7132, 2.7132, 2.7132, 2.7132, 2.7132, 2.7132, 2.7132, 2.7132, 2.7132, 2.7132, 2.7132, 2.7132, 2.7132, 2.7132, 2.7132, 2.7132, 2.7132, 2.7132, 2.7132, 2.7132, 2.7132, 2.7132, 2.7053, 2.7132, 2.7132, 2.7132, 2.7132, 2.7132, 2.7132, 2.7132, 2.7132, 2.7132, 2.7132, 2.7132, 2.7132, 2.7132, 2.7132, 2.7132, 2.5864, 2.6436, 2.6863, 2.4009, 2.5738, 2.3823, 2.3715, 1.7613, 1.935, 1.9243, 2.1937, 2.2337, 1.6901, 2.2108, 0.9003, 1.3725, 1.6977, 1.7996, 1.7732, 1.9718, 1.1923, 1.9536, 1.3045, 1.5216, 0.9104, 0.0736], \"logprob\": [30.0, 29.0, 28.0, 27.0, 26.0, 25.0, 24.0, 23.0, 22.0, 21.0, 20.0, 19.0, 18.0, 17.0, 16.0, 15.0, 14.0, 13.0, 12.0, 11.0, 10.0, 9.0, 8.0, 7.0, 6.0, 5.0, 4.0, 3.0, 2.0, 1.0, -9.3814, -8.6882, -6.3369, -9.3814, -7.9951, -9.3814, -9.3814, -9.3814, -8.6882, -8.6882, -8.6882, -9.3814, -7.9951, -7.9951, -8.2828, -8.2828, -9.3814, -7.9951, -8.6882, -8.2828, -8.6882, -7.3019, -7.9951, -8.2828, -9.3814, -8.6882, -7.9951, -8.6882, -9.3814, -7.9951, -4.4116, -4.8705, -4.8705, -5.0639, -5.4111, -5.6678, -5.6678, -5.7178, -5.7438, -5.826, -5.8849, -5.9474, -6.0492, -6.0492, -6.0856, -6.0856, -5.2304, -6.1625, -6.2033, -6.2459, -6.2459, -6.2903, -6.2903, -6.2903, -6.2903, -6.3369, -6.3369, -6.3857, -6.437, -4.8872, -3.8904, -3.8207, -4.0633, -5.2787, -2.5072, -5.1842, -5.7307, -4.5255, -5.1917, -4.3156, -5.0376, -5.1619, -4.9931, -4.2876, -4.3477, -5.7705, -5.1117, -4.6496, -4.8596, -5.1917, -5.2954, -5.1917, -5.5747, -5.365, -5.6086, -5.5312, -5.5102, -5.5207, -9.3289, -9.3289, -8.6357, -7.383, -8.2303, -9.3289, -8.6357, -9.3289, -8.6357, -7.9426, -7.9426, -8.2303, -7.5371, -9.3289, -7.9426, -8.6357, -7.383, -6.11, -7.2494, -8.2303, -8.6357, -9.3289, -9.3289, -8.2303, -8.2303, -9.3289, -7.5371, -8.2303, -8.6357, -8.6357, -2.4271, -3.6905, -4.8515, -4.863, -4.9981, -5.0114, -5.1545, -5.4371, -5.4787, -5.6913, -5.7735, -5.9967, -6.0708, -5.2599, -6.1508, -6.3331, -6.4385, -6.4957, -6.4957, -6.4957, -6.4957, -6.5563, -6.5563, -6.6208, -6.6208, -6.6898, -6.6898, -6.6898, -6.7639, -4.7698, -5.9445, -4.5927, -5.6153, -4.9531, -3.0886, -5.3307, -5.8476, -3.213, -5.4371, -5.0876, -5.6913, -5.64, -4.7593, -5.102, -5.3873, -4.366, -5.3971, -5.4069, -4.5667, -4.4126, -4.5331, -5.1778, -4.9161, -5.2771, -4.699, -5.2098, -4.9344, -5.0592, -5.102, -5.2684, -9.3123, -7.1151, -9.3123, -8.6192, -8.6192, -8.6192, -7.5206, -7.926, -8.6192, -7.926, -7.2329, -8.2137, -8.6192, -7.2329, -8.6192, -8.6192, -9.3123, -7.5206, -7.7029, -9.3123, -9.3123, -8.6192, -8.2137, -8.6192, -9.3123, -9.3123, -8.6192, -9.3123, -9.3123, -8.2137, -4.5501, -4.7797, -4.8935, -4.9556, -4.9948, -5.1852, -5.4205, -4.6028, -5.6234, -5.6747, -5.7288, -5.9111, -5.9801, -6.0165, -6.0542, -6.0934, -6.2213, -6.2213, -6.2213, -6.2678, -6.3166, -6.3166, -6.3166, -6.3166, -6.3679, -6.4219, -6.4219, -6.4791, -6.5397, -6.5397, -5.8623, -4.835, -6.1553, -6.1553, -4.7376, -4.9816, -4.7122, -4.9056, -4.3017, -5.5281, -4.1943, -4.7584, -5.3611, -5.4516, -5.2348, -4.6583, -4.8995, -3.0282, -5.0356, -4.975, -4.8935, -5.0638, -4.4681, -4.8237, -5.0426, -3.9187, -4.9117, -4.563, -4.8125, -4.8875, -5.1076, -9.2511, -8.1525, -8.1525, -9.2511, -7.4593, -9.2511, -8.1525, -7.3052, -8.558, -8.558, -7.6417, -9.2511, -8.558, -7.1717, -9.2511, -9.2511, -7.1717, -6.7662, -8.1525, -9.2511, -8.558, -5.9189, -9.2511, -7.6417, -8.558, -8.558, -8.1525, -9.2511, -6.4179, -8.558, -3.3295, -4.2207, -4.4069, -4.6067, -4.7185, -4.7513, -4.947, -5.2438, -5.7247, -5.7546, -5.8499, -5.8838, -5.9553, -6.1156, -6.1156, -6.2066, -6.2554, -6.3067, -6.3607, -6.3607, -6.4179, -6.4179, -6.4785, -6.4785, -6.543, -6.543, -6.543, -6.543, -5.6004, -5.974, -4.4847, -4.9538, -6.0941, -6.1376, -5.2621, -3.7079, -5.0026, -3.8372, -4.6972, -5.6538, -5.3695, -5.2169, -4.0949, -4.5416, -4.9606, -5.1651, -5.0243, -5.1651, -4.9955, -4.5461, -4.6164, -4.631, -5.3904, -4.9884, -5.1568, -4.9073, -5.1993, -5.2438, -5.2347, -9.2499, -8.5568, -9.2499, -6.9474, -8.5568, -6.8521, -8.1513, -7.1705, -7.8637, -9.2499, -8.1513, -6.765, -6.2054, -8.5568, -8.5568, -8.5568, -9.2499, -7.6405, -8.5568, -9.2499, -8.1513, -7.8637, -9.2499, -8.5568, -9.2499, -9.2499, -8.5568, -7.8637, -8.5568, -7.8637, -3.6405, -4.181, -4.1685, -4.8679, -5.5611, -5.5611, -5.5864, -5.639, -5.816, -5.816, -5.8826, -5.9918, -5.9918, -6.0311, -6.0719, -6.1145, -6.1589, -6.2542, -6.3055, -6.3055, -6.3055, -6.3596, -6.3596, -6.3596, -6.4167, -6.4167, -6.4167, -6.4774, -6.4774, -5.5243, -5.5486, -4.3901, -6.0719, -3.608, -3.4225, -4.2162, -5.5004, -5.4322, -5.5243, -4.8191, -5.0679, -4.7013, -4.5181, -5.3684, -4.8191, -4.9258, -4.341, -5.328, -5.2246, -4.9943, -5.164, -4.554, -5.0158, -4.7067, -4.394, -5.0086, -4.8932, -5.261, -5.2069, -5.261, -5.3892, -5.2797, -5.328, -3.2849, -6.8245, -2.9571, -5.0953, -6.0869, -6.8245, -5.8551, -5.8551, -6.3892, -6.8245, -6.8245, -6.8245, -6.3892, -4.035, -6.8245, -6.1314, -5.4847, -4.6477, -8.1238, -8.1238, -9.2224, -9.2224, -8.1238, -7.4307, -7.613, -8.5293, -8.5293, -5.9643, -8.5293, -7.613, -3.9913, -4.6581, -4.8917, -5.048, -5.5848, -5.7259, -4.9956, -5.7567, -6.0035, -6.2267, -6.332, -6.4498, -6.5144, -6.5834, -6.5834, -6.5834, -6.5834, -5.8047, -6.5834, -5.8047, -5.4729, -5.1882, -6.0444, -6.0444, -3.7191, -5.4158, -4.2151, -4.932, -5.2242, -5.206, -3.9994, -5.2242, -4.7739, -4.6477, -4.4995, -5.0404, -4.6324, -5.3938, -5.5589, -5.5718, -5.4497, -5.4382, -5.4158, -7.3302, -7.3302, -8.0233, -5.5384, -7.3302, -8.0233, -8.0233, -8.0233, -7.3302, -7.3302, -8.0233, -8.0233, -6.2316, -8.0233, -6.9247, -6.637, -8.0233, -8.0233, -8.0233, -8.0233, -8.0233, -8.0233, -7.3302, -7.3302, -8.0233, -8.0233, -8.0233, -8.0233, -8.0233, -7.3302, -3.6581, -4.9948, -5.2099, -5.2507, -5.3378, -5.3607, -5.4084, -5.688, -5.7547, -5.7547, -5.8261, -5.8638, -5.9031, -5.9031, -5.9439, -5.9865, -5.9865, -5.9865, -6.1262, -6.1775, -6.2316, -6.2316, -6.2316, -6.4139, -6.4829, -6.4829, -6.4829, -6.4829, -6.4829, -6.4829, -5.8833, -4.0657, -4.3386, -5.4206, -5.4206, -4.9788, -5.2507, -5.6407, -5.9865, -3.6289, -4.9173, -4.6971, -3.7215, -4.6389, -4.8951, -3.9832, -4.5947, -4.8663, -5.3963, -5.4084, -5.0444, -4.8247, -4.8663, -4.7462, -5.133, -5.3153, -5.0193, -5.1804, -5.3492, -5.3153, -9.1127, -8.4196, -8.4196, -8.4196, -9.1127, -9.1127, -9.1127, -8.4196, -8.4196, -8.4196, -8.4196, -8.4196, -9.1127, -7.7264, -9.1127, -9.1127, -9.1127, -9.1127, -9.1127, -9.1127, -7.7264, -9.1127, -9.1127, -9.1127, -8.4196, -9.1127, -9.1127, -9.1127, -9.1127, -9.1127, -4.1747, -4.4976, -4.6819, -4.7433, -4.756, -5.4238, -5.5574, -5.7805, -5.7805, -5.8169, -5.8546, -5.9772, -6.0217, -5.1519, -6.2224, -6.2224, -6.2224, -6.2224, -6.2795, -6.2795, -6.2795, -6.2795, -6.3401, -6.4047, -6.4047, -6.4047, -6.4737, -6.4737, -6.4737, -6.5478, -6.5478, -6.5478, -5.9557, -4.782, -6.195, -5.7985, -4.4032, -5.7283, -5.4114, -5.0785, -5.4364, -5.1809, -5.7283, -5.3515, -4.3722, -5.2108, -4.5536, -5.252, -5.5154, -5.387, -4.2725, -4.8932, -4.1711, -5.1809, -5.1424, -5.3515, -5.4114, -5.0184, -4.9856, -4.7689, -4.7886, -5.1809, -4.9307, -5.3285, -5.34, -8.0175, -8.423, -8.423, -8.423, -9.1161, -9.1161, -9.1161, -8.423, -9.1161, -9.1161, -8.0175, -8.423, -9.1161, -9.1161, -9.1161, -9.1161, -9.1161, -9.1161, -8.423, -9.1161, -9.1161, -9.1161, -8.423, -9.1161, -9.1161, -9.1161, -9.1161, -9.1161, -9.1161, -8.0175, -4.0535, -4.8395, -4.8535, -5.0731, -5.2041, -5.2449, -5.5898, -5.7488, -5.7839, -5.9381, -6.1717, -6.2258, -6.2258, -6.2258, -6.2829, -6.2829, -6.3436, -6.4081, -6.4081, -6.4081, -6.4081, -6.5512, -6.5512, -6.5512, -6.5512, -6.5512, -6.6312, -6.6312, -6.6312, -6.6312, -5.4655, -5.3549, -4.0224, -4.6053, -5.0731, -3.7339, -4.6388, -6.0026, -5.8973, -5.0731, -5.1365, -4.0378, -3.5749, -4.511, -4.904, -4.6219, -4.089, -5.1746, -5.3785, -4.9341, -5.6349, -5.4786, -4.9651, -3.6694, -4.753, -5.4655, -5.2243, -5.2041, -4.9971, -4.7217, -5.2243, -5.0908, -5.1843, -7.4759, -6.7828, -7.9867, -7.4759, -9.0853, -8.3922, -8.3922, -8.3922, -9.0853, -7.9867, -8.3922, -9.0853, -9.0853, -8.3922, -9.0853, -7.699, -9.0853, -8.3922, -9.0853, -9.0853, -7.699, -7.9867, -7.9867, -8.3922, -8.3922, -8.3922, -7.9867, -7.9867, -9.0853, -7.1394, -3.1115, -3.7672, -4.1366, -4.3404, -4.9745, -5.1341, -5.3241, -5.559, -5.559, -5.6514, -5.8272, -5.8665, -5.9498, -6.0408, -6.1409, -6.195, -6.2521, -6.2521, -6.3128, -6.3128, -6.3773, -6.4463, -6.4463, -6.4463, -6.5204, -6.5204, -6.5204, -6.5204, -6.5204, -6.5204, -6.5204, -5.9718, -5.9718, -5.7895, -5.0336, -5.0078, -5.6196, -4.7481, -5.9718, -5.0078, -5.0964, -5.6196, -5.5444, -5.3477, -5.7712, -5.5018, -4.9745, -4.078, -4.8018, -5.3358, -5.3241, -5.6841, -5.3965, -5.3126, -5.0871, -5.2352, -5.2676, -5.409, -5.53, -5.5738, -5.559, -7.416, -6.6275, -7.416, -4.8059, -6.7228, -7.416, -7.416, -6.8282, -7.416, -6.8282, -6.8282, -5.9344, -6.8282, -6.7228, -7.416, -7.416, -7.416, -6.8282, -7.416, -7.416, -6.8282, -6.135, -6.3173, -7.416, -7.416, -7.416, -7.416, -5.5914, -7.416, -7.416, -5.1968, -5.1968, -5.3365, -5.4145, -5.5597, -5.6581, -5.7673, -5.8899, -5.9809, -6.0297, -6.2528, -6.3173, -6.3173, -6.3173, -6.3863, -6.3863, -6.3863, -6.3863, -6.3863, -6.3863, -6.4604, -6.4604, -6.4604, -6.4604, -6.4604, -5.2877, -6.4604, -5.6581, -5.9573, -6.005, -6.222, -4.334, -4.7487, -4.6434, -5.4281, -4.1617, -5.4844, -3.8606, -4.9394, -4.9145, -5.0838, -4.7986, -5.6755, -5.2877, -4.0452, -4.5481, -5.1647, -4.2936, -5.5442, -5.5914, -5.2077, -5.1336, -4.461, -5.2526, -5.0646, -5.3747, -5.2412, -5.2997, -5.2877, -5.3747, -5.3618, -5.3618, -5.3747, -7.8732, -8.2787, -8.2787, -8.2787, -8.9718, -8.2787, -7.1801, -7.8732, -8.2787, -8.9718, -8.9718, -8.2787, -8.9718, -8.2787, -8.2787, -8.2787, -8.2787, -7.8732, -8.9718, -7.8732, -8.9718, -8.9718, -7.3624, -8.2787, -8.2787, -8.2787, -7.8732, -8.9718, -8.2787, -8.9718, -4.4392, -4.5059, -4.5898, -4.5898, -4.9465, -5.1217, -5.4753, -5.753, -5.8808, -5.9273, -5.9273, -5.0499, -6.0274, -6.0815, -6.0815, -6.1386, -6.2638, -6.2638, -6.2638, -6.3328, -6.3328, -6.3328, -6.3328, -6.3328, -6.4069, -6.4069, -6.4069, -6.4069, -6.4869, -6.4869, -5.4906, -6.4869, -5.2583, -5.3212, -5.4309, -4.6745, -4.8367, -3.5491, -5.2106, -6.1685, -4.7233, -5.8808, -5.1217, -5.1541, -5.753, -4.8052, -5.5218, -4.7898, -4.4392, -5.5378, -4.2759, -4.5961, -4.7898, -5.3745, -4.8208, -5.0015, -5.3342, -5.2829, -5.2955, -6.5737, -5.8806, -6.5737, -6.7744, -6.7744, -6.5737, -6.7744, -6.7744, -6.5737, -6.7744, -6.7744, -5.234, -6.0813, -6.5737, -5.8806, -6.5737, -6.0813, -6.7744, -6.5737, -8.9716, -8.9716, -8.9716, -8.9716, -8.9716, -8.9716, -7.1799, -7.5853, -8.9716, -8.9716, -8.9716, -4.4283, -4.5896, -5.0798, -5.0798, -5.2581, -5.3081, -5.3341, -5.5704, -5.5704, -5.6043, -5.6043, -4.8526, -5.6394, -5.6758, -5.6758, -5.7528, -5.7936, -5.8361, -5.8361, -6.1384, -6.2636, -6.2636, -6.2636, -6.2636, -6.2636, -6.2636, -6.2636, -4.2941, -5.6394, -6.0539, -4.3467, -5.5377, -4.709, -5.1004, -3.4382, -4.4886, -4.8128, -5.1874, -5.2828, -4.6744, -5.321, -4.2137, -4.6343, -4.9643, -5.0497, -5.1215, -5.2581, -4.9286, -5.2828, -5.0301, -5.1761, -5.165, -5.0901]}, \"token.table\": {\"Topic\": [8, 11, 1, 12, 10, 2, 11, 4, 6, 10, 13, 2, 3, 1, 3, 5, 6, 7, 12, 13, 9, 9, 1, 9, 1, 5, 5, 9, 11, 13, 3, 2, 4, 5, 6, 7, 8, 10, 12, 7, 10, 5, 5, 3, 10, 11, 12, 13, 12, 7, 8, 7, 12, 13, 4, 12, 13, 1, 3, 13, 1, 5, 2, 2, 4, 10, 12, 12, 5, 6, 9, 7, 8, 8, 10, 3, 6, 9, 11, 1, 9, 5, 1, 8, 9, 10, 12, 5, 2, 6, 7, 11, 8, 1, 13, 8, 2, 10, 4, 2, 1, 1, 2, 1, 9, 10, 4, 8, 5, 1, 12, 6, 11, 2, 5, 6, 13, 11, 7, 3, 3, 1, 9, 11, 13, 7, 3, 6, 1, 4, 2, 7, 12, 4, 9, 13, 9, 1, 1, 5, 8, 9, 12, 13, 2, 6, 7, 5, 1, 2, 5, 6, 4, 10, 2, 3, 4, 5, 6, 7, 8, 11, 13, 9, 11, 5, 13, 1, 4, 3, 4, 1, 3, 3, 6, 7, 6, 2, 4, 12, 2, 12, 4, 4, 4, 5, 6, 10, 3, 6, 12, 1, 3, 9, 10, 11, 13, 1, 6, 6, 7, 9, 3, 10, 2, 11, 1, 2, 6, 5, 2, 4, 5, 3, 5, 11, 13, 9, 4, 6, 5, 4, 2, 1, 3, 4, 11, 10, 12, 11, 12, 7, 2, 3, 4, 6, 11, 12, 1, 3, 5, 9, 12, 13, 6, 2, 1, 1, 8, 4, 6, 7, 9, 10, 10, 5, 7, 11, 8, 10, 12, 6, 9, 1, 6, 13, 8, 5, 3, 8, 12, 3, 8, 13, 2, 11, 13, 12, 2, 6, 7, 8, 1, 2, 4, 6, 7, 8, 12, 2, 6, 7, 9, 11, 11, 10, 6, 10, 6, 8, 12, 7, 3, 4, 6, 7, 9, 10, 5, 9, 10, 5, 6, 7, 7, 3, 5, 3, 12, 2, 8, 2, 4, 4, 9, 5, 8, 9, 1, 9, 12, 4, 2, 4, 5, 13, 5, 12, 6, 13, 2, 5, 6, 2, 4, 2, 12, 5, 7, 8, 10, 12, 4, 1, 5, 2, 3, 5, 10, 12, 9, 12, 6, 8, 2, 3, 5, 10, 5, 5, 1, 4, 4, 4, 2, 8, 4, 7, 12, 5, 7, 8, 10, 12, 13, 1, 3, 9, 5, 12, 3, 5, 8, 10, 7, 1, 4, 6, 7, 12, 7, 9, 1, 11, 8, 8, 1, 13, 9, 1, 2, 12, 8, 1, 7, 10, 3, 2, 4, 6, 8, 10, 11, 12, 3, 5, 3, 12, 3, 3, 2, 4, 11, 13, 1, 9, 10, 11, 5, 5, 5, 7, 10, 12, 13, 11, 13, 4, 6, 8, 10, 1, 4, 12, 1, 4, 5, 7, 10, 12, 8, 3, 12, 7, 9, 10, 12, 13, 8, 5, 12, 11, 13, 9, 5, 12, 9, 13, 3, 5, 12, 13, 12, 6, 1, 3, 3, 13, 1, 6, 13, 2, 3, 4, 6, 12, 6, 1, 3, 9, 2, 1, 6, 11, 4, 7, 12, 13, 11, 10, 10, 8, 11, 3, 7, 10, 11, 12, 13, 2, 3, 4, 10, 11, 12, 10, 2, 6, 2, 10, 13, 11, 4, 5, 8, 13, 5, 13, 4, 12, 7, 3, 8, 5, 10, 10, 5, 2, 8, 4, 11, 12, 5, 6, 11, 11, 12, 10, 9, 13, 2, 3, 7, 11, 3, 9, 12, 11, 4, 10, 7, 3, 12, 11, 5, 4, 11, 8, 10, 11, 7, 11, 13, 8, 10, 1, 5, 9, 2, 10, 11, 3, 6, 7, 8, 9, 13, 6, 11, 13, 6, 9, 11, 6, 9, 1, 13, 7, 13, 2, 8, 12, 2, 12, 1, 9, 10, 11, 13, 7, 9, 12, 12, 4, 9, 3, 4, 11, 1, 3, 11, 7, 4, 7, 12, 1, 6, 7, 8, 13, 7, 12, 3, 10, 7, 4, 5, 8, 9, 10, 11, 12, 12, 11, 2, 8, 9, 10, 13, 8, 4, 5, 5, 1, 9, 7, 7, 7, 6, 7, 1, 8, 9, 7, 12, 7, 8, 5, 3, 12, 3, 8, 3, 5, 3, 11, 12, 11, 1, 1, 11, 10, 6, 12, 5, 11, 12, 2, 2, 11, 3, 13, 1, 2, 4, 5, 7, 9, 10, 12, 1, 5, 4, 5, 7, 8, 10, 3, 8, 13, 13, 4, 7, 10, 12, 7, 3, 12, 8, 3, 8, 1, 2, 3, 5, 6, 8, 3, 8, 12, 8, 1, 3, 5, 7, 10, 12, 13, 8, 1, 2, 7, 10, 10, 13, 13, 10, 4, 7, 8, 10, 1, 3, 13, 3, 1, 4, 5, 6, 7, 8, 10, 13, 5, 8, 10, 12, 13, 3, 8, 12, 13, 10, 1, 2, 4, 10, 12, 1, 7, 10, 7, 8, 1, 8, 6, 7, 10, 12, 10, 9, 10, 8, 10, 13, 13, 10, 6, 2, 9, 3, 9, 4, 9, 9, 10, 7, 4, 6, 4, 5, 6, 12, 13, 5, 13, 10, 10, 7, 9, 7, 11, 2, 4, 9, 12, 5, 8, 8, 8, 2, 5, 8, 11, 12, 11, 7, 10, 13, 13, 9, 13, 12, 6, 3, 10, 9, 2, 4, 6, 12, 1, 1, 1, 3, 10, 5, 4, 11, 5, 4, 4, 1, 7, 9, 10, 13, 13, 11, 6, 4, 7, 9, 11, 1, 7, 4, 5, 7, 9, 10, 10, 2, 6, 1, 2, 3, 5, 6, 4, 2, 4, 6, 7, 11, 12, 4, 2, 3, 11, 12, 5, 10, 5, 13, 10, 12, 12, 11, 2, 13, 11, 5, 6, 6, 3, 11, 12, 6, 8, 11, 13, 1, 2, 4, 11, 12, 13, 3, 4, 1, 9, 9, 2, 6, 7, 3, 10, 2, 10, 11, 4, 4, 6, 7, 8, 9, 10, 11, 13, 9, 13, 6, 7, 1, 3, 9, 12, 6, 10, 7, 13, 9, 1, 9, 11, 13, 8, 13, 3, 9, 6, 13, 9, 10, 12, 2, 8, 4, 5, 10, 7, 8, 12, 12, 3, 4, 8, 10, 11, 8, 8, 1, 5, 6, 7, 8, 11, 9, 2, 7, 4, 4, 7, 11, 9, 11, 13, 12, 3, 2, 1, 4, 3, 9, 7, 2, 2, 4, 6, 7, 9, 12, 13, 9, 3, 4, 12, 2, 11, 10, 13, 1, 3, 1, 10, 8, 9, 3, 9, 3, 5, 10, 12, 13, 2, 1, 3, 12, 12, 1, 3, 3, 12, 8, 4, 13, 5, 1, 2, 3, 10, 13, 2, 12, 5, 4, 8, 13, 2, 4, 5, 9, 11, 12, 13, 13, 12, 5, 4, 4, 9, 1, 3, 5, 6, 9, 13, 2, 4, 5, 6, 7, 13, 7, 13, 9, 2, 3, 10, 11, 13, 5, 11, 9, 13, 7, 5, 9, 7, 8, 10, 8, 8, 2, 2, 2, 4, 3, 5, 9, 12, 4, 12, 6, 8, 7, 3, 10, 10, 2, 7, 2, 4, 6, 8, 10, 11, 13, 8, 8, 10, 4, 4, 5, 10, 11, 13, 4, 13, 13, 10, 12, 7, 5, 9, 11, 2, 4, 9, 13, 2, 3, 6, 4, 5, 6, 7, 8, 9, 11, 12, 13, 12, 5, 5, 9, 9, 4, 1, 3, 9, 13, 1, 2, 4, 6, 7, 11, 4, 5, 7, 8, 8, 11, 2, 7, 6, 7, 8, 1, 3, 11, 1, 3, 9, 1, 11, 5, 8, 3, 2, 11, 2, 7, 8, 11, 4, 2, 9, 10, 11, 12, 6, 7, 4, 13, 11, 2, 4, 6, 12, 8, 10, 2, 4, 7, 4, 9, 8, 9, 5, 9, 4, 7, 4, 7, 11, 4, 5, 6, 7, 8, 10, 13, 5, 1, 9, 1, 11, 4, 5, 7, 8, 9, 1, 10, 2, 1, 9, 13, 11, 10, 6, 3, 10, 9, 9, 4, 4, 2, 6, 1, 3, 4, 9, 11, 3, 9, 11, 8, 9, 10, 10, 1, 11, 10, 12, 3, 10, 13, 7, 1, 5, 9, 12, 13, 2, 4, 6, 12, 5, 11, 1, 3, 9, 5, 5, 6, 3, 4, 7, 11, 5, 9, 1, 3, 2, 2, 4, 5, 12, 1, 12, 13, 10, 12, 10, 1, 2, 3, 6, 13, 2, 4, 5, 11, 2, 5, 10, 12, 3, 9, 5, 5, 5, 13, 2, 1, 3, 13, 4, 2, 3, 5, 6, 3, 1, 3, 2, 10, 10, 2, 11, 13, 3, 4, 7, 2, 1, 9, 10, 9, 10, 10, 7, 13, 5, 6, 13, 4, 5, 9, 12, 6, 6, 6, 3, 9, 13, 9, 1, 2, 4, 7, 9, 12, 13, 4, 9, 11, 13, 6, 4, 7, 8, 10, 11, 7, 12, 6, 3, 3, 3, 11, 12, 13, 13, 3, 4, 9, 1, 1, 4, 8, 11, 8, 9, 7, 10, 13, 3, 2, 3, 5, 8, 10, 4, 7, 3, 7, 9, 2, 7, 11, 2, 13, 2, 6, 8, 10, 5, 8, 6, 1, 7, 6, 3, 10, 11, 1, 4, 5, 6, 7, 9, 13, 7, 8, 9, 11, 1, 5, 8, 7, 11, 11, 1, 2, 3, 6, 4, 12, 2, 1, 8, 1, 2, 4, 8, 9, 11, 12, 4, 5, 8, 9, 11, 1, 4, 5, 1, 6, 8, 2, 6, 7, 2, 4, 2, 5, 11, 2, 10, 7, 10, 12, 2, 5, 9, 3, 4, 12, 3, 6, 6, 12, 12, 5, 7, 1, 3, 9, 13, 7, 6, 6, 7, 4, 10, 11, 13, 4, 2, 6, 6, 10, 1, 7, 8, 8, 10, 11, 11, 12, 2, 4, 7, 2, 10, 13, 11, 1, 7, 13, 8, 2, 11, 13, 2, 4, 10, 11, 12, 4, 7, 6, 10, 3, 3, 11, 8, 2, 2, 4, 10, 9, 2, 9, 2, 4, 4, 4, 10, 13, 6, 12, 6, 12, 7, 7, 12, 4, 13, 8, 2, 3, 6, 11, 2, 11, 1, 5, 12, 12, 9, 9, 3, 2, 2, 6, 4, 10, 12, 10, 6, 2, 9, 11, 13, 2, 13, 6, 7, 1, 1, 2, 3, 4, 7, 7, 1, 5, 4, 1, 3, 12, 10, 4, 8, 3, 6, 13, 8, 11, 11, 8, 9, 9, 8, 9, 7, 2, 6, 7, 3, 6, 10, 11, 6, 6, 2, 6, 11, 12, 12, 6, 1, 2, 2, 4, 1, 3, 9, 4, 2, 11, 13, 1, 3, 8, 12, 13, 2, 3, 4, 10, 13, 3, 6, 11, 12, 4, 8, 8, 10, 11, 12, 13, 4, 2, 3, 4, 7, 8, 9, 10, 11, 12, 4, 8, 13, 2, 5, 6, 10, 8], \"Freq\": [0.9002870564431307, 1.0342903548071078, 0.9088186715505716, 0.09321217144108428, 1.005130757755228, 0.019627308834087268, 0.9813654417043634, 0.22421437082190898, 0.01949690181060078, 0.6531462106551262, 0.09748450905300392, 0.07770913523668026, 0.9221484048086057, 0.06542587771767389, 0.09813881657651082, 0.11598223777224007, 0.0594780706524308, 0.17099945312573855, 0.22750362024554782, 0.26170351087069554, 0.9966171157584333, 1.060400611166973, 0.8755929156201041, 0.12354992060897176, 0.9914849209270521, 0.9966141043649951, 0.6386415333967749, 0.007933435197475466, 0.16263542154824703, 0.19040244473941115, 0.9877345562385103, 0.1777065967151863, 0.050272260912848754, 0.008183856427673053, 0.24668481517700203, 0.1847213307960489, 0.04442664917879657, 0.14380204865768365, 0.14497117100449408, 0.019330865728539884, 0.985874152155534, 0.9379897452847014, 1.0026786932353704, 1.0041967988424856, 0.2980065644355547, 0.045152509762962825, 0.6592266425392573, 1.0077579522604971, 1.0717247918298969, 0.17789577240256124, 0.8239383142855468, 0.2801255877309223, 0.1093173025291404, 0.6080774953183435, 0.11400199509580271, 0.0035625623467438346, 0.8799528996457272, 0.15475631609363982, 0.2220416709169615, 0.6190252643745593, 0.9914849209270521, 1.0120415672808618, 0.9432707435349336, 0.9027531320803339, 0.10466702980641553, 1.0002983983429432, 1.0717247918298969, 1.0002764723745705, 0.026408169237776287, 0.14524493080776957, 0.8252552886805089, 1.0037092813415167, 0.9002870564431307, 1.0025924037662135, 1.0077080161084466, 0.1546203840055415, 0.5411713440193953, 0.14097740894622904, 0.16371570071174985, 0.9914849209270521, 0.9089148095716911, 0.9848892325489363, 0.22271863982085782, 0.10044173952705353, 0.47163947256181654, 0.030569225073451074, 0.17468128613400613, 0.9379897452847014, 0.43045826568126294, 0.4631333155514578, 0.10654907566367894, 0.9990304563477747, 0.9002870564431307, 0.8344201698161393, 0.16561011003984444, 1.0015693502929828, 1.0106472252160001, 0.889154131860394, 0.9885441719080412, 0.9998669881470297, 0.9914849209270522, 0.9983702328779345, 0.9432707435349337, 0.8391171554334907, 0.0876689565378274, 0.06888275156543582, 1.0234339662106782, 0.9983381219963429, 0.9379897452847014, 0.7594703893068202, 0.23983275451794323, 0.020073049662894242, 0.9735429086503706, 0.08127598772022082, 0.7274200900959763, 0.19099857114251892, 1.0143446055432452, 1.005560067173577, 0.9665348635140532, 0.9877345562385104, 1.000731063557438, 0.04335748891523584, 0.39021740023712254, 0.177043079737213, 0.39021740023712254, 1.0408836991689803, 0.9877345562385103, 0.9182927776538935, 1.0035762004505528, 1.012488148390243, 0.9432707435349337, 0.9913178087323623, 0.8573798334639176, 0.9968512657896215, 0.8317102578005217, 0.1691614083662078, 0.9891131751221345, 0.9914849209270522, 0.1282382589642285, 0.03819863032977019, 0.26739041230839133, 0.29467514825822716, 0.15006604772409718, 0.12278131177426133, 0.5158429453869691, 0.2170839061836828, 0.26705619151804544, 0.9999324643129364, 1.00564899122601, 0.22734791522479908, 0.030313055363306543, 0.7426698564010104, 0.07650387593838215, 0.9180465112605857, 0.08829341609613163, 0.0006089201110078044, 0.10108073842729552, 0.027401404995351195, 0.14918542719691205, 0.23260748240498125, 0.10229857864931113, 0.13578918475474036, 0.16319058975009157, 0.9089148095716911, 1.0342903548071078, 0.9379897452847014, 0.99729679704672, 0.017249209738654764, 0.9832049551033216, 0.9877345562385103, 1.007927390965062, 0.6650085026236912, 0.334931289642589, 0.9877345562385103, 0.991756199866205, 1.0408836991689803, 0.9981443235368408, 0.7109824963566128, 0.10436440313491564, 0.1826377054861024, 0.9432707435349337, 0.9937811706059045, 0.9995454583998638, 1.0004242093946023, 0.1254569511465098, 0.33310983580280185, 0.523458313404403, 0.017304407054691006, 0.6450298465574382, 0.3543121692357759, 0.9892844232275972, 0.16104921214569146, 0.13701201630305093, 0.26921659343757376, 0.16104921214569146, 0.093745063786298, 0.1778752492355398, 0.9914849209270521, 1.003058264821945, 1.0713415739295424, 0.9913178087323623, 0.9089148095716911, 0.8675416450219673, 0.1267195661268042, 1.002225165005867, 1.0342903548071078, 0.9914849209270521, 0.9432707435349336, 1.0101220554192827, 1.0019435915541128, 0.18069782101439197, 0.37916919819413397, 0.43841438541196737, 0.42735824074953627, 0.5369372768391609, 0.0036526345363208225, 0.02922107629056658, 0.9089148095716911, 1.0002364622239384, 0.9995999506753319, 0.9379897452847014, 0.9924208157194454, 0.997171928879787, 0.1351711093504191, 0.18610515055492483, 0.0901140729002794, 0.5877004754366048, 0.8923825655731378, 0.10735429360278348, 0.00840611767060062, 0.9919218851308732, 1.0408836991689803, 0.20125715127558205, 0.7025704189983956, 0.09513974423936607, 0.009979058998105096, 0.029937176994315286, 0.9579896638180891, 0.36103390504049915, 0.0888867668944694, 0.12400252665524743, 0.13497620158049056, 0.23812874587777602, 0.052673639641167044, 1.0043827255589461, 0.9432707435349337, 0.9914849209270522, 0.9914849209270521, 1.0003189516034785, 0.23704145429588683, 0.011852072714794342, 0.45630479951958214, 0.005926036357397171, 0.29037578151246135, 0.9917488393827473, 0.9966141043649951, 0.9877773879868894, 0.994509956545296, 0.019334635291742022, 0.9860663998788431, 0.8573798334639176, 0.9948171757917179, 0.9998062905288602, 0.07036794322602605, 0.21110382967807817, 0.7168734216151404, 0.9002870564431307, 0.990100286689407, 0.34421474142126607, 0.48038760615934933, 0.17399866049866197, 0.9877345562385103, 0.9002870564431307, 1.0143446055432452, 0.7869966024885785, 0.2036932382911615, 0.009258783558689159, 1.0717247918298969, 0.21933264437128402, 0.2631991732455408, 0.5126900562178764, 0.005483316109282101, 0.0614102892053609, 0.13738178100580736, 0.07533839603544275, 0.13611558947579994, 0.34503719192702775, 0.1968927829161571, 0.04811527814028277, 0.40750511327992145, 0.21857092439559422, 0.374163785829746, 0.8081779578299249, 0.1916298250524564, 0.9965818522880987, 0.9937605003145581, 0.991254632383726, 0.006652715653582054, 1.001773939258793, 0.9002870564431307, 1.0002764723745705, 0.9913178087323623, 1.0074892473632806, 0.004329170097809038, 0.5151712416392755, 0.28139605635758747, 0.19914182449921575, 0.9995101411338473, 0.8852568431445559, 0.08755287459671432, 0.029184291532238105, 0.6534337314306491, 0.1934747919878458, 0.14966917870757884, 1.0078397722112349, 0.9877345562385104, 1.0024765402730245, 0.01301663156136436, 0.9892639986636913, 0.008496926895720115, 0.9941404467992535, 0.6481876324663493, 0.34868024367155337, 0.30115885116805174, 0.6994018056731728, 0.9921045382818956, 0.9903157620874437, 0.9891131751221345, 0.35554062387495605, 0.6434138386898398, 0.0011469052383063097, 0.9303945147369801, 0.5826293913345922, 0.21031499979882842, 0.1847361484719439, 0.022736756735008478, 0.9985052127224241, 1.0002764723745705, 1.0101220554192827, 1.0143446055432452, 0.26903416207258346, 0.15469464319173548, 0.5716975944042398, 0.9911174202768591, 0.007992882421587574, 0.3831301485923931, 0.6197693580171064, 0.4461135643182089, 0.0950733825596183, 0.1499234109593981, 0.12432673103950086, 0.18649009655925128, 1.0001741033422535, 1.0008385522565528, 0.9379897452847012, 0.48716581632546835, 0.09743316326509367, 0.41499310279576934, 0.025243585990287618, 0.9592562676309295, 0.9798762618622513, 0.020628973933942134, 1.001773939258793, 0.9967463839191804, 0.9089217462323405, 0.07529529258729448, 0.016134705554420245, 0.9780695450464336, 1.0120415672808618, 0.9379897452847014, 0.9914849209270522, 0.998059570354215, 0.9968512657896215, 0.9885441719080412, 0.9521246524939319, 0.04377584609167503, 0.6506255797563623, 0.20730717002040955, 0.14033100739843107, 1.0049890128050372, 0.9877773879868894, 0.2640205966897357, 0.48320750714913896, 0.034870644845814154, 0.21918691045940325, 0.16491267688905825, 0.6390366229451008, 0.19377239534464347, 0.9998352229957806, 0.8573798334639176, 1.0101830688802944, 0.1432267275525042, 0.4760182415715581, 0.3791295729330994, 1.0408836991689803, 1.0035762004505528, 0.03529688638959908, 0.9177190461295761, 0.03529688638959908, 0.8573798334639176, 0.9877773879868894, 1.006298539168658, 0.9914849209270521, 0.9956530714378768, 1.012822938498522, 0.9981443451869492, 0.998094820399899, 1.0085483506544266, 1.0024795693805417, 0.9914849209270521, 0.6907934141310172, 0.3098886343765311, 1.003177005750917, 0.9914849209270521, 0.7664568071488824, 0.2337421468610067, 0.9996349725787332, 0.08627065108089353, 0.04265065896134062, 0.09499464950480412, 0.27238261745765263, 0.032957327379217756, 0.32763460747575296, 0.14346130741541846, 1.0000812381914916, 0.9379897452847012, 0.8070310314871437, 0.19446530879208282, 0.9877345562385103, 0.9877345562385103, 0.398080395967663, 0.6020965989010902, 0.07241101410065431, 0.9268609804883752, 0.0027018396289128633, 0.23235820808650626, 0.0810551888673859, 0.6835654261149544, 1.008338976181054, 1.0161555573917598, 0.38279707264059043, 0.34008151947039583, 0.17414802446310124, 0.0016429058911613325, 0.10021725936084128, 1.0342903548071078, 1.0143446055432452, 0.9885441719080412, 1.001773939258793, 0.8532065107908318, 0.14640821782801255, 0.019408132250721983, 0.9898147447868211, 1.028855800156701, 0.9914849209270522, 0.20933146889670684, 0.5508722865702812, 0.23871132418045518, 0.12055012584366519, 0.8782937740038463, 0.9002870564431307, 1.0003978197800296, 0.8573798334639176, 0.429444610267332, 0.18404769011457084, 0.08764175719741468, 0.24539692015276113, 0.056967142178319545, 1.0041663321865688, 0.9379897452847014, 1.0002764723745705, 1.0342903548071078, 1.0143446055432452, 0.9089148095716911, 0.990100286689407, 1.0002764723745705, 0.9052157158038606, 0.09504765015940536, 0.9877345562385103, 0.9379897452847014, 1.003316826393946, 1.0143446055432452, 1.0002764723745705, 1.001773939258793, 0.3044460782869886, 0.6958767503702598, 1.0101830688802944, 0.9962313090156872, 0.9914849209270522, 0.9948171757917181, 1.0143446055432452, 0.27806895805463483, 0.1430068927138122, 0.04502068844694088, 0.1297655137588296, 0.4051861960224679, 1.0028723755956994, 0.8635632954271523, 0.1344893656812778, 1.0137895952915015, 0.9987572578605179, 0.8115534323274527, 0.12984854917239244, 0.06492427458619622, 0.27569809834647485, 0.04692733588876168, 0.6217872005260923, 0.05279325287485689, 0.994509956545296, 0.9780695450464336, 0.9984763611874917, 1.0041663321865688, 1.005560067173577, 0.9877345562385103, 0.9913178087323623, 0.9937605003145581, 1.0055600671735772, 1.0002764723745705, 0.987997992412252, 0.17261713100051107, 0.17261713100051107, 0.07249919502021465, 0.08976090812026576, 0.39356705868116526, 0.10011793598029643, 0.9917488393827473, 0.9034988349035532, 0.09707012275823299, 0.30444837863751756, 0.6664950991794304, 0.024685003673312236, 0.994509956545296, 0.22575805759421178, 0.5090622867320461, 0.08853257160557325, 0.1770651432111465, 0.9379897452847014, 0.9936436952260361, 0.93039451473698, 1.0717247918298969, 0.9665348635140532, 0.003216327888895243, 0.9970616455575253, 0.9379897452847012, 0.9958526276836414, 0.889154131860394, 1.0120415672808618, 1.0218766388295113, 1.0062031807305578, 1.0079273909650617, 1.018619288825182, 1.0028281980694036, 0.12352815200738566, 0.22330089016719717, 0.655649422193047, 0.9965818522880987, 1.0002764723745705, 1.006148096578867, 0.6801507812414259, 0.3200709558783181, 0.07362955425304553, 0.8221966891590083, 0.0654484926693738, 0.036814777126522764, 0.5934118117709586, 0.09183754229788645, 0.3143669717119959, 1.005560067173577, 0.9894468282758054, 0.011921046123804884, 1.0095789262616426, 1.0036657587584863, 1.0002764723745705, 1.0342903548071078, 0.9379897452847014, 0.028800955108071014, 0.964831996120379, 0.07914734534254021, 0.20776178152416805, 0.7123261080828619, 0.9877773879868894, 0.9911949233568116, 0.987997992412252, 0.9983952613119333, 0.9937605003145581, 0.30943092420647106, 0.13308856955117035, 0.5589719921149156, 0.995674673731319, 0.5191066674002469, 0.4812551395689789, 0.42831701049364773, 0.06833072930054301, 0.05499790407116877, 0.05999771353218412, 0.16999352167452167, 0.2183250131310033, 0.8829775167531266, 0.12342696470742631, 0.9989290340304301, 0.09386822187419895, 0.9025790564826822, 1.0342903548071078, 0.06737799260819591, 0.9264473983626937, 0.9914849209270521, 0.9998539683211989, 0.9665348635140532, 0.9982438975187493, 0.9974817058070562, 0.7195104619133021, 0.2753682014729922, 1.0022251650058671, 1.0717247918298969, 0.0918942777844246, 0.06892070833831845, 0.08729956389520338, 0.4089295361406895, 0.34000882780237107, 0.9992483512022211, 0.9998062905288603, 1.0717247918298969, 1.0717247918298969, 1.0234339662106782, 0.9941255729690371, 0.39710274565150677, 0.12635087361638853, 0.47832830726204223, 0.4183950291965966, 0.5190615023867552, 0.06291654574384911, 1.0037092813415167, 0.9924208157194454, 1.0408836991689803, 0.992755596642431, 1.002380359618558, 1.0003748136453028, 1.0009892019882876, 0.9002870564431307, 1.0031979615262865, 1.0085581184494468, 0.9892844232275972, 0.7937504356600185, 0.20410725488400475, 1.0408836991689803, 0.11860731833681884, 0.17361361089882177, 0.12204521162194402, 0.09797995862606773, 0.06016313248969072, 0.35066511508276876, 0.07563365227275404, 1.0717247918298969, 1.0342903548071078, 0.0883689560684809, 0.5680861461545201, 0.006312068290605779, 0.13255343410272136, 0.20198618529938492, 0.9002870564431307, 0.34006517189396196, 0.6600728805662961, 1.055238463445289, 0.9914849209270521, 0.9089148095716911, 0.995928589238094, 1.0111441649070096, 0.9877773879868894, 0.916230444822776, 0.07047926498636739, 0.12869383167330717, 0.7568422957930208, 0.11337313742648489, 0.8782255609936385, 0.12546079442766264, 1.0408836991689803, 0.9002870564431307, 0.990100286689407, 0.9877345562385103, 1.0104833751539029, 0.9877345562385103, 0.9002870564431307, 1.005372673314198, 0.9379897452847014, 0.10436199666752972, 0.632694604796899, 0.2609049916688243, 0.9850384331496264, 0.9914849209270522, 1.0041962660671426, 0.994509956545296, 1.0161761506975933, 0.3523575696038027, 0.6453290319710094, 0.9966141043649951, 0.17328235911104525, 0.8251540910049774, 1.005328029293811, 1.0106472252160001, 1.0342903548071078, 0.9877345562385104, 0.8694382333227816, 0.9914849209270521, 0.06331791220753698, 0.12030403319432025, 0.3503591142150379, 0.12030403319432025, 0.05909671806036784, 0.14985239222450417, 0.13718880978299677, 0.9914849209270521, 0.9806256427976423, 0.2100524426047205, 0.19070550710165415, 0.07186004615424649, 0.41734103728043154, 0.10779006923136973, 0.5341208357127216, 0.16023625071381647, 0.3026684735705422, 0.9901935435065014, 0.1394256907384009, 0.05577027629536035, 0.7250135918396845, 0.08365541444304053, 0.9998636519110895, 0.3069970026015759, 0.6927111853574021, 1.0041663321865688, 0.9877345562385104, 0.9002870564431307, 0.21375042660186064, 0.009542429759011636, 0.6450682517091866, 0.09924126949372102, 0.030535775228837235, 0.9967463839191804, 1.0009043503216903, 0.9002870564431307, 1.0002764723745705, 0.9002870564431307, 0.3957312040596228, 0.02308432023681133, 0.1945678419959812, 0.16159024165767932, 0.00329776003383019, 0.07914624081192456, 0.14180368145469818, 1.0062031807305578, 0.9914849209270521, 0.010354501387922743, 0.24850803331014584, 0.7455240999304376, 0.889154131860394, 0.8694382333227816, 1.004351062631489, 1.0373464871704599, 0.93039451473698, 0.15411502439609254, 0.847632634178509, 0.9917488393827473, 0.5902239795699519, 0.2331749055091168, 0.1748811791318376, 0.9877345562385103, 0.06138328028977608, 0.14118154466648497, 0.09821324846364173, 0.03069164014488804, 0.24757923050209682, 0.23121035575815654, 0.09412102977765664, 0.09412102977765664, 0.9379897452847014, 0.28477519906088705, 0.33636490903568544, 0.1341332459344758, 0.24350343108104835, 0.005084872999560186, 0.2542436499780093, 0.27458314197625006, 0.46780831595953715, 0.9950058142247268, 0.9914849209270522, 0.9432707435349337, 0.224639563221705, 0.7737584955414283, 1.0104833751539029, 0.2962159596928183, 0.6055970731497619, 0.09873865323093943, 0.23672947813489442, 0.7648183139742742, 0.9914849209270521, 1.0003189516034785, 0.23526023780799912, 0.7699425964625426, 0.6716300806279865, 0.3282402649685648, 0.9917488393827473, 0.9846577103693321, 0.9844206459882935, 0.6558125009459581, 0.23251534124447604, 0.10731477288206587, 1.0017440514371179, 0.9917488393827473, 0.9182927776538935, 0.9432707435349337, 1.0029404795273833, 0.29984199237071113, 0.6996313155316594, 0.056889262051650784, 0.9481543675275131, 1.0035934355687424, 1.0373464871704599, 0.9665348635140532, 0.9303945147369801, 0.983885118914886, 0.09277228306586358, 0.4965035149265662, 0.3195489750046412, 0.036078110081169165, 0.05497616774273397, 0.9991629895423992, 0.9901935435065014, 0.889154131860394, 0.889154131860394, 1.0408836991689803, 0.9089148095716911, 1.0085581184494468, 0.9850384331496264, 0.9991223007179231, 0.15624777659108138, 0.7187397723189743, 0.11718583244331103, 0.9921045382818956, 0.9002870564431307, 0.9002870564431307, 0.9002870564431307, 0.9976902095081029, 0.7278203971226005, 0.11128752249581048, 0.12909352609514013, 0.031160506298826933, 1.0055600671735772, 1.0408836991689803, 0.889154131860394, 0.9998539683211989, 1.004351062631489, 0.9985261288252382, 1.0025155139334117, 1.0104833751539029, 1.0713415739295424, 0.9983553579184944, 1.0373464871704599, 0.9846577103693321, 0.2021081943469715, 0.7773392090268134, 0.01554678418053627, 1.0002764723745705, 0.9914849209270522, 0.9914849209270522, 0.020579424988087746, 0.9878123994282118, 0.889154131860394, 0.9379897452847014, 1.003846713268847, 1.0024372098221064, 0.9981172930593617, 0.9924208157194454, 0.9945596536843581, 0.4699171406004719, 0.009789940429176499, 0.45686388669490324, 0.062002956051451154, 0.9781180124881294, 0.8694382333227816, 1.005560067173577, 0.9994611366285779, 0.10824017083156037, 0.08118012812367029, 0.8101100285674596, 0.9850384331496264, 1.002380359618558, 1.0037092813415167, 0.11821655655335807, 0.8127388263043367, 0.07092993393201484, 0.9089148095716911, 1.0373464871704599, 1.0373464871704599, 0.7866438214211842, 0.21178872115185726, 0.004829552762668812, 0.009659105525337624, 0.22698897984543415, 0.6133532008589391, 0.14488658288006437, 0.9303945147369801, 0.1528952437422419, 0.1284320047434832, 0.19570591199006965, 0.02752114387360354, 0.036694858498138055, 0.45868573122672573, 0.9993126269397193, 0.08224490892304452, 0.4243837300429097, 0.31582045026449096, 0.17764900327377614, 0.8534761351875805, 0.1454788866797012, 0.13419296379353762, 0.866154584485561, 1.0002983983429432, 1.0717247918298969, 1.0104833751539029, 1.0009261498133302, 0.9432707435349337, 0.987997992412252, 0.994509956545296, 1.055238463445289, 1.006590160120614, 1.010122055419283, 0.5069833510628331, 0.2646751318048614, 0.23112476298452686, 0.4512540994887419, 0.14891385283128483, 0.3564907385961061, 0.04061286895398677, 0.9914849209270522, 0.0826373773976291, 0.23819008779316622, 0.5347124419846588, 0.11666453279665284, 0.024305110999302673, 1.0101830688802944, 0.93039451473698, 0.9914849209270521, 0.9089148095716911, 0.9998062905288603, 0.515989539154982, 0.13534151846688053, 0.3510420635234714, 0.9877345562385103, 0.889154131860394, 0.6932840789548192, 0.2169460383123924, 0.08960814625946643, 1.0008789476715998, 0.16912636831507152, 0.14356075450000255, 0.06489732737671348, 0.03933171356164454, 0.17305953967123597, 0.11799514068493361, 0.2399234527260317, 0.05506439898630235, 0.9089148095716911, 1.0143446055432452, 0.01716680912259305, 0.9785081199878038, 0.8051530760840427, 0.12702657753753102, 0.06253616124924603, 0.005862765117116816, 0.5367999228728818, 0.4625257197080805, 1.0085581184494468, 1.0017440514371179, 0.9089148095716911, 0.31074430872471936, 0.13810858165543083, 0.15191943982097392, 0.4005148868007494, 0.007013536741565701, 0.9889086805607639, 0.9863980097529612, 0.015412468902390019, 0.9766523277576606, 0.014797762541782737, 0.9089148095716911, 0.889154131860394, 1.0717247918298969, 0.09594871590205738, 0.9046593213622552, 0.008961635727724102, 0.8692786655892379, 0.11650126446041333, 0.9992483512022211, 0.9967463839191804, 1.0020626803609536, 1.0002764723745705, 0.9877345562385103, 0.06382996992891529, 0.10486352202607511, 0.18237134265404367, 0.6474182664218551, 0.9002870564431307, 0.9002870564431307, 0.023544712231832608, 0.23780159354150934, 0.09417884892733043, 0.11772356115916303, 0.3131446726833737, 0.20954793886331022, 0.9998062905288603, 1.0106472252160001, 1.0408836991689803, 0.9999909548157305, 0.9910724178720006, 1.0408836991689803, 0.994509956545296, 0.9089148095716911, 1.005560067173577, 0.987997992412252, 0.8573798334639176, 0.9877345562385104, 0.9432707435349337, 0.9914849209270522, 0.93039451473698, 0.9877345562385103, 1.0009568156042674, 0.9998636519110895, 1.0106472252160001, 0.2898034591968968, 0.19541033248705042, 0.023184276735751744, 0.12088944297927695, 0.22356266852332038, 0.11426536391191931, 0.033120395336788205, 0.9089148095716911, 0.6696941558106538, 0.004586946272675711, 0.32567318535997547, 0.9938031047957335, 1.0016775958717485, 0.9917488393827473, 0.9982438975187493, 0.9859754924774027, 0.01634213523443209, 0.9914849209270521, 1.0038836972617355, 1.0003189516034785, 1.0137895952915015, 0.9877345562385104, 1.0137895952915015, 0.9877345562385104, 0.1792737363568153, 0.3734869507433652, 0.23405182246584216, 0.21413251842619602, 0.9432707435349336, 0.9914849209270522, 0.05845229620326001, 0.9352367392521601, 1.0002764723745705, 0.1926665816150341, 0.8041735580453598, 1.0112520456727607, 0.8573798334639176, 1.012822938498522, 0.7434575540757535, 0.24781918469191785, 0.9966141043649951, 0.16043934420212902, 0.1795392661309539, 0.637937392422751, 0.003819984385764976, 0.01909992192882488, 1.006155459770596, 1.0002764723745705, 1.055238463445289, 0.93039451473698, 0.9967463839191804, 1.0143446055432452, 0.9432707435349337, 0.36228777323780875, 0.09118807897822397, 0.19223432865679646, 0.1725179872560994, 0.17744707260627365, 0.0024645426750871343, 1.0143446055432452, 0.9892844232275972, 0.9931656126543896, 0.9885441719080412, 0.267041613716473, 0.7343644377203008, 0.21430043375713093, 0.02030214635593872, 0.02706952847458496, 0.05413905694916992, 0.22557940395487466, 0.4601819840679443, 0.11407989334490086, 0.15785473614003723, 0.18173192311920253, 0.04244833240740497, 0.11805942450809508, 0.38601452282983895, 0.9665348635140532, 1.0143446055432452, 1.060400611166973, 0.09383652777207722, 0.16421392360113515, 0.2647530604997893, 0.3418330654554242, 0.1374034870948274, 1.055238463445289, 0.9850384331496264, 0.9089148095716911, 0.987997992412252, 0.9877773879868894, 0.9927992779737312, 0.005788917072733126, 0.13661868840649513, 0.7351386566635215, 0.1236073847487337, 1.0021052354456277, 0.9967463839191804, 0.9987572578605179, 0.9432707435349337, 0.9432707435349337, 0.93039451473698, 0.1549874102111843, 0.1549874102111843, 0.6031942451462308, 0.08377697849253206, 0.9924208157194454, 1.0104833751539029, 0.023703995793955736, 0.9718638275521851, 1.0037092813415167, 0.754578749657315, 0.2409579200586384, 0.889154131860394, 0.09278605603599852, 0.9072414367964299, 0.08653320398094919, 0.072870066510273, 0.07742444566716505, 0.4827641906305586, 0.17306640796189837, 0.08653320398094919, 0.01821751662756825, 0.9903157620874437, 0.9143378203330742, 0.089934867573745, 0.93039451473698, 0.4633032436382167, 0.004542188663119772, 0.1408078485567129, 0.19985630117726993, 0.18622973518791064, 0.26823089463190947, 0.732956514401148, 0.9952779776195001, 0.9780695450464336, 1.0002764723745705, 1.0408836991689803, 0.033530577769042606, 0.9259598014681767, 0.04126840340805244, 0.03331738670535592, 0.12216375125297169, 0.799617280928542, 0.05552897784225986, 1.0034795143988657, 0.9877345562385103, 1.0043827255589461, 0.004111648641070186, 0.11101451330889503, 0.08737253362274146, 0.03186527696829394, 0.17577297940575046, 0.06784220257765806, 0.2703408981503647, 0.19016374964949612, 0.06064681745578524, 1.0086821570163735, 1.001367430776911, 0.9985052127224241, 0.9089148095716911, 0.9089148095716911, 0.9975896741346508, 0.5953682388501474, 0.00654250811923239, 0.31404038972315473, 0.08505260555002107, 0.9914849209270521, 0.11676383115947032, 0.09297860629365229, 0.30920792325563434, 0.2854226983898163, 0.19460638526578386, 0.20652823836763556, 0.23335008750628955, 0.42378521639073274, 0.13410924569326985, 1.012822938498522, 0.9911949233568116, 0.18026772297031216, 0.8224714860520492, 0.20964677658236577, 0.7913427623109018, 0.9002870564431307, 0.07731441876274923, 0.6333835075563687, 0.2884422546148721, 0.5501321972315792, 0.3059423034322212, 0.14380698133680442, 0.9903217844341241, 0.007736888940891595, 0.9942691300017835, 1.0003189516034785, 0.9877345562385103, 0.9998669881470298, 0.994509956545296, 0.2321915693520762, 0.6351122338159731, 0.040974982826836974, 0.0956082932626196, 0.93039451473698, 0.9432707435349337, 1.0137895952915015, 0.9917488393827473, 1.0342903548071078, 1.0717247918298969, 0.14936115358242752, 0.8494915610000565, 0.93039451473698, 1.0039941503846408, 0.9930686377676942, 0.4003003774042394, 0.10777317853191061, 0.2925271988723288, 0.1970709550297794, 0.374793915156343, 0.6212337497796919, 0.2843206723453208, 0.5343458550303111, 0.1825405094824044, 0.2612841644878477, 0.7381277646781698, 0.9903157620874437, 0.9998062905288603, 0.28479740779986695, 0.7192341315623759, 0.9113176744074272, 0.08641805533173878, 0.6533560858372791, 0.34552485308702263, 1.0013350248745285, 0.19469345050482073, 0.12597811503253106, 0.045810223648193114, 0.07730475240632588, 0.11738869809849486, 0.07730475240632588, 0.36361865020753287, 0.9966141043649951, 0.9914849209270521, 1.060400611166973, 0.020585689396191147, 0.988113091017175, 0.25615977420719377, 0.3971469367553392, 0.20055920306144628, 0.1449586319156988, 0.9089148095716911, 0.9914849209270521, 1.0373464871704599, 1.002225165005867, 0.9914849209270521, 0.9089148095716911, 0.8694382333227816, 0.9850384331496264, 0.889154131860394, 0.9182927776538935, 0.9877345562385104, 1.0002983983429432, 1.0099053439685457, 1.0035934355687424, 0.9924208157194454, 1.0003261285897596, 0.8380056133346543, 0.16615628540256078, 0.9914849209270522, 0.9877345562385103, 0.93039451473698, 1.0045900526845009, 1.005560067173577, 0.9859532976905213, 0.02054069370188586, 1.005560067173577, 0.9002870564431307, 0.9972815271689389, 0.889154131860394, 0.9844206459882935, 0.9914849209270521, 1.0024372098221064, 0.889154131860394, 1.0002764723745705, 0.9877345562385104, 0.987949035400438, 0.8694382333227816, 1.0408836991689803, 0.6305355685809545, 0.20062495363939462, 0.04299106149415599, 0.10031247681969731, 0.03582588457846333, 0.006656728248164822, 0.3661200536490652, 0.5591651728458451, 0.06656728248164823, 0.9816243940102618, 0.01115482265920752, 0.15349528730699122, 0.3998956169313718, 0.4443284632570798, 0.9931656126543896, 0.9379897452847014, 0.983885118914886, 1.001453091741823, 0.14034407889831607, 0.14884978064972917, 0.7102260962429935, 0.9379897452847014, 0.9089148095716911, 1.0074766132000692, 0.9877345562385103, 1.0013181739063142, 0.9432707435349336, 0.1066431986896039, 0.6451913520721035, 0.24794543695332905, 0.32825034200965686, 0.5908506156173824, 0.0738563269521728, 0.9073887240514191, 0.09144227451680968, 1.0002983983429432, 0.08867614180478944, 0.2669521352248349, 0.12192969498158548, 0.49418474859960787, 0.028635004124463258, 0.018758832634333297, 0.018758832634333297, 0.9567004643509982, 0.9911949233568116, 0.15921627362411725, 0.16983069186572508, 0.22290278307376415, 0.4511127752683322, 0.34526583416223283, 0.6540131666342295, 1.0317887198131714, 0.9966141043649951, 0.9379897452847014, 0.8694382333227816, 1.0002086153780887, 0.9914849209270522, 0.9877345562385103, 1.0143446055432452, 1.007927390965062, 0.9432707435349336, 0.9877345562385103, 0.6518227294795147, 0.3450826214891548, 0.9877345562385103, 0.9914849209270521, 1.0003978197800296, 0.9432707435349337, 0.889154131860394, 0.889154131860394, 0.16670766389098624, 0.3586740647351522, 0.47486425471977894, 1.0067294515507894, 0.93039451473698, 0.992916708423866, 0.9987572578605179, 0.9914849209270522, 1.0099053439685457, 1.0002983983429434, 0.9089148095716911, 1.0002983983429434, 0.9937605003145581, 1.0408836991689803, 1.0143446055432452, 0.9595877371023107, 0.033473990829150375, 0.9998539683211989, 0.006894645368160865, 0.692911859500167, 0.1930500703085042, 0.10341968052241297, 0.9993186109762959, 1.001773939258793, 0.997455948141298, 0.09009244373963188, 0.19949041113775628, 0.7078692008113933, 0.9089148095716911, 0.0021262083999357595, 0.10418421159685222, 0.0999317947969807, 0.0021262083999357595, 0.3678340531888864, 0.06378625199807278, 0.3593292195891434, 0.4845559113208809, 0.05864052429997922, 0.0030863433842094326, 0.4536924774787866, 1.0713415739295424, 0.16748637610397452, 0.45427811600804047, 0.17436937786167211, 0.20419571881169496, 1.0342903548071078, 0.062884699663909, 0.943270494958635, 0.9997542337360937, 0.9877345562385103, 0.9877345562385103, 0.9877345562385103, 1.0342903548071078, 0.8573798334639176, 0.9966730967358717, 0.8694382333227816, 0.857064906976918, 0.14469927000909003, 0.9089148095716911, 0.9914849209270521, 0.9914849209270521, 0.09285901734064095, 0.21914728092391264, 0.6908710890143687, 1.0003189516034785, 0.9846577103693321, 0.9665348635140532, 0.889154131860394, 1.0025155139334117, 0.9978134802817604, 0.13712540925297045, 0.09324527829201991, 0.7679022918166346, 0.10683060224746362, 0.9080601191034406, 0.9968512657896215, 1.0408836991689803, 0.9877345562385103, 1.0408836991689803, 0.9089148095716911, 0.1400970473787003, 0.15877665369586033, 0.7004852368935015, 1.006155459770596, 1.0143446055432452, 0.9432707435349336, 0.0374888044925272, 0.8434981010818621, 0.11246641347758161, 0.283783198270643, 0.7169259745784665, 0.983885118914886, 0.9914849209270521, 0.9665348635140532, 1.0028723755956994, 0.9911629236474863, 0.008810337099088766, 1.0055600671735772, 0.006984777599412025, 0.4470257663623696, 0.31780738077324716, 0.031431499197354114, 0.041908665596472154, 0.006984777599412025, 0.15017271838735854, 1.0037092813415167, 0.6486086250103846, 0.028200375000451507, 0.3172542187550795, 0.24119422363568474, 0.20673790597344407, 0.5513010825958509, 1.0037092813415167, 1.0342903548071078, 1.0342903548071078, 0.1035618801152036, 0.07042207847833845, 0.6006589046681808, 0.22369366104883978, 1.012488148390243, 0.9892844232275972, 1.002225165005867, 0.9914849209270522, 1.0062031807305578, 0.12339307432078277, 0.1939034025040872, 0.14102065636660888, 0.21373443230564157, 0.10576549227495666, 0.19831029801554373, 0.01983102980155437, 0.1731369780542921, 0.6801001556250297, 0.02150067047733039, 0.08260783920237466, 0.04300134095466078, 0.29427680423650665, 0.7054932992394853, 0.9931656126543896, 1.0065074197289772, 1.0101220554192827, 0.9002870564431307, 0.6878746930639388, 0.09553815181443595, 0.21655314411272147, 0.961856104523944, 0.03809331107025521, 0.8111778451045816, 0.1802617433565737, 0.010014541297587427, 0.9432707435349337, 1.0000155885045654, 0.201189677666077, 0.7062168277258213, 0.09033005936027946, 0.9432707435349337, 0.7500827362993603, 0.25002757876645343, 0.9877345562385103, 0.9910724178720006, 1.0020626803609536, 1.0060259369095939, 0.9987617323967605, 0.9948171757917179, 0.8573798334639176, 0.9945606068181444, 0.7972628559930173, 0.20125081801765485, 0.6357938967837483, 0.18868722098098337, 0.17638153265613662, 0.987997992412252, 1.0408836991689803, 1.001773939258793, 0.983885118914886, 0.9913178087323623, 1.012488148390243, 0.9844206459882935, 0.022874694757142162, 0.983611874557113, 0.93039451473698, 0.014817502380270554, 0.9779551570978566, 1.0017739392587928, 1.0028831487262584, 0.31755180666052907, 0.25185143286869544, 0.4307024504131314, 0.367622723564542, 0.6170810002690527, 0.01312938298444793, 0.9850384331496264, 1.0002764723745705, 0.02940774241095689, 0.9292846601862377, 0.04117083937533965, 0.9432707435349337, 0.9677591264338942, 0.031729807424062104, 1.0019687812193856, 0.9914849209270522, 0.9259353910539931, 0.08903224913980703, 0.9002870564431307, 0.9432707435349337, 0.8153586094665966, 0.19184908458037567, 0.1547840489227264, 0.15604245582453719, 0.12835750398469994, 0.5109132021351782, 0.05033627607243135, 0.93039451473698, 1.0001117570356333, 0.997455948141298, 0.9917488393827473, 0.9877345562385103, 0.9877345562385103, 1.0055600671735772, 1.0062031807305578, 1.0003369451011042, 0.9904342807116805, 0.9389462596561973, 0.06309125064883539, 1.0137895952915015, 0.01165819776948426, 0.9909468104061622, 1.0218766388295113, 1.0019633235629017, 1.0079273909650617, 0.38788765794748653, 0.017631257179431207, 0.593585658374184, 0.16552944797074975, 0.8333551518527401, 0.15760989315794213, 0.8422278665627533, 0.9999288320709272, 0.9665348635140532, 1.0002764723745705, 0.9693690061583593, 0.020195187628299152, 0.9002870564431307, 0.11939816967191451, 0.23467916107928025, 0.23467916107928025, 0.4158350047194264, 1.0106472252160001, 1.0342903548071078, 0.17932279432978976, 0.01379406110229152, 0.8000555439329082, 1.0717247918298969, 0.9089148095716911, 0.9089148095716911, 0.9877345562385104, 1.0010220135472765, 0.9432707435349337, 0.9182927776538935, 0.93039451473698, 1.0012648702254003, 1.0717247918298969, 0.889154131860394, 1.001773939258793, 0.1851096252648867, 0.046277406316221674, 0.7635772042176576, 1.0143446055432452, 1.002225165005867, 0.8694382333227816, 0.983885118914886, 0.9951305695351789, 1.0045307751497765, 0.04768411785077309, 0.40778142162040437, 0.1496294732558742, 0.39298290228740584, 0.0016442799258887272, 1.0408836991689803, 0.9914849209270521, 0.9379897452847014, 0.93039451473698, 0.6918983848612633, 0.21104236449436214, 0.09617120407338023, 0.889154131860394, 0.9303945147369801, 0.9002870564431307, 0.15716819055987208, 0.8405081495158376, 1.0077579522604971, 0.9002870564431307, 1.0342903548071078, 1.0055600671735772, 0.9971533853009359, 1.0099053439685457, 0.9846577103693321, 0.9002870564431307, 0.9089148095716911, 0.9992483512022211, 0.11132865072387486, 0.3147913572192324, 0.5758378485717666, 0.9877345562385104, 0.9993186109762958, 0.20705257945871816, 0.7887717312713073, 1.0003455543644126, 0.9993186109762959, 0.09968723904767073, 0.2558639135556882, 0.5283423669526548, 0.11630177888894919, 1.0002764723745705, 0.9182927776538935, 0.9914849209270521, 0.9987572578605179, 0.9902058808720202, 0.01571755366463524, 0.09142688338291872, 0.8533175782405747, 0.05224393336166784, 0.93039451473698, 1.0158300314991593, 0.9635550761042099, 0.025356712529058155, 0.5242055467300797, 0.2768460543668233, 0.044229843005350475, 0.08026897434304345, 0.07535454734244895, 0.6962100958677789, 0.056311110695188, 0.1414176757231426, 0.03455454519931991, 0.07166868633933018, 0.005380588308758835, 0.3497382400693243, 0.6456705970510602, 1.0717247918298969, 0.01876863348416507, 0.9759689411765836, 0.6483955050323237, 0.2446775490688014, 0.030584693633600175, 0.07952020344736045, 0.987997992412252, 0.9303945147369801, 0.04182873424334018, 0.24173749010761533, 0.11842420863698909, 0.07387932281940604, 0.07931162596789178, 0.09669499604304614, 0.18252538578912078, 0.026618285427580116, 0.13852373028638632, 0.9988058761146993, 1.0041663321865688, 0.8694382333227816, 0.029077297823931675, 0.5873614160434198, 0.3721894121463254, 0.005815459564786334, 0.9002870564431307], \"Term\": [\"abaa\", \"abish\", \"abuse\", \"abuse\", \"academic\", \"accept\", \"accept\", \"access\", \"access\", \"access\", \"access\", \"accident\", \"accident\", \"accord\", \"accord\", \"accord\", \"accord\", \"accord\", \"accord\", \"accord\", \"account\", \"accounted_high\", \"accuse\", \"accuse\", \"acharya\", \"acquire\", \"act\", \"act\", \"act\", \"act\", \"adamant\", \"add\", \"add\", \"add\", \"add\", \"add\", \"add\", \"add\", \"add\", \"admission\", \"admission\", \"adversely\", \"advocate\", \"afternoon\", \"age\", \"age\", \"age\", \"agent\", \"ail\", \"aim\", \"aim\", \"air\", \"air\", \"air\", \"airport\", \"airport\", \"airport\", \"alert\", \"alert\", \"alert\", \"alias\", \"allottee\", \"alternate_route\", \"alternative\", \"alternative\", \"alumnus\", \"amblyopia\", \"ambulance\", \"amount\", \"amount\", \"amount\", \"analysis\", \"ancient\", \"annual\", \"answer\", \"apartment\", \"apartment\", \"apartment\", \"apartment\", \"apmc\", \"applied\", \"appointment\", \"approach\", \"approach\", \"approach\", \"approach\", \"approach\", \"archaeological\", \"area\", \"area\", \"area\", \"army\", \"arranged\", \"arrest\", \"arrest\", \"art\", \"arterial_road\", \"artistic\", \"ashish_verma\", \"asphalt\", \"assailant\", \"assault\", \"asserted\", \"associate\", \"associate\", \"associate\", \"associate_professor\", \"association\", \"ateeq\", \"attack\", \"attack\", \"attend\", \"attend\", \"authority\", \"authority\", \"authority\", \"automate\", \"await\", \"axe\", \"azharuddin\", \"baby\", \"back\", \"back\", \"back\", \"back\", \"backing\", \"bagalkote\", \"bagalur\", \"bail\", \"baiyappanahalli\", \"bala\", \"bamboo\", \"banana\", \"banaswadi\", \"bank\", \"bank\", \"bank_account\", \"barge\", \"base\", \"base\", \"base\", \"base\", \"base\", \"base\", \"bbmp\", \"bbmp\", \"bbmp\", \"bda\", \"beat\", \"bellandur\", \"bellandur\", \"bellandur\", \"benefit\", \"benefit\", \"bengaluru\", \"bengaluru\", \"bengaluru\", \"bengaluru\", \"bengaluru\", \"bengaluru\", \"bengaluru\", \"bengaluru\", \"bengaluru\", \"benson\", \"bharani_dharan\", \"bharat_abhiyan\", \"bial\", \"bid\", \"bid\", \"bidadi\", \"bidder\", \"bike\", \"bike\", \"biker\", \"bin\", \"bitter\", \"black_spot\", \"block\", \"block\", \"block\", \"blockage\", \"blood\", \"bmrcl\", \"bmtc\", \"board\", \"board\", \"board\", \"board\", \"body\", \"body\", \"bone\", \"book\", \"book\", \"book\", \"book\", \"book\", \"book\", \"booty\", \"borewell\", \"borewells_drille\", \"bosch\", \"bouquet\", \"boy\", \"boy\", \"brigade\", \"broken\", \"brutally\", \"bts\", \"buck\", \"buffer_zone\", \"build\", \"build\", \"build\", \"building\", \"building\", \"building\", \"building\", \"bullion\", \"bus\", \"bwssb\", \"byre\", \"cabinet\", \"cable\", \"call\", \"call\", \"call\", \"call\", \"campus\", \"campus\", \"cancer\", \"cancer\", \"capacity_utilisation\", \"car\", \"car\", \"car\", \"care\", \"care\", \"care\", \"case\", \"case\", \"case\", \"case\", \"case\", \"case\", \"cauvery\", \"cave\", \"ccb\", \"cctv_camera\", \"celebrate\", \"centre\", \"centre\", \"centre\", \"centre\", \"centre\", \"ceremony\", \"cess\", \"cfb\", \"chandrashekhar\", \"channel\", \"channel\", \"charger\", \"cheap\", \"cheat\", \"check\", \"check\", \"check\", \"cheluvi\", \"chief_justice\", \"child\", \"child\", \"child\", \"chin\", \"chowdiah\", \"church\", \"circle\", \"circle\", \"circle\", \"circumnavigate\", \"citizen\", \"citizen\", \"citizen\", \"citizen\", \"city\", \"city\", \"city\", \"city\", \"city\", \"city\", \"city\", \"civic_body\", \"civic_body\", \"civic_body\", \"claim\", \"claim\", \"clarify\", \"class\", \"clean\", \"clean\", \"cleaning\", \"cloth_bag\", \"clothing\", \"coconut\", \"collapse\", \"collect\", \"collect\", \"collect\", \"collect\", \"college\", \"commission\", \"commission\", \"commission\", \"commissioner\", \"commissioner\", \"commissioner\", \"commissioner_manjunath\", \"committed_suicide\", \"committee\", \"common\", \"common\", \"community\", \"community\", \"commuter\", \"commuter\", \"company\", \"company\", \"compensation\", \"competition\", \"complainant\", \"complaint\", \"complaint\", \"complaint\", \"complement\", \"complete\", \"complete\", \"complete\", \"complete\", \"complex\", \"complication\", \"compost\", \"conceal\", \"concern\", \"concern\", \"concern\", \"concrete\", \"concrete\", \"condition\", \"condition\", \"conduct\", \"conduct\", \"conduct\", \"conduct\", \"conduct\", \"conductor\", \"constable\", \"constitution\", \"construction\", \"construction\", \"construction\", \"consultant\", \"consultant\", \"contact\", \"contact\", \"contaminate\", \"contest\", \"contractor\", \"contractor\", \"contractor\", \"converter\", \"convict\", \"convictsfifteen\", \"cop\", \"corporation\", \"corporation_limite\", \"corporation_limited\", \"corporator\", \"corporator\", \"cost\", \"cost\", \"cost\", \"counsel\", \"count\", \"country\", \"country\", \"country\", \"country\", \"couple\", \"couple\", \"couple\", \"court\", \"cpap\", \"crash\", \"create\", \"create\", \"create\", \"creation\", \"crime\", \"crisis\", \"crisis\", \"crisis\", \"crocs\", \"crop\", \"crore\", \"crossfire\", \"crowd\", \"cultural\", \"culture\", \"custody\", \"custom\", \"customer\", \"dagger\", \"damage\", \"damage\", \"dance\", \"dangerous_weapon\", \"datum\", \"datum\", \"daughter\", \"day\", \"day\", \"day\", \"day\", \"day\", \"day\", \"day\", \"dead\", \"dearth\", \"death\", \"death\", \"decease\", \"declared_brought\", \"delay\", \"delay\", \"delhi\", \"delhi\", \"demand\", \"demand\", \"demand\", \"demand\", \"demolish\", \"demolition\", \"department\", \"department\", \"department\", \"department\", \"department\", \"depict\", \"deport\", \"depot\", \"depute\", \"design\", \"design\", \"detailed\", \"detailed\", \"detection\", \"devaraj_chandrashekar\", \"development\", \"development\", \"development\", \"device\", \"device\", \"dharmapuri\", \"die\", \"differentiate\", \"director\", \"director\", \"director\", \"director\", \"director\", \"disability\", \"disburse\", \"disease\", \"dish\", \"disrupt\", \"diversified\", \"division_bench\", \"doctor\", \"document\", \"document\", \"doddabanahalli\", \"doddamavalli\", \"dog\", \"doll\", \"donate\", \"drinking\", \"driver\", \"driver\", \"driving\", \"drug\", \"drunk\", \"dry\", \"dubai\", \"due\", \"due\", \"due\", \"due\", \"due\", \"dump\", \"duo\", \"duo\", \"dupe\", \"dust\", \"duty\", \"duty\", \"duty\", \"early\", \"early\", \"early\", \"early\", \"eastern\", \"easy\", \"education\", \"egg\", \"elderly\", \"electric_pole\", \"electricity\", \"electronic\", \"elevator\", \"emergency\", \"empty\", \"end\", \"end\", \"end\", \"end\", \"end\", \"end\", \"engine\", \"engineer\", \"engineer\", \"engineering\", \"engineering\", \"engineering\", \"enjoy\", \"ensure\", \"ensure\", \"ensure\", \"ensure\", \"entitle\", \"entry\", \"epc\", \"equator\", \"erosion\", \"event\", \"event\", \"eviction\", \"exam\", \"exciting\", \"execute\", \"execution\", \"exhibition\", \"extension\", \"extra\", \"eye\", \"face\", \"face\", \"face\", \"facebook\", \"factor\", \"faculty\", \"fake\", \"fake\", \"fall\", \"fall\", \"fall\", \"fall\", \"family\", \"family\", \"family\", \"fan\", \"fare\", \"fare\", \"farm\", \"father\", \"fault\", \"feb\", \"fecal\", \"fee\", \"fee\", \"feel\", \"feel\", \"feel\", \"fell\", \"fellow\", \"fernande\", \"festival\", \"field\", \"file\", \"file\", \"file\", \"fill_pothole\", \"film\", \"film\", \"find\", \"find\", \"find\", \"find\", \"find\", \"find\", \"fine\", \"fine\", \"fire\", \"firm\", \"firm\", \"fitness\", \"flat\", \"flat\", \"flee\", \"flight\", \"flora\", \"fly\", \"flyover\", \"food\", \"food\", \"footpath\", \"footwear\", \"force\", \"force\", \"force\", \"force\", \"force\", \"forest\", \"forge\", \"forgetful\", \"forgetfulness\", \"foundation_stone\", \"fraud\", \"friday\", \"friday\", \"friday\", \"friend\", \"friend\", \"friend\", \"fruit\", \"fuel\", \"gabion_boxe\", \"game\", \"gang\", \"garbage\", \"garden\", \"garudachar\", \"gate\", \"generate\", \"george\", \"girl\", \"girl\", \"girth\", \"give\", \"give\", \"give\", \"give\", \"give\", \"give\", \"give\", \"globe\", \"gokul\", \"good\", \"good\", \"good\", \"good\", \"good\", \"goodu\", \"government\", \"government\", \"governor\", \"graze\", \"greedy\", \"green\", \"green_cover\", \"grievance\", \"groundwater\", \"groundwater\", \"group\", \"group\", \"group\", \"grow\", \"grow\", \"gubbi_labs\", \"gudi\", \"guideline\", \"gurukul\", \"haemophilia\", \"halim\", \"handloom\", \"hang\", \"hanumantegowda\", \"happen\", \"happen\", \"happen\", \"happy\", \"harass\", \"harish\", \"hassan\", \"hattrick\", \"health\", \"health\", \"hearing_petition\", \"heart\", \"heart\", \"heavy\", \"heavy_rain\", \"heel\", \"hegdenagar\", \"helena\", \"hidayath\", \"high\", \"high\", \"high\", \"high\", \"high\", \"high\", \"high\", \"hiriyur\", \"hoarding\", \"hold\", \"hold\", \"hold\", \"hold\", \"hold\", \"home\", \"home\", \"home\", \"homeless\", \"hope\", \"hope\", \"hope\", \"hope\", \"horticulture_department\", \"hospital\", \"hospital\", \"host\", \"hostel\", \"hotcake\", \"house\", \"house\", \"house\", \"house\", \"house\", \"human\", \"husband\", \"husori\", \"hypertension\", \"icrisat\", \"identify\", \"identify\", \"identify\", \"identify\", \"identify\", \"identify\", \"identify\", \"idol\", \"iftequar\", \"iisc\", \"iisc\", \"iisc\", \"immaturity\", \"immigrate\", \"immigration\", \"impression\", \"inadequate\", \"inaugurate\", \"inaugurate\", \"inauguration\", \"incident\", \"incident\", \"incident\", \"incident_happene\", \"include\", \"include\", \"include\", \"include\", \"include\", \"include\", \"include\", \"include\", \"independent\", \"india\", \"india\", \"india\", \"india\", \"indian\", \"indian\", \"indian\", \"indian\", \"indian_institute\", \"indica\", \"indifference\", \"industry\", \"industry\", \"infection\", \"information\", \"information\", \"information\", \"initiative\", \"initiative\", \"innova\", \"inspire\", \"instal\", \"instal\", \"institute\", \"institute\", \"institution\", \"insurance\", \"intend\", \"international\", \"international\", \"international\", \"international_airport\", \"internet\", \"interstitial\", \"inundated\", \"invest\", \"investigate\", \"investigate\", \"investment\", \"investment\", \"investor\", \"iran\", \"irrigation\", \"irsdc\", \"island\", \"issue\", \"issue\", \"issue\", \"issue\", \"issue\", \"issued_notice\", \"item\", \"izadyar\", \"jadidi\", \"jamun\", \"janasri\", \"jayanagar\", \"journalist\", \"junction\", \"june\", \"june\", \"june\", \"justice\", \"kadalekai\", \"kadalekayi\", \"kadlekai\", \"kadugodi\", \"karnataka\", \"karnataka\", \"karnataka\", \"karnataka\", \"kashyap\", \"kasturba\", \"keivan\", \"kempegowda_international\", \"kerala\", \"khan\", \"kia\", \"kidney\", \"kidney_disease\", \"kill\", \"kiss\", \"kitchen\", \"km\", \"km\", \"km\", \"knee\", \"knife\", \"knifepoint\", \"knock\", \"knock\", \"korean\", \"koti\", \"krdcl\", \"krishna\", \"kspcb\", \"ksr\", \"ksrtc\", \"kumar\", \"kumar\", \"kumar\", \"kumar\", \"kuwait\", \"kuwaiti\", \"lady\", \"lake\", \"lakh\", \"lakh\", \"lakh\", \"lakshman\", \"lakshmana\", \"lalbagh\", \"land\", \"land\", \"land\", \"latest\", \"laughter\", \"lavafi\", \"lay\", \"lay\", \"layout\", \"layout\", \"layout\", \"layout\", \"layout\", \"lcs\", \"lead\", \"lead\", \"lead\", \"lead\", \"lead\", \"lead\", \"lease\", \"leave\", \"leave\", \"leave\", \"leave\", \"letter\", \"letter\", \"library\", \"library\", \"lida\", \"lieutenant\", \"lifestyle\", \"lift\", \"lightning\", \"limited_bial\", \"listen\", \"litigation\", \"litre\", \"litter\", \"live\", \"live\", \"live\", \"local\", \"local\", \"local\", \"local\", \"lodge\", \"long\", \"long\", \"long\", \"long\", \"long\", \"lost_control\", \"lounge\", \"love_affair\", \"lucky\", \"lure\", \"mahanagara_palike\", \"mahanagara_palike\", \"mahanagara_palike\", \"mahangara\", \"mahoor\", \"main\", \"main\", \"main\", \"majestic\", \"make\", \"make\", \"make\", \"make\", \"make\", \"make\", \"make\", \"make\", \"making\", \"malaysia\", \"mallikarjun\", \"mallikarjun\", \"man\", \"man\", \"man\", \"man\", \"management\", \"management\", \"mango\", \"manoj\", \"maqsood\", \"march\", \"march\", \"march\", \"march\", \"market\", \"market\", \"marry\", \"marry\", \"marshal\", \"marshal\", \"maseeh\", \"masterpiece\", \"mat\", \"material\", \"material\", \"matter\", \"matter\", \"matter\", \"mayor_gangambike\", \"meal\", \"medical\", \"medicine\", \"medinipur\", \"meet\", \"meet\", \"meet\", \"meet\", \"meghalaya\", \"mekhela\", \"member\", \"member\", \"member\", \"member\", \"member\", \"member\", \"menon\", \"mess\", \"metre_cube\", \"metro\", \"metro_rail\", \"microchips_sandalwood\", \"middle\", \"miftahi\", \"migrant\", \"mishap\", \"misplaced\", \"mistake\", \"mm\", \"mobile_phone\", \"mofussil\", \"moma\", \"money\", \"monitor\", \"monsoon\", \"month\", \"month\", \"month\", \"month\", \"month\", \"month\", \"month\", \"morgenall\", \"mother\", \"mother\", \"mother\", \"motorist\", \"movie\", \"mukherjee\", \"mumbai\", \"murder\", \"murder\", \"murderanother\", \"museum\", \"music\", \"muslim\", \"nagaraju\", \"name_changed\", \"nasir\", \"national\", \"national\", \"national\", \"national\", \"natural_disaster\", \"nayak\", \"negligence\", \"negligence\", \"neha\", \"neighbour\", \"neighbour\", \"nelamangala\", \"neptune\", \"nest\", \"network\", \"network\", \"ngt\", \"night\", \"night\", \"night\", \"night\", \"night\", \"nightmare\", \"nimhan\", \"nisarga_narayanaswamy\", \"nod\", \"noise\", \"norm\", \"noted\", \"number\", \"number\", \"number\", \"number\", \"number\", \"number\", \"numerous\", \"obesity\", \"objection\", \"occupancy\", \"office\", \"office\", \"officer\", \"officer\", \"officer\", \"officer\", \"officer\", \"officer\", \"official\", \"official\", \"official\", \"official\", \"official\", \"official\", \"oil\", \"oman\", \"ombudsman\", \"open\", \"open\", \"open\", \"open\", \"open\", \"open_defecation\", \"open_space\", \"openamong\", \"operational\", \"opposition\", \"order\", \"order\", \"organisation\", \"organisation\", \"organisation\", \"organise\", \"organiser\", \"outer_ring\", \"outstanding\", \"overhead\", \"oversight\", \"owner\", \"owner\", \"owner\", \"owner\", \"package\", \"pain\", \"paint\", \"paint\", \"parameshwara\", \"parent\", \"parent\", \"parinaz\", \"park\", \"park\", \"part\", \"part\", \"part\", \"part\", \"part\", \"part\", \"part\", \"participant\", \"participate\", \"participate\", \"partnership_ppp\", \"pass\", \"pass\", \"pass\", \"pass\", \"pass\", \"passenger\", \"passenger\", \"passport\", \"patience\", \"patient\", \"pave\", \"pay\", \"pay\", \"pay\", \"payment\", \"payment\", \"payment\", \"payment\", \"pedestrian\", \"peep\", \"penalise\", \"people\", \"people\", \"people\", \"people\", \"people\", \"people\", \"people\", \"people\", \"people\", \"pet\", \"petition\", \"petitioner\", \"pharma\", \"pharmacy\", \"phase\", \"phone\", \"phone\", \"phone\", \"phone\", \"picket\", \"place\", \"place\", \"place\", \"place\", \"place\", \"plan\", \"plan\", \"plan\", \"plan\", \"planet\", \"planetarium\", \"planning\", \"planning\", \"plant\", \"plant\", \"plaster\", \"pm\", \"pm\", \"pm\", \"police\", \"police\", \"police\", \"policeman\", \"policeman\", \"pollution_control\", \"popular\", \"post_mortem\", \"pothole\", \"powder\", \"power\", \"power\", \"power\", \"power\", \"ppp\", \"prabhakaran\", \"prabhu\", \"practical\", \"praise\", \"pram\", \"prasad\", \"prasad\", \"prayanikara\", \"premise\", \"press\", \"problem\", \"problem\", \"problem\", \"problem\", \"programme\", \"programme\", \"project\", \"project\", \"project\", \"promise\", \"promise\", \"promote\", \"proof\", \"property\", \"property\", \"proposal\", \"proposal\", \"propose\", \"propose\", \"protest\", \"provide\", \"provide\", \"provide\", \"provide\", \"provide\", \"provide\", \"provide\", \"provision\", \"provoke_breach\", \"proximity\", \"pub\", \"pub\", \"public\", \"public\", \"public\", \"public\", \"publishing\", \"punched_face\", \"pvr\", \"pwd\", \"qadr\", \"quarterly\", \"quepem\", \"quickly\", \"quip\", \"radiological\", \"raghu\", \"raha\", \"rai\", \"raid\", \"rail\", \"railway\", \"rain\", \"rain\", \"raja\", \"rajamani\", \"rajanukunte\", \"rajesh\", \"rajini\", \"raju\", \"raju\", \"rally\", \"ramaswamy\", \"ramesh\", \"ramtin\", \"rank\", \"ransom\", \"rao\", \"rapt\", \"rare_disease\", \"rash_negligent\", \"real\", \"rebello\", \"recipe\", \"recover\", \"recover\", \"recover\", \"recover\", \"recover\", \"reduce\", \"reduce\", \"reduce\", \"reduce\", \"regard\", \"regard\", \"register\", \"register\", \"register\", \"regulation\", \"reiterate\", \"rejuvenate\", \"relative\", \"release\", \"release\", \"release\", \"relied\", \"religare\", \"remanded_judicial\", \"rented\", \"repair\", \"replicate\", \"report\", \"report\", \"report\", \"rescue\", \"rescue\", \"rescue\", \"research\", \"research\", \"research_scholar\", \"resident\", \"resident\", \"resident\", \"resident\", \"resident\", \"resolve\", \"resolve\", \"resolve\", \"respect\", \"result\", \"result\", \"result\", \"result\", \"return\", \"return\", \"revanna\", \"revenue\", \"revisedbda\", \"ribello\", \"road\", \"robbery\", \"rod\", \"rpf\", \"rub\", \"rubbish\", \"rudrappa\", \"rule\", \"rule\", \"rumour\", \"rupesh\", \"rush\", \"russell\", \"saber\", \"sadness\", \"safety\", \"safety\", \"safety\", \"sagar\", \"sanjeev_dyamannavar\", \"sapling\", \"sarjapur\", \"sathish\", \"scam\", \"school\", \"schoolteacher\", \"science\", \"scientist\", \"scour\", \"screening\", \"secretary\", \"secretary\", \"security\", \"seek\", \"seek\", \"seek\", \"seek\", \"segregate\", \"segregate_waste\", \"segregation\", \"seize\", \"seize\", \"seize\", \"seminary\", \"senior\", \"senior\", \"senior\", \"senior\", \"senior\", \"senior\", \"senior\", \"service\", \"service\", \"service\", \"service\", \"serviceman\", \"set\", \"set\", \"set\", \"set\", \"settlement\", \"severe\", \"severe\", \"sewage\", \"shabbir\", \"shaik\", \"shantha\", \"sharmila\", \"shelf\", \"shelter\", \"shetan\", \"shift\", \"shift\", \"shoaibullah\", \"shohaib\", \"shot_leg\", \"show\", \"show\", \"show\", \"showcase\", \"showroom\", \"silver_trumpet\", \"simplicity\", \"singh\", \"sister\", \"site\", \"site\", \"site\", \"skill\", \"skill\", \"skywalk\", \"slam\", \"sleep\", \"slender_loris\", \"slowdown\", \"small\", \"small\", \"small\", \"smooth\", \"smuggle\", \"snail_pace\", \"social\", \"social\", \"social\", \"society\", \"society\", \"soil\", \"soladevanalli\", \"solar\", \"solid_waste\", \"son\", \"son\", \"song\", \"source\", \"source\", \"source\", \"source\", \"source\", \"source\", \"source\", \"sparrow\", \"speak\", \"speak\", \"speak\", \"special\", \"special\", \"special\", \"specie\", \"speech\", \"spoil\", \"spot\", \"spot\", \"spot\", \"spot\", \"spv\", \"srikanth\", \"srinivasa\", \"stab\", \"stall\", \"start\", \"start\", \"start\", \"start\", \"start\", \"start\", \"start\", \"state\", \"state\", \"state\", \"state\", \"state\", \"station\", \"station\", \"status\", \"steal\", \"stench\", \"stereotype\", \"street\", \"street\", \"street\", \"stretch\", \"stretch\", \"structure\", \"structure\", \"structure\", \"stuck\", \"student\", \"study\", \"study\", \"study\", \"submerge\", \"submit\", \"submit\", \"subsequent\", \"suburban_rail\", \"suffer\", \"suicide\", \"supply\", \"supply_sewerage\", \"suppository\", \"surgery\", \"survey\", \"survey\", \"suspect\", \"suspect\", \"suspect\", \"suspicious\", \"swachh_survekshan\", \"swd\", \"swds\", \"swm\", \"swr\", \"syndicate\", \"tag\", \"tag\", \"taker\", \"tank\", \"tank\", \"tanker\", \"teacher\", \"team\", \"team\", \"team\", \"technology\", \"technology\", \"technology\", \"television\", \"temperature_degree\", \"tender\", \"tender\", \"tender\", \"terminus\", \"test\", \"test\", \"theatre\", \"theft\", \"threat\", \"threat\", \"thrilled\", \"thunderstorm\", \"ticket\", \"ticket\", \"time\", \"time\", \"time\", \"time\", \"time\", \"tiruchirappalli\", \"toilet\", \"tonne\", \"topper\", \"torture\", \"toss\", \"tough\", \"traditional\", \"traffic\", \"traffic_jam\", \"train\", \"train\", \"transaction\", \"transfer\", \"transfer\", \"transmission\", \"transport\", \"transport_corporation\", \"travel\", \"travel\", \"travel\", \"treat\", \"treat\", \"treatment\", \"treatment\", \"tree\", \"tree_census\", \"trek\", \"trip\", \"trip\", \"tummala\", \"turn\", \"turn\", \"turn\", \"turn\", \"turned_nightmare\", \"twitt\", \"uber\", \"uber\", \"uber\", \"ukulele\", \"ulema\", \"uloom\", \"unconscious\", \"underpass\", \"unequal\", \"unexpected\", \"unfeasible\", \"university\", \"unlicensed\", \"unravel\", \"uranium\", \"urge\", \"urge\", \"urge\", \"urs\", \"utility\", \"valesao\", \"valley\", \"variety\", \"varshini\", \"vehicle\", \"vehicle\", \"vehicle\", \"vehicle\", \"vehicle\", \"vend\", \"venkatagowda\", \"venkatappa\", \"vgf\", \"victim\", \"victim\", \"victim\", \"viewer\", \"vijayawada\", \"vikas\", \"village\", \"village\", \"visa\", \"vivanta\", \"vogue_institute\", \"voice\", \"volunteer\", \"vote\", \"voter\", \"waft\", \"waived\", \"walker\", \"ward\", \"ward\", \"ward\", \"waseem\", \"waste\", \"watch\", \"watch\", \"water\", \"waterbody\", \"week\", \"week\", \"week\", \"week\", \"weight\", \"wfr\", \"wheelie\", \"white_toppe\", \"white_topping\", \"white_topping\", \"wife\", \"wife\", \"wife\", \"wilderness\", \"wilson_garden\", \"wing\", \"wing\", \"woman\", \"woman\", \"woman\", \"woman\", \"woman\", \"work\", \"work\", \"work\", \"work\", \"work\", \"worker\", \"worker\", \"worker\", \"workforce\", \"workshop\", \"workshop\", \"world\", \"world\", \"world\", \"world\", \"yarn\", \"yashwantpur\", \"year\", \"year\", \"year\", \"year\", \"year\", \"year\", \"year\", \"year\", \"year\", \"yeshwantpur\", \"youngster\", \"zambaulim\", \"zone\", \"zone\", \"zone\", \"zone\", \"zubeen\"]}, \"R\": 30, \"lambda.step\": 0.01, \"plot.opts\": {\"xlab\": \"PC1\", \"ylab\": \"PC2\"}, \"topic.order\": [6, 3, 2, 10, 5, 11, 4, 12, 9, 1, 13, 7, 8]};\n",
       "\n",
       "function LDAvis_load_lib(url, callback){\n",
       "  var s = document.createElement('script');\n",
       "  s.src = url;\n",
       "  s.async = true;\n",
       "  s.onreadystatechange = s.onload = callback;\n",
       "  s.onerror = function(){console.warn(\"failed to load library \" + url);};\n",
       "  document.getElementsByTagName(\"head\")[0].appendChild(s);\n",
       "}\n",
       "\n",
       "if(typeof(LDAvis) !== \"undefined\"){\n",
       "   // already loaded: just create the visualization\n",
       "   !function(LDAvis){\n",
       "       new LDAvis(\"#\" + \"ldavis_el281221402481277288805774828116\", ldavis_el281221402481277288805774828116_data);\n",
       "   }(LDAvis);\n",
       "}else if(typeof define === \"function\" && define.amd){\n",
       "   // require.js is available: use it to load d3/LDAvis\n",
       "   require.config({paths: {d3: \"https://cdnjs.cloudflare.com/ajax/libs/d3/3.5.5/d3.min\"}});\n",
       "   require([\"d3\"], function(d3){\n",
       "      window.d3 = d3;\n",
       "      LDAvis_load_lib(\"https://cdn.rawgit.com/bmabey/pyLDAvis/files/ldavis.v1.0.0.js\", function(){\n",
       "        new LDAvis(\"#\" + \"ldavis_el281221402481277288805774828116\", ldavis_el281221402481277288805774828116_data);\n",
       "      });\n",
       "    });\n",
       "}else{\n",
       "    // require.js not available: dynamically load d3 & LDAvis\n",
       "    LDAvis_load_lib(\"https://cdnjs.cloudflare.com/ajax/libs/d3/3.5.5/d3.min.js\", function(){\n",
       "         LDAvis_load_lib(\"https://cdn.rawgit.com/bmabey/pyLDAvis/files/ldavis.v1.0.0.js\", function(){\n",
       "                 new LDAvis(\"#\" + \"ldavis_el281221402481277288805774828116\", ldavis_el281221402481277288805774828116_data);\n",
       "            })\n",
       "         });\n",
       "}\n",
       "</script>"
      ],
      "text/plain": [
       "PreparedData(topic_coordinates=              x         y  topics  cluster      Freq\n",
       "topic                                               \n",
       "5      0.313464 -0.070003       1        1  8.761744\n",
       "2     -0.151939 -0.217576       2        1  8.738458\n",
       "1      0.269026 -0.081858       3        1  8.207961\n",
       "9     -0.135031 -0.014846       4        1  8.196425\n",
       "4     -0.062509 -0.019117       5        1  8.120689\n",
       "10    -0.150585 -0.190559       6        1  8.069643\n",
       "3     -0.201260 -0.091722       7        1  7.511836\n",
       "11    -0.087982  0.233805       8        1  7.375932\n",
       "8      0.218402  0.017069       9        1  7.330888\n",
       "0     -0.086627  0.264461      10        1  7.266551\n",
       "12    -0.001234  0.126629      11        1  7.060067\n",
       "6      0.024359  0.065640      12        1  6.727185\n",
       "7      0.051916 -0.021923      13        1  6.632621, topic_info=      Category         Freq        Term        Total  loglift  logprob\n",
       "98     Default  3546.000000      police  3546.000000  30.0000  30.0000\n",
       "38     Default  2107.000000        road  2107.000000  29.0000  29.0000\n",
       "328    Default  1145.000000       water  1145.000000  28.0000  28.0000\n",
       "3      Default  1861.000000        bbmp  1861.000000  27.0000  27.0000\n",
       "247    Default   883.000000     student   883.000000  26.0000  26.0000\n",
       "116    Default  1562.000000        work  1562.000000  25.0000  25.0000\n",
       "682    Default   825.000000        lake   825.000000  24.0000  24.0000\n",
       "452    Default  1096.000000  government  1096.000000  23.0000  23.0000\n",
       "1293   Default   801.000000         bus   801.000000  22.0000  22.0000\n",
       "63     Default   871.000000   complaint   871.000000  21.0000  21.0000\n",
       "30     Default  1507.000000    official  1507.000000  20.0000  20.0000\n",
       "75     Default   762.000000    hospital   762.000000  19.0000  19.0000\n",
       "167    Default   778.000000     station   778.000000  18.0000  18.0000\n",
       "2643   Default   582.000000       court   582.000000  17.0000  17.0000\n",
       "171    Default   595.000000     traffic   595.000000  16.0000  16.0000\n",
       "320    Default   529.000000        tree   529.000000  15.0000  15.0000\n",
       "691    Default   903.000000     project   903.000000  14.0000  14.0000\n",
       "405    Default   883.000000       state   883.000000  13.0000  13.0000\n",
       "305    Default  1082.000000    resident  1082.000000  12.0000  12.0000\n",
       "125    Default  1579.000000        city  1579.000000  11.0000  11.0000\n",
       "1674   Default   627.000000      arrest   627.000000  10.0000  10.0000\n",
       "701    Default   458.000000      school   458.000000   9.0000   9.0000\n",
       "23     Default   591.000000        lakh   591.000000   8.0000   8.0000\n",
       "1996   Default   558.000000      accuse   558.000000   7.0000   7.0000\n",
       "2      Default   703.000000        area   703.000000   6.0000   6.0000\n",
       "6      Default  1642.000000   bengaluru  1642.000000   5.0000   5.0000\n",
       "249    Default   794.000000        time   794.000000   4.0000   4.0000\n",
       "1198   Default   407.000000       waste   407.000000   3.0000   3.0000\n",
       "48     Default  1840.000000        year  1840.000000   2.0000   2.0000\n",
       "62     Default   504.000000     company   504.000000   1.0000   1.0000\n",
       "...        ...          ...         ...          ...      ...      ...\n",
       "10494  Topic13    34.505039    malaysia    34.505039   2.7132  -6.2636\n",
       "9      Topic13    34.505039      church    34.505039   2.7132  -6.2636\n",
       "8057   Topic13    34.505039        doll    34.505039   2.7132  -6.2636\n",
       "975    Topic13    34.505039     conceal    34.505039   2.7132  -6.2636\n",
       "603    Topic13   247.286112     airport   280.696842   2.5864  -4.2941\n",
       "4128   Topic13    64.409406       delhi    69.050269   2.6436  -5.6394\n",
       "2417   Topic13    42.556215         tag    43.716430   2.6863  -6.0539\n",
       "643    Topic13   234.634264   passenger   320.619294   2.4009  -4.3467\n",
       "2916   Topic13    71.310414     library    81.971511   2.5738  -5.5377\n",
       "971    Topic13   163.323850       check   227.376263   2.3823  -4.7090\n",
       "162    Topic13   110.416124       seize   155.395940   2.3715  -5.1004\n",
       "30     Topic13   581.984988    official  1507.715295   1.7613  -3.4382\n",
       "638    Topic13   203.579729     officer   443.302882   1.9350  -4.4886\n",
       "652    Topic13   147.221499     service   324.008017   1.9243  -4.8128\n",
       "2394   Topic13   101.214781      travel   170.152359   2.1937  -5.1874\n",
       "1210   Topic13    92.013437       alert   148.620752   2.2337  -5.2828\n",
       "244    Topic13   169.074690      senior   470.320783   1.6901  -4.6744\n",
       "713    Topic13    88.562933         air   146.362924   2.2108  -5.3210\n",
       "6      Topic13   267.989135   bengaluru  1642.251556   0.9003  -4.2137\n",
       "176    Topic13   175.975698      accord   672.516771   1.3725  -4.6343\n",
       "646    Topic13   126.518476     provide   349.267013   1.6977  -4.9643\n",
       "1041   Topic13   116.166964       march   289.627187   1.7996  -5.0497\n",
       "57     Topic13   108.115788        back   276.768796   1.7732  -5.1215\n",
       "1418   Topic13    94.313773      safety   197.951307   1.9718  -5.2581\n",
       "864    Topic13   131.119148        find   600.022866   1.1923  -4.9286\n",
       "541    Topic13    92.013437      indian   196.661746   1.9536  -5.2828\n",
       "368    Topic13   118.467300       india   484.592761   1.3045  -5.0301\n",
       "927    Topic13   102.364949        home   337.002393   1.5216  -5.1761\n",
       "1674   Topic13   103.515116      arrest   627.980985   0.9104  -5.1650\n",
       "116    Topic13   111.566292        work  1562.746657   0.0736  -5.0901\n",
       "\n",
       "[1188 rows x 6 columns], token_table=       Topic      Freq            Term\n",
       "term                                  \n",
       "3421       8  0.900287            abaa\n",
       "6186      11  1.034290           abish\n",
       "2044       1  0.908819           abuse\n",
       "2044      12  0.093212           abuse\n",
       "175       10  1.005131        academic\n",
       "1995       2  0.019627          accept\n",
       "1995      11  0.981365          accept\n",
       "3267       4  0.224214          access\n",
       "3267       6  0.019497          access\n",
       "3267      10  0.653146          access\n",
       "3267      13  0.097485          access\n",
       "962        2  0.077709        accident\n",
       "962        3  0.922148        accident\n",
       "176        1  0.065426          accord\n",
       "176        3  0.098139          accord\n",
       "176        5  0.115982          accord\n",
       "176        6  0.059478          accord\n",
       "176        7  0.170999          accord\n",
       "176       12  0.227504          accord\n",
       "176       13  0.261704          accord\n",
       "848        9  0.996617         account\n",
       "0          9  1.060401  accounted_high\n",
       "1996       1  0.875593          accuse\n",
       "1996       9  0.123550          accuse\n",
       "10170      1  0.991485         acharya\n",
       "4891       5  0.996614         acquire\n",
       "253        5  0.638642             act\n",
       "253        9  0.007933             act\n",
       "253       11  0.162635             act\n",
       "253       13  0.190402             act\n",
       "...      ...       ...             ...\n",
       "116       13  0.071669            work\n",
       "1928       3  0.005381          worker\n",
       "1928       6  0.349738          worker\n",
       "1928      11  0.645671          worker\n",
       "4847      12  1.071725       workforce\n",
       "1206       4  0.018769        workshop\n",
       "1206       8  0.975969        workshop\n",
       "417        8  0.648396           world\n",
       "417       10  0.244678           world\n",
       "417       11  0.030585           world\n",
       "417       12  0.079520           world\n",
       "11984     13  0.987998            yarn\n",
       "11664      4  0.930395     yashwantpur\n",
       "48         2  0.041829            year\n",
       "48         3  0.241737            year\n",
       "48         4  0.118424            year\n",
       "48         7  0.073879            year\n",
       "48         8  0.079312            year\n",
       "48         9  0.096695            year\n",
       "48        10  0.182525            year\n",
       "48        11  0.026618            year\n",
       "48        12  0.138524            year\n",
       "3801       4  0.998806     yeshwantpur\n",
       "1428       8  1.004166       youngster\n",
       "9733      13  0.869438       zambaulim\n",
       "332        2  0.029077            zone\n",
       "332        5  0.587361            zone\n",
       "332        6  0.372189            zone\n",
       "332       10  0.005815            zone\n",
       "3420       8  0.900287          zubeen\n",
       "\n",
       "[1747 rows x 3 columns], R=30, lambda_step=0.01, plot_opts={'xlab': 'PC1', 'ylab': 'PC2'}, topic_order=[6, 3, 2, 10, 5, 11, 4, 12, 9, 1, 13, 7, 8])"
      ]
     },
     "execution_count": 32,
     "metadata": {},
     "output_type": "execute_result"
    }
   ],
   "source": [
    "pyLDAvis.enable_notebook()\n",
    "vis = pyLDAvis.gensim.prepare(lda_model, corpus, id2word)\n",
    "vis"
   ]
  },
  {
   "cell_type": "code",
   "execution_count": 33,
   "metadata": {},
   "outputs": [
    {
     "data": {
      "image/png": "[encoded data removed]",
      "text/plain": [
       "<Figure size 432x288 with 1 Axes>"
      ]
     },
     "metadata": {
      "needs_background": "light"
     },
     "output_type": "display_data"
    }
   ],
   "source": [
    "def compute_coherence_values(dictionary, corpus, texts, limit, start=2, step=3):\n",
    "    coherence_values = []\n",
    "    model_list = []\n",
    "    for num_topics in range(start, limit, step):\n",
    "        model = gensim.models.wrappers.LdaMallet(mallet_path, corpus=corpus, num_topics=num_topics, id2word=id2word)\n",
    "        model_list.append(model)\n",
    "        coherencemodel = CoherenceModel(model=model, texts=texts, dictionary=dictionary, coherence='c_v')\n",
    "        coherence_values.append(coherencemodel.get_coherence())\n",
    "\n",
    "    return model_list, coherence_values\n",
    "#first ask then run\n",
    "model_list, coherence_values = compute_coherence_values(dictionary=id2word, corpus=corpus, texts=data_lemmatized, start=2, limit=40, step=6)\n",
    "# \n",
    "limit=40; start=2; step=6;\n",
    "x = range(start, limit, step)\n",
    "plt.plot(x, coherence_values)\n",
    "plt.xlabel(\"Num Topics\")\n",
    "plt.ylabel(\"Coherence score\")\n",
    "plt.legend((\"coherence_values\"), loc='best')\n",
    "plt.show()"
   ]
  },
  {
   "cell_type": "code",
   "execution_count": 34,
   "metadata": {},
   "outputs": [
    {
     "data": {
      "text/plain": [
       "[(0,\n",
       "  '0.045*\"student\" + 0.023*\"school\" + 0.017*\"year\" + 0.016*\"college\" + 0.013*\"university\" + 0.009*\"study\" + 0.008*\"india\" + 0.007*\"management\" + 0.007*\"education\" + 0.007*\"institute\" + 0.007*\"campus\" + 0.007*\"research\" + 0.006*\"add\" + 0.006*\"programme\" + 0.006*\"science\"'),\n",
       " (1,\n",
       "  '0.048*\"police\" + 0.020*\"year\" + 0.015*\"house\" + 0.014*\"driver\" + 0.011*\"find\" + 0.011*\"rush\" + 0.010*\"hospital\" + 0.010*\"son\" + 0.009*\"pm\" + 0.009*\"fall\" + 0.009*\"wife\" + 0.009*\"car\" + 0.008*\"kill\" + 0.008*\"child\" + 0.008*\"home\"'),\n",
       " (2,\n",
       "  '0.088*\"road\" + 0.046*\"work\" + 0.040*\"bbmp\" + 0.025*\"traffic\" + 0.013*\"area\" + 0.012*\"resident\" + 0.011*\"project\" + 0.010*\"vehicle\" + 0.010*\"engineer\" + 0.009*\"city\" + 0.009*\"complete\" + 0.008*\"stretch\" + 0.008*\"footpath\" + 0.008*\"flyover\" + 0.007*\"month\"'),\n",
       " (3,\n",
       "  '0.027*\"city\" + 0.026*\"tree\" + 0.024*\"bbmp\" + 0.019*\"bengaluru\" + 0.017*\"park\" + 0.013*\"plant\" + 0.010*\"department\" + 0.010*\"set\" + 0.009*\"citizen\" + 0.009*\"official\" + 0.008*\"project\" + 0.008*\"add\" + 0.008*\"plan\" + 0.007*\"centre\" + 0.007*\"ward\"'),\n",
       " (4,\n",
       "  '0.033*\"government\" + 0.027*\"state\" + 0.026*\"court\" + 0.015*\"order\" + 0.015*\"bda\" + 0.015*\"karnataka\" + 0.013*\"issue\" + 0.012*\"land\" + 0.012*\"official\" + 0.011*\"report\" + 0.011*\"department\" + 0.009*\"seek\" + 0.009*\"public\" + 0.008*\"commissioner\" + 0.008*\"authority\"'),\n",
       " (5,\n",
       "  '0.081*\"police\" + 0.022*\"arrest\" + 0.020*\"accuse\" + 0.017*\"man\" + 0.014*\"case\" + 0.013*\"woman\" + 0.013*\"complaint\" + 0.012*\"assault\" + 0.011*\"victim\" + 0.010*\"station\" + 0.008*\"file\" + 0.008*\"gang\" + 0.008*\"lakshmana\" + 0.008*\"murder\" + 0.007*\"incident\"'),\n",
       " (6,\n",
       "  '0.029*\"hospital\" + 0.014*\"year\" + 0.012*\"case\" + 0.012*\"patient\" + 0.011*\"doctor\" + 0.010*\"medical\" + 0.010*\"suffer\" + 0.010*\"people\" + 0.009*\"treatment\" + 0.009*\"health\" + 0.008*\"due\" + 0.008*\"accord\" + 0.008*\"lead\" + 0.008*\"day\" + 0.008*\"treat\"'),\n",
       " (7,\n",
       "  '0.032*\"official\" + 0.015*\"bengaluru\" + 0.014*\"airport\" + 0.013*\"passenger\" + 0.012*\"fire\" + 0.011*\"officer\" + 0.010*\"security\" + 0.010*\"accord\" + 0.009*\"senior\" + 0.009*\"check\" + 0.008*\"service\" + 0.008*\"market\" + 0.007*\"find\" + 0.007*\"provide\" + 0.007*\"india\"'),\n",
       " (8,\n",
       "  '0.028*\"complaint\" + 0.025*\"police\" + 0.024*\"lakh\" + 0.018*\"pay\" + 0.018*\"company\" + 0.017*\"money\" + 0.017*\"file\" + 0.011*\"office\" + 0.010*\"document\" + 0.010*\"return\" + 0.010*\"claim\" + 0.009*\"year\" + 0.009*\"senior\" + 0.008*\"ramesh\" + 0.008*\"khan\"'),\n",
       " (9,\n",
       "  '0.036*\"bus\" + 0.025*\"station\" + 0.022*\"project\" + 0.017*\"government\" + 0.015*\"railway\" + 0.012*\"metro\" + 0.011*\"train\" + 0.011*\"vehicle\" + 0.011*\"official\" + 0.010*\"transport\" + 0.010*\"work\" + 0.010*\"year\" + 0.009*\"cost\" + 0.009*\"bmtc\" + 0.009*\"phase\"')]"
      ]
     },
     "execution_count": 34,
     "metadata": {},
     "output_type": "execute_result"
    }
   ],
   "source": [
    "lda_model.print_topics(20,num_words=15)[:10]"
   ]
  },
  {
   "cell_type": "code",
   "execution_count": 35,
   "metadata": {},
   "outputs": [
    {
     "data": {
      "text/plain": [
       "[(0, 0.04187475835680473),\n",
       " (1, 0.040491899228936826),\n",
       " (2, 0.13538267381372793),\n",
       " (3, 0.056771615011881285),\n",
       " (4, 0.05244477835839096),\n",
       " (5, 0.03939717383656594),\n",
       " (6, 0.03964469373337276),\n",
       " (7, 0.0830080634401657),\n",
       " (8, 0.3272931141605345),\n",
       " (9, 0.045199976255695884),\n",
       " (10, 0.04460344346829902),\n",
       " (11, 0.048692127710047564),\n",
       " (12, 0.04519568262557682)]"
      ]
     },
     "execution_count": 35,
     "metadata": {},
     "output_type": "execute_result"
    }
   ],
   "source": [
    "x = lda_model.get_document_topics(corpus[0])\n",
    "x"
   ]
  },
  {
   "cell_type": "code",
   "execution_count": 36,
   "metadata": {},
   "outputs": [],
   "source": [
    "def tags(corp):\n",
    "    x = lda_model.get_document_topics(corp)\n",
    "    ans = []\n",
    "    for i in x:\n",
    "        if i[1] >=0.05:\n",
    "            ans.append(i[0])\n",
    "    return ans"
   ]
  },
  {
   "cell_type": "code",
   "execution_count": 37,
   "metadata": {},
   "outputs": [],
   "source": [
    "df['cluster'] = [tags(corp) for corp in corpus]"
   ]
  },
  {
   "cell_type": "code",
   "execution_count": 38,
   "metadata": {},
   "outputs": [
    {
     "data": {
      "text/html": [
       "<div>\n",
       "<style scoped>\n",
       "    .dataframe tbody tr th:only-of-type {\n",
       "        vertical-align: middle;\n",
       "    }\n",
       "\n",
       "    .dataframe tbody tr th {\n",
       "        vertical-align: top;\n",
       "    }\n",
       "\n",
       "    .dataframe thead th {\n",
       "        text-align: right;\n",
       "    }\n",
       "</style>\n",
       "<table border=\"1\" class=\"dataframe\">\n",
       "  <thead>\n",
       "    <tr style=\"text-align: right;\">\n",
       "      <th></th>\n",
       "      <th>title</th>\n",
       "      <th>text</th>\n",
       "      <th>tag</th>\n",
       "      <th>date</th>\n",
       "      <th>cluster</th>\n",
       "    </tr>\n",
       "  </thead>\n",
       "  <tbody>\n",
       "    <tr>\n",
       "      <th>0</th>\n",
       "      <td>IMA founder has at least 14 properties worth 5...</td>\n",
       "      <td>mohammed mansoor khan the elusive managing dir...</td>\n",
       "      <td>IMA fraud,</td>\n",
       "      <td>Jun 14 2019</td>\n",
       "      <td>[2, 3, 4, 7, 8]</td>\n",
       "    </tr>\n",
       "    <tr>\n",
       "      <th>1</th>\n",
       "      <td>Man who invested Rs 9L in IMA dies of heart at...</td>\n",
       "      <td>a year old man who had invested in the ima gro...</td>\n",
       "      <td>IMA fraud,Chit fund,</td>\n",
       "      <td>Jun 14 2019</td>\n",
       "      <td>[1, 2, 6, 8]</td>\n",
       "    </tr>\n",
       "    <tr>\n",
       "      <th>2</th>\n",
       "      <td>BBMP, cops to meet over seized vehicles</td>\n",
       "      <td>mayor gangambike mallikarjun on thursday inspe...</td>\n",
       "      <td>seized vehicles,BBMP,</td>\n",
       "      <td>Jun 14 2019</td>\n",
       "      <td>[2, 3, 4, 7, 9, 10]</td>\n",
       "    </tr>\n",
       "    <tr>\n",
       "      <th>3</th>\n",
       "      <td>More women opt for MBA course at IIMB</td>\n",
       "      <td>the indian institute of management bangalore i...</td>\n",
       "      <td>Bengaluru,Indian Institute of Management,IIMB,</td>\n",
       "      <td>Jun 13 2019</td>\n",
       "      <td>[0, 4, 6, 9]</td>\n",
       "    </tr>\n",
       "    <tr>\n",
       "      <th>4</th>\n",
       "      <td>Citizens suffer as fallen trees, branches lie ...</td>\n",
       "      <td>trees and branches that were brought down by r...</td>\n",
       "      <td>monsoon,BBMP,Rain damage,Benglauru,</td>\n",
       "      <td>Jun 13 2019</td>\n",
       "      <td>[1, 2, 3, 10, 12]</td>\n",
       "    </tr>\n",
       "  </tbody>\n",
       "</table>\n",
       "</div>"
      ],
      "text/plain": [
       "                                               title  \\\n",
       "0  IMA founder has at least 14 properties worth 5...   \n",
       "1  Man who invested Rs 9L in IMA dies of heart at...   \n",
       "2            BBMP, cops to meet over seized vehicles   \n",
       "3              More women opt for MBA course at IIMB   \n",
       "4  Citizens suffer as fallen trees, branches lie ...   \n",
       "\n",
       "                                                text  \\\n",
       "0  mohammed mansoor khan the elusive managing dir...   \n",
       "1  a year old man who had invested in the ima gro...   \n",
       "2  mayor gangambike mallikarjun on thursday inspe...   \n",
       "3  the indian institute of management bangalore i...   \n",
       "4  trees and branches that were brought down by r...   \n",
       "\n",
       "                                              tag          date  \\\n",
       "0                                      IMA fraud,   Jun 14 2019   \n",
       "1                            IMA fraud,Chit fund,   Jun 14 2019   \n",
       "2                           seized vehicles,BBMP,   Jun 14 2019   \n",
       "3  Bengaluru,Indian Institute of Management,IIMB,   Jun 13 2019   \n",
       "4             monsoon,BBMP,Rain damage,Benglauru,   Jun 13 2019   \n",
       "\n",
       "               cluster  \n",
       "0      [2, 3, 4, 7, 8]  \n",
       "1         [1, 2, 6, 8]  \n",
       "2  [2, 3, 4, 7, 9, 10]  \n",
       "3         [0, 4, 6, 9]  \n",
       "4    [1, 2, 3, 10, 12]  "
      ]
     },
     "execution_count": 38,
     "metadata": {},
     "output_type": "execute_result"
    }
   ],
   "source": [
    "df.head()"
   ]
  },
  {
   "cell_type": "code",
   "execution_count": 40,
   "metadata": {},
   "outputs": [],
   "source": [
    "cluster_count =[]"
   ]
  },
  {
   "cell_type": "code",
   "execution_count": 41,
   "metadata": {},
   "outputs": [
    {
     "data": {
      "text/plain": [
       "array([[0., 0., 0., 0., 0., 0., 0., 0., 0., 0., 0., 0., 0.],\n",
       "       [0., 0., 0., 0., 0., 0., 0., 0., 0., 0., 0., 0., 0.],\n",
       "       [0., 0., 0., 0., 0., 0., 0., 0., 0., 0., 0., 0., 0.],\n",
       "       [0., 0., 0., 0., 0., 0., 0., 0., 0., 0., 0., 0., 0.],\n",
       "       [0., 0., 0., 0., 0., 0., 0., 0., 0., 0., 0., 0., 0.],\n",
       "       [0., 0., 0., 0., 0., 0., 0., 0., 0., 0., 0., 0., 0.],\n",
       "       [0., 0., 0., 0., 0., 0., 0., 0., 0., 0., 0., 0., 0.],\n",
       "       [0., 0., 0., 0., 0., 0., 0., 0., 0., 0., 0., 0., 0.],\n",
       "       [0., 0., 0., 0., 0., 0., 0., 0., 0., 0., 0., 0., 0.],\n",
       "       [0., 0., 0., 0., 0., 0., 0., 0., 0., 0., 0., 0., 0.],\n",
       "       [0., 0., 0., 0., 0., 0., 0., 0., 0., 0., 0., 0., 0.]])"
      ]
     },
     "execution_count": 41,
     "metadata": {},
     "output_type": "execute_result"
    }
   ],
   "source": [
    "month_count =np.zeros((11,13))\n",
    "month_count"
   ]
  },
  {
   "cell_type": "code",
   "execution_count": 42,
   "metadata": {},
   "outputs": [],
   "source": [
    "for i in df.index:\n",
    "    if df['date'][i][-4:] == '2018':   \n",
    "        if df['date'][i][:4].strip()=='Aug':\n",
    "            for j in df['cluster'][i]:\n",
    "                month_count[0][j]+=1\n",
    "                \n",
    "        elif df['date'][i][:4].strip()=='Sep':\n",
    "            for j in df['cluster'][i]:\n",
    "                month_count[1][j]+=1\n",
    "                \n",
    "        elif df['date'][i][:4].strip()=='Oct':\n",
    "            for j in df['cluster'][i]:\n",
    "                month_count[2][j]+=1\n",
    "                \n",
    "        elif df['date'][i][:4].strip()=='Nov':\n",
    "            for j in df['cluster'][i]:\n",
    "                month_count[3][j]+=1\n",
    "                \n",
    "        elif df['date'][i][:4].strip()=='Dec':\n",
    "            for j in df['cluster'][i]:\n",
    "                month_count[4][j]+=1\n",
    "        \n",
    "    else:\n",
    "        if df['date'][i][:4].strip()=='Jun':\n",
    "            for j in df['cluster'][i]:\n",
    "                month_count[10][j]+=1\n",
    "                \n",
    "        elif df['date'][i][:4].strip()=='May':\n",
    "            for j in df['cluster'][i]:\n",
    "                month_count[9][j]+=1\n",
    "                \n",
    "        elif df['date'][i][:4].strip()=='Apr':\n",
    "            for j in df['cluster'][i]:\n",
    "                month_count[8][j]+=1\n",
    "        \n",
    "        elif df['date'][i][:4].strip()=='Mar':\n",
    "            for j in df['cluster'][i]:\n",
    "                month_count[7][j]+=1\n",
    "        \n",
    "        elif df['date'][i][:4].strip()=='Feb':\n",
    "            for j in df['cluster'][i]:\n",
    "                month_count[6][j]+=1\n",
    "        \n",
    "        elif df['date'][i][:4].strip()=='Jan':\n",
    "            for j in df['cluster'][i]:\n",
    "                month_count[5][j]+=1\n"
   ]
  },
  {
   "cell_type": "code",
   "execution_count": 43,
   "metadata": {},
   "outputs": [
    {
     "data": {
      "text/plain": [
       "array([[ 22.,  14.,  42.,  32.,  38.,   4.,  14.,  26.,  10.,  40.,  40.,\n",
       "         26.,  22.],\n",
       "       [ 40.,  34.,  90.,  78.,  94.,  14.,  32.,  54.,  56.,  84.,  88.,\n",
       "         44.,  78.],\n",
       "       [ 74.,  48.,  82.,  74.,  90.,  32.,  68.,  46.,  52.,  74.,  70.,\n",
       "         94.,  82.],\n",
       "       [ 24.,  26.,  64.,  68.,  64.,  16.,  42.,  48.,  28.,  42.,  54.,\n",
       "         60.,  60.],\n",
       "       [ 72.,  58.,  84.,  64.,  86.,  34.,  58.,  56.,  56.,  82.,  58.,\n",
       "         64.,  90.],\n",
       "       [ 86.,  94.,  98.,  98., 120.,  92.,  68.,  90.,  86.,  90.,  70.,\n",
       "         80., 104.],\n",
       "       [ 66.,  60.,  52.,  44.,  50.,  58.,  48.,  50.,  54.,  60.,  32.,\n",
       "         58.,  70.],\n",
       "       [140., 210., 164., 146., 178., 228., 140., 166., 206., 152., 116.,\n",
       "        122., 208.],\n",
       "       [ 68., 136.,  68.,  52.,  78., 124.,  94., 104., 108.,  74.,  56.,\n",
       "         74., 114.],\n",
       "       [ 48., 120.,  76.,  48.,  74., 114.,  56.,  76., 106.,  60.,  46.,\n",
       "         54.,  88.],\n",
       "       [ 42.,  90.,  78.,  62.,  86.,  80.,  64.,  64., 120.,  56.,  54.,\n",
       "         42.,  98.]])"
      ]
     },
     "execution_count": 43,
     "metadata": {},
     "output_type": "execute_result"
    }
   ],
   "source": [
    "month_count"
   ]
  },
  {
   "cell_type": "code",
   "execution_count": 44,
   "metadata": {},
   "outputs": [],
   "source": [
    "cluster_tags = {'0':'crime_money','1':'crime_kidnaps_arrests_assaults','2':'infra_government_specific','3':'infra_maintainance','4':'crime_murder_suicides','5':'infra_nagarpalika','6':'lifestyle_studentlife','7':'infra_developments','8':'lifestyle_basiceminities','9':'infra_travel','10':'lifestyle_medical','11':'lifestyle_commonpeople','12':'infra_tourists'}"
   ]
  },
  {
   "cell_type": "code",
   "execution_count": 45,
   "metadata": {},
   "outputs": [],
   "source": [
    "col =[]\n",
    "for i in cluster_tags.keys():\n",
    "    col.append(cluster_tags[i])"
   ]
  },
  {
   "cell_type": "code",
   "execution_count": 46,
   "metadata": {},
   "outputs": [
    {
     "data": {
      "text/plain": [
       "['crime_money',\n",
       " 'crime_kidnaps_arrests_assaults',\n",
       " 'infra_government_specific',\n",
       " 'infra_maintainance',\n",
       " 'crime_murder_suicides',\n",
       " 'infra_nagarpalika',\n",
       " 'lifestyle_studentlife',\n",
       " 'infra_developments',\n",
       " 'lifestyle_basiceminities',\n",
       " 'infra_travel',\n",
       " 'lifestyle_medical',\n",
       " 'lifestyle_commonpeople',\n",
       " 'infra_tourists']"
      ]
     },
     "execution_count": 46,
     "metadata": {},
     "output_type": "execute_result"
    }
   ],
   "source": [
    "col"
   ]
  },
  {
   "cell_type": "code",
   "execution_count": 47,
   "metadata": {},
   "outputs": [],
   "source": [
    "db = pd.DataFrame(month_count, columns=col)"
   ]
  },
  {
   "cell_type": "code",
   "execution_count": 48,
   "metadata": {},
   "outputs": [
    {
     "data": {
      "text/html": [
       "<div>\n",
       "<style scoped>\n",
       "    .dataframe tbody tr th:only-of-type {\n",
       "        vertical-align: middle;\n",
       "    }\n",
       "\n",
       "    .dataframe tbody tr th {\n",
       "        vertical-align: top;\n",
       "    }\n",
       "\n",
       "    .dataframe thead th {\n",
       "        text-align: right;\n",
       "    }\n",
       "</style>\n",
       "<table border=\"1\" class=\"dataframe\">\n",
       "  <thead>\n",
       "    <tr style=\"text-align: right;\">\n",
       "      <th></th>\n",
       "      <th>crime_money</th>\n",
       "      <th>crime_kidnaps_arrests_assaults</th>\n",
       "      <th>infra_government_specific</th>\n",
       "      <th>infra_maintainance</th>\n",
       "      <th>crime_murder_suicides</th>\n",
       "      <th>infra_nagarpalika</th>\n",
       "      <th>lifestyle_studentlife</th>\n",
       "      <th>infra_developments</th>\n",
       "      <th>lifestyle_basiceminities</th>\n",
       "      <th>infra_travel</th>\n",
       "      <th>lifestyle_medical</th>\n",
       "      <th>lifestyle_commonpeople</th>\n",
       "      <th>infra_tourists</th>\n",
       "    </tr>\n",
       "  </thead>\n",
       "  <tbody>\n",
       "    <tr>\n",
       "      <th>0</th>\n",
       "      <td>22.0</td>\n",
       "      <td>14.0</td>\n",
       "      <td>42.0</td>\n",
       "      <td>32.0</td>\n",
       "      <td>38.0</td>\n",
       "      <td>4.0</td>\n",
       "      <td>14.0</td>\n",
       "      <td>26.0</td>\n",
       "      <td>10.0</td>\n",
       "      <td>40.0</td>\n",
       "      <td>40.0</td>\n",
       "      <td>26.0</td>\n",
       "      <td>22.0</td>\n",
       "    </tr>\n",
       "    <tr>\n",
       "      <th>1</th>\n",
       "      <td>40.0</td>\n",
       "      <td>34.0</td>\n",
       "      <td>90.0</td>\n",
       "      <td>78.0</td>\n",
       "      <td>94.0</td>\n",
       "      <td>14.0</td>\n",
       "      <td>32.0</td>\n",
       "      <td>54.0</td>\n",
       "      <td>56.0</td>\n",
       "      <td>84.0</td>\n",
       "      <td>88.0</td>\n",
       "      <td>44.0</td>\n",
       "      <td>78.0</td>\n",
       "    </tr>\n",
       "    <tr>\n",
       "      <th>2</th>\n",
       "      <td>74.0</td>\n",
       "      <td>48.0</td>\n",
       "      <td>82.0</td>\n",
       "      <td>74.0</td>\n",
       "      <td>90.0</td>\n",
       "      <td>32.0</td>\n",
       "      <td>68.0</td>\n",
       "      <td>46.0</td>\n",
       "      <td>52.0</td>\n",
       "      <td>74.0</td>\n",
       "      <td>70.0</td>\n",
       "      <td>94.0</td>\n",
       "      <td>82.0</td>\n",
       "    </tr>\n",
       "    <tr>\n",
       "      <th>3</th>\n",
       "      <td>24.0</td>\n",
       "      <td>26.0</td>\n",
       "      <td>64.0</td>\n",
       "      <td>68.0</td>\n",
       "      <td>64.0</td>\n",
       "      <td>16.0</td>\n",
       "      <td>42.0</td>\n",
       "      <td>48.0</td>\n",
       "      <td>28.0</td>\n",
       "      <td>42.0</td>\n",
       "      <td>54.0</td>\n",
       "      <td>60.0</td>\n",
       "      <td>60.0</td>\n",
       "    </tr>\n",
       "    <tr>\n",
       "      <th>4</th>\n",
       "      <td>72.0</td>\n",
       "      <td>58.0</td>\n",
       "      <td>84.0</td>\n",
       "      <td>64.0</td>\n",
       "      <td>86.0</td>\n",
       "      <td>34.0</td>\n",
       "      <td>58.0</td>\n",
       "      <td>56.0</td>\n",
       "      <td>56.0</td>\n",
       "      <td>82.0</td>\n",
       "      <td>58.0</td>\n",
       "      <td>64.0</td>\n",
       "      <td>90.0</td>\n",
       "    </tr>\n",
       "  </tbody>\n",
       "</table>\n",
       "</div>"
      ],
      "text/plain": [
       "   crime_money  crime_kidnaps_arrests_assaults  infra_government_specific  \\\n",
       "0         22.0                            14.0                       42.0   \n",
       "1         40.0                            34.0                       90.0   \n",
       "2         74.0                            48.0                       82.0   \n",
       "3         24.0                            26.0                       64.0   \n",
       "4         72.0                            58.0                       84.0   \n",
       "\n",
       "   infra_maintainance  crime_murder_suicides  infra_nagarpalika  \\\n",
       "0                32.0                   38.0                4.0   \n",
       "1                78.0                   94.0               14.0   \n",
       "2                74.0                   90.0               32.0   \n",
       "3                68.0                   64.0               16.0   \n",
       "4                64.0                   86.0               34.0   \n",
       "\n",
       "   lifestyle_studentlife  infra_developments  lifestyle_basiceminities  \\\n",
       "0                   14.0                26.0                      10.0   \n",
       "1                   32.0                54.0                      56.0   \n",
       "2                   68.0                46.0                      52.0   \n",
       "3                   42.0                48.0                      28.0   \n",
       "4                   58.0                56.0                      56.0   \n",
       "\n",
       "   infra_travel  lifestyle_medical  lifestyle_commonpeople  infra_tourists  \n",
       "0          40.0               40.0                    26.0            22.0  \n",
       "1          84.0               88.0                    44.0            78.0  \n",
       "2          74.0               70.0                    94.0            82.0  \n",
       "3          42.0               54.0                    60.0            60.0  \n",
       "4          82.0               58.0                    64.0            90.0  "
      ]
     },
     "execution_count": 48,
     "metadata": {},
     "output_type": "execute_result"
    }
   ],
   "source": [
    "db.head()"
   ]
  },
  {
   "cell_type": "code",
   "execution_count": 49,
   "metadata": {},
   "outputs": [],
   "source": [
    "db.to_csv(\"monthsd.csv\",index=False)"
   ]
  },
  {
   "cell_type": "code",
   "execution_count": null,
   "metadata": {},
   "outputs": [],
   "source": []
  }
 ],
 "metadata": {
  "kernelspec": {
   "display_name": "Python 3",
   "language": "python",
   "name": "python3"
  },
  "language_info": {
   "codemirror_mode": {
    "name": "ipython",
    "version": 3
   },
   "file_extension": ".py",
   "mimetype": "text/x-python",
   "name": "python",
   "nbconvert_exporter": "python",
   "pygments_lexer": "ipython3",
   "version": "3.7.3"
  }
 },
 "nbformat": 4,
 "nbformat_minor": 2
}
